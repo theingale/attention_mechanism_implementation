{
  "cells": [
    {
      "attachments": {},
      "cell_type": "markdown",
      "metadata": {
        "id": "fwPL0hIlGKoA"
      },
      "source": [
        "# <font color='red'>**Sequence to sequence implementation**</font>"
      ]
    },
    {
      "attachments": {},
      "cell_type": "markdown",
      "metadata": {
        "id": "QyfZo8fmLOec"
      },
      "source": [
        "## Task -1: Simple Encoder and Decoder\n",
        "Implement simple Encoder-Decoder model"
      ]
    },
    {
      "cell_type": "code",
      "execution_count": null,
      "metadata": {
        "id": "GW7uHtbaZCI5"
      },
      "outputs": [],
      "source": [
        "# Importing Necessary libraries\n",
        "import warnings\n",
        "warnings.filterwarnings(\"ignore\")\n",
        "import re\n",
        "from tqdm import tqdm\n",
        "import numpy as np\n",
        "import pandas as pd\n",
        "import tensorflow as tf"
      ]
    },
    {
      "attachments": {},
      "cell_type": "markdown",
      "metadata": {
        "id": "3k_AlAuKJqVA"
      },
      "source": [
        "<font color='blue'>**Load the data**</font>"
      ]
    },
    {
      "cell_type": "code",
      "execution_count": null,
      "metadata": {
        "colab": {
          "base_uri": "https://localhost:8080/"
        },
        "id": "abRdQtCHY3tz",
        "outputId": "9e2600b0-fde9-4c08-8ea4-fde2aefde307"
      },
      "outputs": [
        {
          "name": "stdout",
          "output_type": "stream",
          "text": [
            "--2022-08-02 03:20:18--  http://www.manythings.org/anki/ita-eng.zip\n",
            "Resolving www.manythings.org (www.manythings.org)... 173.254.30.110\n",
            "Connecting to www.manythings.org (www.manythings.org)|173.254.30.110|:80... connected.\n",
            "HTTP request sent, awaiting response... 200 OK\n",
            "Length: 7782544 (7.4M) [application/zip]\n",
            "Saving to: ‘ita-eng.zip’\n",
            "\n",
            "ita-eng.zip         100%[===================>]   7.42M  15.1MB/s    in 0.5s    \n",
            "\n",
            "2022-08-02 03:20:19 (15.1 MB/s) - ‘ita-eng.zip’ saved [7782544/7782544]\n",
            "\n",
            "Archive:  /content/ita-eng.zip\n",
            "  inflating: ita.txt                 \n",
            "  inflating: _about.txt              \n"
          ]
        }
      ],
      "source": [
        "# Downloading the data\n",
        "!wget http://www.manythings.org/anki/ita-eng.zip\n",
        "\n",
        "# Unzipping data file\n",
        "!unzip /content/ita-eng.zip"
      ]
    },
    {
      "cell_type": "code",
      "execution_count": null,
      "metadata": {
        "colab": {
          "base_uri": "https://localhost:8080/"
        },
        "id": "-P_VLMzEZjZF",
        "outputId": "1be5c368-619e-460e-aa30-34cda5968198"
      },
      "outputs": [
        {
          "name": "stdout",
          "output_type": "stream",
          "text": [
            "--2022-08-02 03:20:19--  https://www.dropbox.com/s/ddkmtqz01jc024u/glove.6B.100d.txt\n",
            "Resolving www.dropbox.com (www.dropbox.com)... 162.125.1.18, 2620:100:6016:18::a27d:112\n",
            "Connecting to www.dropbox.com (www.dropbox.com)|162.125.1.18|:443... connected.\n",
            "HTTP request sent, awaiting response... 301 Moved Permanently\n",
            "Location: /s/raw/ddkmtqz01jc024u/glove.6B.100d.txt [following]\n",
            "--2022-08-02 03:20:20--  https://www.dropbox.com/s/raw/ddkmtqz01jc024u/glove.6B.100d.txt\n",
            "Reusing existing connection to www.dropbox.com:443.\n",
            "HTTP request sent, awaiting response... 302 Found\n",
            "Location: https://uccd77ab961b129b195ee3b29f03.dl.dropboxusercontent.com/cd/0/inline/BqOizBShEe1-RHS2xc6mzE82CjjBnOK1BvFEVirDKnfnFtPNTLWdau2K6XVL-JuzIaNujVPq-uxK4ymN-opGR2NmipcV7q8Kk0l59_zrJy0Qs9x74zuR7nP3dWXtGRe0hUVhLojhg478UCQSvO8-2L8L7MuQ5ikgG3bR-sxq5jW_SA/file# [following]\n",
            "--2022-08-02 03:20:20--  https://uccd77ab961b129b195ee3b29f03.dl.dropboxusercontent.com/cd/0/inline/BqOizBShEe1-RHS2xc6mzE82CjjBnOK1BvFEVirDKnfnFtPNTLWdau2K6XVL-JuzIaNujVPq-uxK4ymN-opGR2NmipcV7q8Kk0l59_zrJy0Qs9x74zuR7nP3dWXtGRe0hUVhLojhg478UCQSvO8-2L8L7MuQ5ikgG3bR-sxq5jW_SA/file\n",
            "Resolving uccd77ab961b129b195ee3b29f03.dl.dropboxusercontent.com (uccd77ab961b129b195ee3b29f03.dl.dropboxusercontent.com)... 162.125.1.15, 2620:100:6021:15::a27d:410f\n",
            "Connecting to uccd77ab961b129b195ee3b29f03.dl.dropboxusercontent.com (uccd77ab961b129b195ee3b29f03.dl.dropboxusercontent.com)|162.125.1.15|:443... connected.\n",
            "HTTP request sent, awaiting response... 200 OK\n",
            "Length: 347116733 (331M) [text/plain]\n",
            "Saving to: ‘glove.6B.100d.txt’\n",
            "\n",
            "glove.6B.100d.txt   100%[===================>] 331.04M  69.1MB/s    in 4.7s    \n",
            "\n",
            "2022-08-02 03:20:26 (70.0 MB/s) - ‘glove.6B.100d.txt’ saved [347116733/347116733]\n",
            "\n"
          ]
        }
      ],
      "source": [
        "# Downloading Glove vectors\n",
        "!wget https://www.dropbox.com/s/ddkmtqz01jc024u/glove.6B.100d.txt"
      ]
    },
    {
      "cell_type": "code",
      "execution_count": null,
      "metadata": {
        "colab": {
          "base_uri": "https://localhost:8080/"
        },
        "id": "_YCBBsE6ZaJw",
        "outputId": "158ca6f0-69d6-492a-b9b3-711a33d1f27d"
      },
      "outputs": [
        {
          "name": "stdout",
          "output_type": "stream",
          "text": [
            "['Hi.\\tCiao!\\tCC-BY 2.0 (France) Attribution: tatoeba.org #538123 (CM) & #607364 (Cero)\\n', 'Hi.\\tCiao.\\tCC-BY 2.0 (France) Attribution: tatoeba.org #538123 (CM) & #4522287 (Guybrush88)\\n', 'Run!\\tCorri!\\tCC-BY 2.0 (France) Attribution: tatoeba.org #906328 (papabear) & #906347 (Guybrush88)\\n', 'Run!\\tCorra!\\tCC-BY 2.0 (France) Attribution: tatoeba.org #906328 (papabear) & #906348 (Guybrush88)\\n', 'Run!\\tCorrete!\\tCC-BY 2.0 (France) Attribution: tatoeba.org #906328 (papabear) & #906350 (Guybrush88)\\n']\n"
          ]
        }
      ],
      "source": [
        "with open('/content/ita.txt', 'r') as txt_file:\n",
        "    data_txt = txt_file.readlines()\n",
        "print(data_txt[0:5])"
      ]
    },
    {
      "cell_type": "code",
      "execution_count": null,
      "metadata": {
        "id": "fU80Ao-AGaob"
      },
      "outputs": [],
      "source": [
        "e = []\n",
        "t = []\n",
        "for s in data_txt:\n",
        "    s = s.split('\\t')\n",
        "    e.append(s[0])\n",
        "    t.append(s[1])\n",
        "\n",
        "data = {'english': e, 'italian': t}\n",
        "data = pd.DataFrame(data)\n",
        "data.to_csv('ita_dataframe.csv', index=False)"
      ]
    },
    {
      "cell_type": "code",
      "execution_count": null,
      "metadata": {
        "colab": {
          "base_uri": "https://localhost:8080/",
          "height": 206
        },
        "id": "qJI0lrG9cXMA",
        "outputId": "43c30854-7fed-4792-dfe6-15d1312cb32a"
      },
      "outputs": [
        {
          "data": {
            "text/html": [
              "\n",
              "  <div id=\"df-b2ba7db4-10f8-46ec-81b1-8b9eb725d46b\">\n",
              "    <div class=\"colab-df-container\">\n",
              "      <div>\n",
              "<style scoped>\n",
              "    .dataframe tbody tr th:only-of-type {\n",
              "        vertical-align: middle;\n",
              "    }\n",
              "\n",
              "    .dataframe tbody tr th {\n",
              "        vertical-align: top;\n",
              "    }\n",
              "\n",
              "    .dataframe thead th {\n",
              "        text-align: right;\n",
              "    }\n",
              "</style>\n",
              "<table border=\"1\" class=\"dataframe\">\n",
              "  <thead>\n",
              "    <tr style=\"text-align: right;\">\n",
              "      <th></th>\n",
              "      <th>english</th>\n",
              "      <th>italian</th>\n",
              "    </tr>\n",
              "  </thead>\n",
              "  <tbody>\n",
              "    <tr>\n",
              "      <th>0</th>\n",
              "      <td>Hi.</td>\n",
              "      <td>Ciao!</td>\n",
              "    </tr>\n",
              "    <tr>\n",
              "      <th>1</th>\n",
              "      <td>Hi.</td>\n",
              "      <td>Ciao.</td>\n",
              "    </tr>\n",
              "    <tr>\n",
              "      <th>2</th>\n",
              "      <td>Run!</td>\n",
              "      <td>Corri!</td>\n",
              "    </tr>\n",
              "    <tr>\n",
              "      <th>3</th>\n",
              "      <td>Run!</td>\n",
              "      <td>Corra!</td>\n",
              "    </tr>\n",
              "    <tr>\n",
              "      <th>4</th>\n",
              "      <td>Run!</td>\n",
              "      <td>Correte!</td>\n",
              "    </tr>\n",
              "  </tbody>\n",
              "</table>\n",
              "</div>\n",
              "      <button class=\"colab-df-convert\" onclick=\"convertToInteractive('df-b2ba7db4-10f8-46ec-81b1-8b9eb725d46b')\"\n",
              "              title=\"Convert this dataframe to an interactive table.\"\n",
              "              style=\"display:none;\">\n",
              "        \n",
              "  <svg xmlns=\"http://www.w3.org/2000/svg\" height=\"24px\"viewBox=\"0 0 24 24\"\n",
              "       width=\"24px\">\n",
              "    <path d=\"M0 0h24v24H0V0z\" fill=\"none\"/>\n",
              "    <path d=\"M18.56 5.44l.94 2.06.94-2.06 2.06-.94-2.06-.94-.94-2.06-.94 2.06-2.06.94zm-11 1L8.5 8.5l.94-2.06 2.06-.94-2.06-.94L8.5 2.5l-.94 2.06-2.06.94zm10 10l.94 2.06.94-2.06 2.06-.94-2.06-.94-.94-2.06-.94 2.06-2.06.94z\"/><path d=\"M17.41 7.96l-1.37-1.37c-.4-.4-.92-.59-1.43-.59-.52 0-1.04.2-1.43.59L10.3 9.45l-7.72 7.72c-.78.78-.78 2.05 0 2.83L4 21.41c.39.39.9.59 1.41.59.51 0 1.02-.2 1.41-.59l7.78-7.78 2.81-2.81c.8-.78.8-2.07 0-2.86zM5.41 20L4 18.59l7.72-7.72 1.47 1.35L5.41 20z\"/>\n",
              "  </svg>\n",
              "      </button>\n",
              "      \n",
              "  <style>\n",
              "    .colab-df-container {\n",
              "      display:flex;\n",
              "      flex-wrap:wrap;\n",
              "      gap: 12px;\n",
              "    }\n",
              "\n",
              "    .colab-df-convert {\n",
              "      background-color: #E8F0FE;\n",
              "      border: none;\n",
              "      border-radius: 50%;\n",
              "      cursor: pointer;\n",
              "      display: none;\n",
              "      fill: #1967D2;\n",
              "      height: 32px;\n",
              "      padding: 0 0 0 0;\n",
              "      width: 32px;\n",
              "    }\n",
              "\n",
              "    .colab-df-convert:hover {\n",
              "      background-color: #E2EBFA;\n",
              "      box-shadow: 0px 1px 2px rgba(60, 64, 67, 0.3), 0px 1px 3px 1px rgba(60, 64, 67, 0.15);\n",
              "      fill: #174EA6;\n",
              "    }\n",
              "\n",
              "    [theme=dark] .colab-df-convert {\n",
              "      background-color: #3B4455;\n",
              "      fill: #D2E3FC;\n",
              "    }\n",
              "\n",
              "    [theme=dark] .colab-df-convert:hover {\n",
              "      background-color: #434B5C;\n",
              "      box-shadow: 0px 1px 3px 1px rgba(0, 0, 0, 0.15);\n",
              "      filter: drop-shadow(0px 1px 2px rgba(0, 0, 0, 0.3));\n",
              "      fill: #FFFFFF;\n",
              "    }\n",
              "  </style>\n",
              "\n",
              "      <script>\n",
              "        const buttonEl =\n",
              "          document.querySelector('#df-b2ba7db4-10f8-46ec-81b1-8b9eb725d46b button.colab-df-convert');\n",
              "        buttonEl.style.display =\n",
              "          google.colab.kernel.accessAllowed ? 'block' : 'none';\n",
              "\n",
              "        async function convertToInteractive(key) {\n",
              "          const element = document.querySelector('#df-b2ba7db4-10f8-46ec-81b1-8b9eb725d46b');\n",
              "          const dataTable =\n",
              "            await google.colab.kernel.invokeFunction('convertToInteractive',\n",
              "                                                     [key], {});\n",
              "          if (!dataTable) return;\n",
              "\n",
              "          const docLinkHtml = 'Like what you see? Visit the ' +\n",
              "            '<a target=\"_blank\" href=https://colab.research.google.com/notebooks/data_table.ipynb>data table notebook</a>'\n",
              "            + ' to learn more about interactive tables.';\n",
              "          element.innerHTML = '';\n",
              "          dataTable['output_type'] = 'display_data';\n",
              "          await google.colab.output.renderOutput(dataTable, element);\n",
              "          const docLink = document.createElement('div');\n",
              "          docLink.innerHTML = docLinkHtml;\n",
              "          element.appendChild(docLink);\n",
              "        }\n",
              "      </script>\n",
              "    </div>\n",
              "  </div>\n",
              "  "
            ],
            "text/plain": [
              "  english   italian\n",
              "0     Hi.     Ciao!\n",
              "1     Hi.     Ciao.\n",
              "2    Run!    Corri!\n",
              "3    Run!    Corra!\n",
              "4    Run!  Correte!"
            ]
          },
          "execution_count": 6,
          "metadata": {},
          "output_type": "execute_result"
        }
      ],
      "source": [
        "data.head()"
      ]
    },
    {
      "attachments": {},
      "cell_type": "markdown",
      "metadata": {
        "id": "vmGWTdRmKRph"
      },
      "source": [
        "<font color='blue'>**Preprocess data**</font>"
      ]
    },
    {
      "cell_type": "code",
      "execution_count": null,
      "metadata": {
        "colab": {
          "base_uri": "https://localhost:8080/",
          "height": 206
        },
        "id": "9QqElB_nKZos",
        "outputId": "7cb452e5-3610-4e19-855a-aa8d6de2249d"
      },
      "outputs": [
        {
          "data": {
            "text/html": [
              "\n",
              "  <div id=\"df-1676f08f-371f-42d5-9300-e141741273d6\">\n",
              "    <div class=\"colab-df-container\">\n",
              "      <div>\n",
              "<style scoped>\n",
              "    .dataframe tbody tr th:only-of-type {\n",
              "        vertical-align: middle;\n",
              "    }\n",
              "\n",
              "    .dataframe tbody tr th {\n",
              "        vertical-align: top;\n",
              "    }\n",
              "\n",
              "    .dataframe thead th {\n",
              "        text-align: right;\n",
              "    }\n",
              "</style>\n",
              "<table border=\"1\" class=\"dataframe\">\n",
              "  <thead>\n",
              "    <tr style=\"text-align: right;\">\n",
              "      <th></th>\n",
              "      <th>english</th>\n",
              "      <th>italian</th>\n",
              "    </tr>\n",
              "  </thead>\n",
              "  <tbody>\n",
              "    <tr>\n",
              "      <th>0</th>\n",
              "      <td>hi</td>\n",
              "      <td>ciao</td>\n",
              "    </tr>\n",
              "    <tr>\n",
              "      <th>1</th>\n",
              "      <td>hi</td>\n",
              "      <td>ciao</td>\n",
              "    </tr>\n",
              "    <tr>\n",
              "      <th>2</th>\n",
              "      <td>run</td>\n",
              "      <td>corri</td>\n",
              "    </tr>\n",
              "    <tr>\n",
              "      <th>3</th>\n",
              "      <td>run</td>\n",
              "      <td>corra</td>\n",
              "    </tr>\n",
              "    <tr>\n",
              "      <th>4</th>\n",
              "      <td>run</td>\n",
              "      <td>correte</td>\n",
              "    </tr>\n",
              "  </tbody>\n",
              "</table>\n",
              "</div>\n",
              "      <button class=\"colab-df-convert\" onclick=\"convertToInteractive('df-1676f08f-371f-42d5-9300-e141741273d6')\"\n",
              "              title=\"Convert this dataframe to an interactive table.\"\n",
              "              style=\"display:none;\">\n",
              "        \n",
              "  <svg xmlns=\"http://www.w3.org/2000/svg\" height=\"24px\"viewBox=\"0 0 24 24\"\n",
              "       width=\"24px\">\n",
              "    <path d=\"M0 0h24v24H0V0z\" fill=\"none\"/>\n",
              "    <path d=\"M18.56 5.44l.94 2.06.94-2.06 2.06-.94-2.06-.94-.94-2.06-.94 2.06-2.06.94zm-11 1L8.5 8.5l.94-2.06 2.06-.94-2.06-.94L8.5 2.5l-.94 2.06-2.06.94zm10 10l.94 2.06.94-2.06 2.06-.94-2.06-.94-.94-2.06-.94 2.06-2.06.94z\"/><path d=\"M17.41 7.96l-1.37-1.37c-.4-.4-.92-.59-1.43-.59-.52 0-1.04.2-1.43.59L10.3 9.45l-7.72 7.72c-.78.78-.78 2.05 0 2.83L4 21.41c.39.39.9.59 1.41.59.51 0 1.02-.2 1.41-.59l7.78-7.78 2.81-2.81c.8-.78.8-2.07 0-2.86zM5.41 20L4 18.59l7.72-7.72 1.47 1.35L5.41 20z\"/>\n",
              "  </svg>\n",
              "      </button>\n",
              "      \n",
              "  <style>\n",
              "    .colab-df-container {\n",
              "      display:flex;\n",
              "      flex-wrap:wrap;\n",
              "      gap: 12px;\n",
              "    }\n",
              "\n",
              "    .colab-df-convert {\n",
              "      background-color: #E8F0FE;\n",
              "      border: none;\n",
              "      border-radius: 50%;\n",
              "      cursor: pointer;\n",
              "      display: none;\n",
              "      fill: #1967D2;\n",
              "      height: 32px;\n",
              "      padding: 0 0 0 0;\n",
              "      width: 32px;\n",
              "    }\n",
              "\n",
              "    .colab-df-convert:hover {\n",
              "      background-color: #E2EBFA;\n",
              "      box-shadow: 0px 1px 2px rgba(60, 64, 67, 0.3), 0px 1px 3px 1px rgba(60, 64, 67, 0.15);\n",
              "      fill: #174EA6;\n",
              "    }\n",
              "\n",
              "    [theme=dark] .colab-df-convert {\n",
              "      background-color: #3B4455;\n",
              "      fill: #D2E3FC;\n",
              "    }\n",
              "\n",
              "    [theme=dark] .colab-df-convert:hover {\n",
              "      background-color: #434B5C;\n",
              "      box-shadow: 0px 1px 3px 1px rgba(0, 0, 0, 0.15);\n",
              "      filter: drop-shadow(0px 1px 2px rgba(0, 0, 0, 0.3));\n",
              "      fill: #FFFFFF;\n",
              "    }\n",
              "  </style>\n",
              "\n",
              "      <script>\n",
              "        const buttonEl =\n",
              "          document.querySelector('#df-1676f08f-371f-42d5-9300-e141741273d6 button.colab-df-convert');\n",
              "        buttonEl.style.display =\n",
              "          google.colab.kernel.accessAllowed ? 'block' : 'none';\n",
              "\n",
              "        async function convertToInteractive(key) {\n",
              "          const element = document.querySelector('#df-1676f08f-371f-42d5-9300-e141741273d6');\n",
              "          const dataTable =\n",
              "            await google.colab.kernel.invokeFunction('convertToInteractive',\n",
              "                                                     [key], {});\n",
              "          if (!dataTable) return;\n",
              "\n",
              "          const docLinkHtml = 'Like what you see? Visit the ' +\n",
              "            '<a target=\"_blank\" href=https://colab.research.google.com/notebooks/data_table.ipynb>data table notebook</a>'\n",
              "            + ' to learn more about interactive tables.';\n",
              "          element.innerHTML = '';\n",
              "          dataTable['output_type'] = 'display_data';\n",
              "          await google.colab.output.renderOutput(dataTable, element);\n",
              "          const docLink = document.createElement('div');\n",
              "          docLink.innerHTML = docLinkHtml;\n",
              "          element.appendChild(docLink);\n",
              "        }\n",
              "      </script>\n",
              "    </div>\n",
              "  </div>\n",
              "  "
            ],
            "text/plain": [
              "  english  italian\n",
              "0      hi     ciao\n",
              "1      hi     ciao\n",
              "2     run    corri\n",
              "3     run    corra\n",
              "4     run  correte"
            ]
          },
          "execution_count": 7,
          "metadata": {},
          "output_type": "execute_result"
        }
      ],
      "source": [
        "def decontractions(phrase):\n",
        "    \"\"\"decontracted takes text and convert contractions into natural form.\n",
        "     ref: https://stackoverflow.com/questions/19790188/expanding-english-language-contractions-in-python/47091490#47091490\"\"\"\n",
        "    # specific\n",
        "    phrase = re.sub(r\"won\\'t\", \"will not\", phrase)\n",
        "    phrase = re.sub(r\"can\\'t\", \"can not\", phrase)\n",
        "    phrase = re.sub(r\"won\\’t\", \"will not\", phrase)\n",
        "    phrase = re.sub(r\"can\\’t\", \"can not\", phrase)\n",
        "\n",
        "    # general\n",
        "    phrase = re.sub(r\"n\\'t\", \" not\", phrase)\n",
        "    phrase = re.sub(r\"\\'re\", \" are\", phrase)\n",
        "    phrase = re.sub(r\"\\'s\", \" is\", phrase)\n",
        "    phrase = re.sub(r\"\\'d\", \" would\", phrase)\n",
        "    phrase = re.sub(r\"\\'ll\", \" will\", phrase)\n",
        "    phrase = re.sub(r\"\\'t\", \" not\", phrase)\n",
        "    phrase = re.sub(r\"\\'ve\", \" have\", phrase)\n",
        "    phrase = re.sub(r\"\\'m\", \" am\", phrase)\n",
        "\n",
        "    phrase = re.sub(r\"n\\’t\", \" not\", phrase)\n",
        "    phrase = re.sub(r\"\\’re\", \" are\", phrase)\n",
        "    phrase = re.sub(r\"\\’s\", \" is\", phrase)\n",
        "    phrase = re.sub(r\"\\’d\", \" would\", phrase)\n",
        "    phrase = re.sub(r\"\\’ll\", \" will\", phrase)\n",
        "    phrase = re.sub(r\"\\’t\", \" not\", phrase)\n",
        "    phrase = re.sub(r\"\\’ve\", \" have\", phrase)\n",
        "    phrase = re.sub(r\"\\’m\", \" am\", phrase)\n",
        "\n",
        "    return phrase\n",
        "\n",
        "def preprocess(text):\n",
        "    # convert all the text into lower letters\n",
        "    # use this function to remove the contractions: https://gist.github.com/anandborad/d410a49a493b56dace4f814ab5325bbd\n",
        "    # remove all the spacial characters: except space ' '\n",
        "    text = text.lower()\n",
        "    text = decontractions(text)\n",
        "    text = re.sub('[^A-Za-z0-9 ]+', '', text)\n",
        "    return text\n",
        "\n",
        "def preprocess_ita(text):\n",
        "    # convert all the text into lower letters\n",
        "    # remove the words betweent brakets ()\n",
        "    # remove these characters: {'$', ')', '?', '\"', '’', '.',  '°', '!', ';', '/', \"'\", '€', '%', ':', ',', '('}\n",
        "    # replace these spl characters with space: '\\u200b', '\\xa0', '-', '/'\n",
        "    # we have found these characters after observing the data points, feel free to explore more and see if you can do find more\n",
        "    # you are free to do more proprocessing\n",
        "    # note that the model will learn better with better preprocessed data \n",
        "    \n",
        "    text = text.lower()\n",
        "    text = decontractions(text)\n",
        "    text = re.sub('[$)\\?\"’.°!;\\'€%:,(/]', '', text)\n",
        "    text = re.sub('\\u200b', ' ', text)\n",
        "    text = re.sub('\\xa0', ' ', text)\n",
        "    text = re.sub('-', ' ', text)\n",
        "    return text\n",
        "\n",
        "\n",
        "data['english'] = data['english'].apply(preprocess)\n",
        "data['italian'] = data['italian'].apply(preprocess_ita)\n",
        "data.head()"
      ]
    },
    {
      "cell_type": "code",
      "execution_count": null,
      "metadata": {
        "colab": {
          "base_uri": "https://localhost:8080/"
        },
        "id": "Y0W9bNBIL97O",
        "outputId": "431191e7-dcaf-401b-ad82-950235053f22"
      },
      "outputs": [
        {
          "name": "stdout",
          "output_type": "stream",
          "text": [
            "Italian sentences length percentiles: \n",
            "------------------------------------------------------------\n",
            "90th percentile of sentence length: 8.0\n",
            "91th percentile of sentence length: 8.0\n",
            "92th percentile of sentence length: 8.0\n",
            "93th percentile of sentence length: 9.0\n",
            "94th percentile of sentence length: 9.0\n",
            "95th percentile of sentence length: 9.0\n",
            "96th percentile of sentence length: 9.0\n",
            "97th percentile of sentence length: 10.0\n",
            "98th percentile of sentence length: 11.0\n",
            "99th percentile of sentence length: 12.0\n",
            "100th percentile of sentence length: 92.0\n",
            "\n",
            "\n",
            "99.1th percentile of sentence length: 12.0\n",
            "99.2th percentile of sentence length: 12.0\n",
            "99.3th percentile of sentence length: 13.0\n",
            "99.4th percentile of sentence length: 13.0\n",
            "99.5th percentile of sentence length: 13.0\n",
            "99.6th percentile of sentence length: 14.0\n",
            "99.7th percentile of sentence length: 15.0\n",
            "99.8th percentile of sentence length: 16.0\n",
            "99.9th percentile of sentence length: 22.0\n",
            "100th percentile of sentence length: 92.0\n",
            "\n",
            "\n",
            "\n",
            "\n",
            "English sentences length percentiles: \n",
            "------------------------------------------------------------\n",
            "90th percentile of sentence length: 8.0\n",
            "91th percentile of sentence length: 9.0\n",
            "92th percentile of sentence length: 9.0\n",
            "93th percentile of sentence length: 9.0\n",
            "94th percentile of sentence length: 9.0\n",
            "95th percentile of sentence length: 9.0\n",
            "96th percentile of sentence length: 10.0\n",
            "97th percentile of sentence length: 10.0\n",
            "98th percentile of sentence length: 11.0\n",
            "99th percentile of sentence length: 12.0\n",
            "100th percentile of sentence length: 101.0\n",
            "\n",
            "\n",
            "99.1th percentile of sentence length: 12.0\n",
            "99.2th percentile of sentence length: 13.0\n",
            "99.3th percentile of sentence length: 13.0\n",
            "99.4th percentile of sentence length: 13.0\n",
            "99.5th percentile of sentence length: 14.0\n",
            "99.6th percentile of sentence length: 14.0\n",
            "99.7th percentile of sentence length: 15.0\n",
            "99.8th percentile of sentence length: 16.0\n",
            "99.9th percentile of sentence length: 25.0\n",
            "100th percentile of sentence length: 101.0\n"
          ]
        }
      ],
      "source": [
        "# Checking percentile values for lengths of italian and english sentences\n",
        "ita_lens = data['italian'].str.split().apply(len)\n",
        "eng_lens = data['english'].str.split().apply(len)\n",
        "\n",
        "print(\"Italian sentences length percentiles: \")\n",
        "print(\"-\"*60)\n",
        "for i in range(90,101):\n",
        "    print(f\"{i}th percentile of sentence length: {np.percentile(ita_lens, i)}\")\n",
        "print(\"\\n\")\n",
        "for i in [99.1, 99.2, 99.3, 99.4, 99.5, 99.6, 99.7, 99.8, 99.9, 100]:\n",
        "    print(f\"{i}th percentile of sentence length: {np.percentile(ita_lens, i)}\")\n",
        "\n",
        "print(\"\\n\")\n",
        "print(\"\\n\")\n",
        "\n",
        "print(\"English sentences length percentiles: \")\n",
        "print(\"-\"*60)\n",
        "for i in range(90,101):\n",
        "    print(f\"{i}th percentile of sentence length: {np.percentile(eng_lens, i)}\")\n",
        "print(\"\\n\")\n",
        "for i in [99.1, 99.2, 99.3, 99.4, 99.5, 99.6, 99.7, 99.8, 99.9, 100]:\n",
        "    print(f\"{i}th percentile of sentence length: {np.percentile(eng_lens, i)}\")"
      ]
    },
    {
      "attachments": {},
      "cell_type": "markdown",
      "metadata": {
        "id": "9rKgEDrbQgrZ"
      },
      "source": [
        "**99.9% of Italian sentences have length less than 22 and 99.9% of English sentences have length less than 25 hence selecting sentences with length < 25**"
      ]
    },
    {
      "cell_type": "code",
      "execution_count": null,
      "metadata": {
        "id": "2VeY0fCpFU5T"
      },
      "outputs": [],
      "source": [
        "maxlen = 25"
      ]
    },
    {
      "cell_type": "code",
      "execution_count": null,
      "metadata": {
        "colab": {
          "base_uri": "https://localhost:8080/"
        },
        "id": "gcIf9jzvRgKr",
        "outputId": "795439ad-a81b-4f16-f14b-244ac287d78c"
      },
      "outputs": [
        {
          "name": "stdout",
          "output_type": "stream",
          "text": [
            "Data shape before dropping sentences > 25 : (354238, 2)\n",
            "Data shape after dropping sentences > 25 : (353856, 2)\n"
          ]
        }
      ],
      "source": [
        "print(f\"Data shape before dropping sentences > 25 : {data.shape}\")\n",
        "\n",
        "data['ita_lens'] = data['italian'].str.split().apply(len)\n",
        "data = data[data['ita_lens'] < 25]\n",
        "data = data.drop(['ita_lens'], axis=1)\n",
        "\n",
        "data['eng_lens'] = data['english'].str.split().apply(len)\n",
        "data = data[data['eng_lens'] < 25]\n",
        "data = data.drop(['eng_lens'], axis=1)\n",
        "\n",
        "print(f\"Data shape after dropping sentences > 25 : {data.shape}\")"
      ]
    },
    {
      "cell_type": "code",
      "execution_count": null,
      "metadata": {
        "id": "kQfBg687iSj0"
      },
      "outputs": [],
      "source": [
        "# Adding special tokens <start> <end>\n",
        "data['italian_inp'] = '<start> ' + data['italian'] + ' <end>'\n",
        "data['english_inp'] = '<start> ' + data['english']\n",
        "data['english_out'] = data['english'] + ' <end>'\n",
        "\n",
        "data = data.drop(['english', 'italian'], axis=1)"
      ]
    },
    {
      "cell_type": "code",
      "execution_count": null,
      "metadata": {
        "colab": {
          "base_uri": "https://localhost:8080/",
          "height": 206
        },
        "id": "5ayHaCq_K1Ua",
        "outputId": "f4ef7dc0-24d6-46d7-9f03-ea461ac44033"
      },
      "outputs": [
        {
          "data": {
            "text/html": [
              "\n",
              "  <div id=\"df-3b15b1c5-0723-4eb2-9763-8e2531f574ab\">\n",
              "    <div class=\"colab-df-container\">\n",
              "      <div>\n",
              "<style scoped>\n",
              "    .dataframe tbody tr th:only-of-type {\n",
              "        vertical-align: middle;\n",
              "    }\n",
              "\n",
              "    .dataframe tbody tr th {\n",
              "        vertical-align: top;\n",
              "    }\n",
              "\n",
              "    .dataframe thead th {\n",
              "        text-align: right;\n",
              "    }\n",
              "</style>\n",
              "<table border=\"1\" class=\"dataframe\">\n",
              "  <thead>\n",
              "    <tr style=\"text-align: right;\">\n",
              "      <th></th>\n",
              "      <th>italian_inp</th>\n",
              "      <th>english_inp</th>\n",
              "      <th>english_out</th>\n",
              "    </tr>\n",
              "  </thead>\n",
              "  <tbody>\n",
              "    <tr>\n",
              "      <th>34905</th>\n",
              "      <td>&lt;start&gt; non disturbarmi &lt;end&gt;</td>\n",
              "      <td>&lt;start&gt; do not disturb me</td>\n",
              "      <td>do not disturb me &lt;end&gt;</td>\n",
              "    </tr>\n",
              "    <tr>\n",
              "      <th>79493</th>\n",
              "      <td>&lt;start&gt; è stato preso qualcosa &lt;end&gt;</td>\n",
              "      <td>&lt;start&gt; something was taken</td>\n",
              "      <td>something was taken &lt;end&gt;</td>\n",
              "    </tr>\n",
              "    <tr>\n",
              "      <th>221852</th>\n",
              "      <td>&lt;start&gt; tom non voleva andare in guerra &lt;end&gt;</td>\n",
              "      <td>&lt;start&gt; tom did not want to go to war</td>\n",
              "      <td>tom did not want to go to war &lt;end&gt;</td>\n",
              "    </tr>\n",
              "    <tr>\n",
              "      <th>338163</th>\n",
              "      <td>&lt;start&gt; tom è impegnato a preparare dei sandwi...</td>\n",
              "      <td>&lt;start&gt; tom is busy making sandwiches in the k...</td>\n",
              "      <td>tom is busy making sandwiches in the kitchen &lt;...</td>\n",
              "    </tr>\n",
              "    <tr>\n",
              "      <th>328406</th>\n",
              "      <td>&lt;start&gt; quante persone sono venute allo zoo ie...</td>\n",
              "      <td>&lt;start&gt; how many people came to the zoo yesterday</td>\n",
              "      <td>how many people came to the zoo yesterday &lt;end&gt;</td>\n",
              "    </tr>\n",
              "  </tbody>\n",
              "</table>\n",
              "</div>\n",
              "      <button class=\"colab-df-convert\" onclick=\"convertToInteractive('df-3b15b1c5-0723-4eb2-9763-8e2531f574ab')\"\n",
              "              title=\"Convert this dataframe to an interactive table.\"\n",
              "              style=\"display:none;\">\n",
              "        \n",
              "  <svg xmlns=\"http://www.w3.org/2000/svg\" height=\"24px\"viewBox=\"0 0 24 24\"\n",
              "       width=\"24px\">\n",
              "    <path d=\"M0 0h24v24H0V0z\" fill=\"none\"/>\n",
              "    <path d=\"M18.56 5.44l.94 2.06.94-2.06 2.06-.94-2.06-.94-.94-2.06-.94 2.06-2.06.94zm-11 1L8.5 8.5l.94-2.06 2.06-.94-2.06-.94L8.5 2.5l-.94 2.06-2.06.94zm10 10l.94 2.06.94-2.06 2.06-.94-2.06-.94-.94-2.06-.94 2.06-2.06.94z\"/><path d=\"M17.41 7.96l-1.37-1.37c-.4-.4-.92-.59-1.43-.59-.52 0-1.04.2-1.43.59L10.3 9.45l-7.72 7.72c-.78.78-.78 2.05 0 2.83L4 21.41c.39.39.9.59 1.41.59.51 0 1.02-.2 1.41-.59l7.78-7.78 2.81-2.81c.8-.78.8-2.07 0-2.86zM5.41 20L4 18.59l7.72-7.72 1.47 1.35L5.41 20z\"/>\n",
              "  </svg>\n",
              "      </button>\n",
              "      \n",
              "  <style>\n",
              "    .colab-df-container {\n",
              "      display:flex;\n",
              "      flex-wrap:wrap;\n",
              "      gap: 12px;\n",
              "    }\n",
              "\n",
              "    .colab-df-convert {\n",
              "      background-color: #E8F0FE;\n",
              "      border: none;\n",
              "      border-radius: 50%;\n",
              "      cursor: pointer;\n",
              "      display: none;\n",
              "      fill: #1967D2;\n",
              "      height: 32px;\n",
              "      padding: 0 0 0 0;\n",
              "      width: 32px;\n",
              "    }\n",
              "\n",
              "    .colab-df-convert:hover {\n",
              "      background-color: #E2EBFA;\n",
              "      box-shadow: 0px 1px 2px rgba(60, 64, 67, 0.3), 0px 1px 3px 1px rgba(60, 64, 67, 0.15);\n",
              "      fill: #174EA6;\n",
              "    }\n",
              "\n",
              "    [theme=dark] .colab-df-convert {\n",
              "      background-color: #3B4455;\n",
              "      fill: #D2E3FC;\n",
              "    }\n",
              "\n",
              "    [theme=dark] .colab-df-convert:hover {\n",
              "      background-color: #434B5C;\n",
              "      box-shadow: 0px 1px 3px 1px rgba(0, 0, 0, 0.15);\n",
              "      filter: drop-shadow(0px 1px 2px rgba(0, 0, 0, 0.3));\n",
              "      fill: #FFFFFF;\n",
              "    }\n",
              "  </style>\n",
              "\n",
              "      <script>\n",
              "        const buttonEl =\n",
              "          document.querySelector('#df-3b15b1c5-0723-4eb2-9763-8e2531f574ab button.colab-df-convert');\n",
              "        buttonEl.style.display =\n",
              "          google.colab.kernel.accessAllowed ? 'block' : 'none';\n",
              "\n",
              "        async function convertToInteractive(key) {\n",
              "          const element = document.querySelector('#df-3b15b1c5-0723-4eb2-9763-8e2531f574ab');\n",
              "          const dataTable =\n",
              "            await google.colab.kernel.invokeFunction('convertToInteractive',\n",
              "                                                     [key], {});\n",
              "          if (!dataTable) return;\n",
              "\n",
              "          const docLinkHtml = 'Like what you see? Visit the ' +\n",
              "            '<a target=\"_blank\" href=https://colab.research.google.com/notebooks/data_table.ipynb>data table notebook</a>'\n",
              "            + ' to learn more about interactive tables.';\n",
              "          element.innerHTML = '';\n",
              "          dataTable['output_type'] = 'display_data';\n",
              "          await google.colab.output.renderOutput(dataTable, element);\n",
              "          const docLink = document.createElement('div');\n",
              "          docLink.innerHTML = docLinkHtml;\n",
              "          element.appendChild(docLink);\n",
              "        }\n",
              "      </script>\n",
              "    </div>\n",
              "  </div>\n",
              "  "
            ],
            "text/plain": [
              "                                              italian_inp  \\\n",
              "34905                       <start> non disturbarmi <end>   \n",
              "79493                <start> è stato preso qualcosa <end>   \n",
              "221852      <start> tom non voleva andare in guerra <end>   \n",
              "338163  <start> tom è impegnato a preparare dei sandwi...   \n",
              "328406  <start> quante persone sono venute allo zoo ie...   \n",
              "\n",
              "                                              english_inp  \\\n",
              "34905                           <start> do not disturb me   \n",
              "79493                         <start> something was taken   \n",
              "221852              <start> tom did not want to go to war   \n",
              "338163  <start> tom is busy making sandwiches in the k...   \n",
              "328406  <start> how many people came to the zoo yesterday   \n",
              "\n",
              "                                              english_out  \n",
              "34905                             do not disturb me <end>  \n",
              "79493                           something was taken <end>  \n",
              "221852                tom did not want to go to war <end>  \n",
              "338163  tom is busy making sandwiches in the kitchen <...  \n",
              "328406    how many people came to the zoo yesterday <end>  "
            ]
          },
          "execution_count": 12,
          "metadata": {},
          "output_type": "execute_result"
        }
      ],
      "source": [
        "data.sample(5)"
      ]
    },
    {
      "attachments": {},
      "cell_type": "markdown",
      "metadata": {
        "id": "7M3yi7ixUuKm"
      },
      "source": [
        "## Train - Test Split"
      ]
    },
    {
      "cell_type": "code",
      "execution_count": null,
      "metadata": {
        "colab": {
          "base_uri": "https://localhost:8080/"
        },
        "id": "ti7ol6LVUtLp",
        "outputId": "b0b9543f-3ba7-46b4-c8ce-670b9cadcfc4"
      },
      "outputs": [
        {
          "name": "stdout",
          "output_type": "stream",
          "text": [
            "Train shape: (283084, 3)\n",
            "Validation shape: (70772, 3)\n"
          ]
        }
      ],
      "source": [
        "from sklearn.model_selection import train_test_split\n",
        "train, validation = train_test_split(data, test_size=0.2, random_state=33)\n",
        "print(f\"Train shape: {train.shape}\")\n",
        "print(f\"Validation shape: {validation.shape}\")"
      ]
    },
    {
      "cell_type": "code",
      "execution_count": null,
      "metadata": {
        "id": "71_A-oFjV4IW"
      },
      "outputs": [],
      "source": [
        "# Adding token <end> for first entry in train english_inp so that our tokenizer\n",
        "# could learn that word and we can use same tokenizer for both english_inp and english_out\n",
        "train.iloc[0]['english_inp'] = str(train.iloc[0]['english_inp'])+' <end>'"
      ]
    },
    {
      "cell_type": "code",
      "execution_count": null,
      "metadata": {
        "colab": {
          "base_uri": "https://localhost:8080/",
          "height": 143
        },
        "id": "mo1ec-iJgCx7",
        "outputId": "72a9c436-2d67-4c82-c912-d595845da8be"
      },
      "outputs": [
        {
          "data": {
            "text/html": [
              "\n",
              "  <div id=\"df-db733edb-2b2b-432a-9ba0-f07b5bd1773c\">\n",
              "    <div class=\"colab-df-container\">\n",
              "      <div>\n",
              "<style scoped>\n",
              "    .dataframe tbody tr th:only-of-type {\n",
              "        vertical-align: middle;\n",
              "    }\n",
              "\n",
              "    .dataframe tbody tr th {\n",
              "        vertical-align: top;\n",
              "    }\n",
              "\n",
              "    .dataframe thead th {\n",
              "        text-align: right;\n",
              "    }\n",
              "</style>\n",
              "<table border=\"1\" class=\"dataframe\">\n",
              "  <thead>\n",
              "    <tr style=\"text-align: right;\">\n",
              "      <th></th>\n",
              "      <th>italian_inp</th>\n",
              "      <th>english_inp</th>\n",
              "      <th>english_out</th>\n",
              "    </tr>\n",
              "  </thead>\n",
              "  <tbody>\n",
              "    <tr>\n",
              "      <th>151828</th>\n",
              "      <td>&lt;start&gt; io non ho amici &lt;end&gt;</td>\n",
              "      <td>&lt;start&gt; i do not have any friends &lt;end&gt;</td>\n",
              "      <td>i do not have any friends &lt;end&gt;</td>\n",
              "    </tr>\n",
              "    <tr>\n",
              "      <th>288603</th>\n",
              "      <td>&lt;start&gt; ricevetti una lettera dalla mia amica ...</td>\n",
              "      <td>&lt;start&gt; i received a letter from my friend</td>\n",
              "      <td>i received a letter from my friend &lt;end&gt;</td>\n",
              "    </tr>\n",
              "    <tr>\n",
              "      <th>127313</th>\n",
              "      <td>&lt;start&gt; tom è scherzoso &lt;end&gt;</td>\n",
              "      <td>&lt;start&gt; tom is being facetious</td>\n",
              "      <td>tom is being facetious &lt;end&gt;</td>\n",
              "    </tr>\n",
              "  </tbody>\n",
              "</table>\n",
              "</div>\n",
              "      <button class=\"colab-df-convert\" onclick=\"convertToInteractive('df-db733edb-2b2b-432a-9ba0-f07b5bd1773c')\"\n",
              "              title=\"Convert this dataframe to an interactive table.\"\n",
              "              style=\"display:none;\">\n",
              "        \n",
              "  <svg xmlns=\"http://www.w3.org/2000/svg\" height=\"24px\"viewBox=\"0 0 24 24\"\n",
              "       width=\"24px\">\n",
              "    <path d=\"M0 0h24v24H0V0z\" fill=\"none\"/>\n",
              "    <path d=\"M18.56 5.44l.94 2.06.94-2.06 2.06-.94-2.06-.94-.94-2.06-.94 2.06-2.06.94zm-11 1L8.5 8.5l.94-2.06 2.06-.94-2.06-.94L8.5 2.5l-.94 2.06-2.06.94zm10 10l.94 2.06.94-2.06 2.06-.94-2.06-.94-.94-2.06-.94 2.06-2.06.94z\"/><path d=\"M17.41 7.96l-1.37-1.37c-.4-.4-.92-.59-1.43-.59-.52 0-1.04.2-1.43.59L10.3 9.45l-7.72 7.72c-.78.78-.78 2.05 0 2.83L4 21.41c.39.39.9.59 1.41.59.51 0 1.02-.2 1.41-.59l7.78-7.78 2.81-2.81c.8-.78.8-2.07 0-2.86zM5.41 20L4 18.59l7.72-7.72 1.47 1.35L5.41 20z\"/>\n",
              "  </svg>\n",
              "      </button>\n",
              "      \n",
              "  <style>\n",
              "    .colab-df-container {\n",
              "      display:flex;\n",
              "      flex-wrap:wrap;\n",
              "      gap: 12px;\n",
              "    }\n",
              "\n",
              "    .colab-df-convert {\n",
              "      background-color: #E8F0FE;\n",
              "      border: none;\n",
              "      border-radius: 50%;\n",
              "      cursor: pointer;\n",
              "      display: none;\n",
              "      fill: #1967D2;\n",
              "      height: 32px;\n",
              "      padding: 0 0 0 0;\n",
              "      width: 32px;\n",
              "    }\n",
              "\n",
              "    .colab-df-convert:hover {\n",
              "      background-color: #E2EBFA;\n",
              "      box-shadow: 0px 1px 2px rgba(60, 64, 67, 0.3), 0px 1px 3px 1px rgba(60, 64, 67, 0.15);\n",
              "      fill: #174EA6;\n",
              "    }\n",
              "\n",
              "    [theme=dark] .colab-df-convert {\n",
              "      background-color: #3B4455;\n",
              "      fill: #D2E3FC;\n",
              "    }\n",
              "\n",
              "    [theme=dark] .colab-df-convert:hover {\n",
              "      background-color: #434B5C;\n",
              "      box-shadow: 0px 1px 3px 1px rgba(0, 0, 0, 0.15);\n",
              "      filter: drop-shadow(0px 1px 2px rgba(0, 0, 0, 0.3));\n",
              "      fill: #FFFFFF;\n",
              "    }\n",
              "  </style>\n",
              "\n",
              "      <script>\n",
              "        const buttonEl =\n",
              "          document.querySelector('#df-db733edb-2b2b-432a-9ba0-f07b5bd1773c button.colab-df-convert');\n",
              "        buttonEl.style.display =\n",
              "          google.colab.kernel.accessAllowed ? 'block' : 'none';\n",
              "\n",
              "        async function convertToInteractive(key) {\n",
              "          const element = document.querySelector('#df-db733edb-2b2b-432a-9ba0-f07b5bd1773c');\n",
              "          const dataTable =\n",
              "            await google.colab.kernel.invokeFunction('convertToInteractive',\n",
              "                                                     [key], {});\n",
              "          if (!dataTable) return;\n",
              "\n",
              "          const docLinkHtml = 'Like what you see? Visit the ' +\n",
              "            '<a target=\"_blank\" href=https://colab.research.google.com/notebooks/data_table.ipynb>data table notebook</a>'\n",
              "            + ' to learn more about interactive tables.';\n",
              "          element.innerHTML = '';\n",
              "          dataTable['output_type'] = 'display_data';\n",
              "          await google.colab.output.renderOutput(dataTable, element);\n",
              "          const docLink = document.createElement('div');\n",
              "          docLink.innerHTML = docLinkHtml;\n",
              "          element.appendChild(docLink);\n",
              "        }\n",
              "      </script>\n",
              "    </div>\n",
              "  </div>\n",
              "  "
            ],
            "text/plain": [
              "                                              italian_inp  \\\n",
              "151828                      <start> io non ho amici <end>   \n",
              "288603  <start> ricevetti una lettera dalla mia amica ...   \n",
              "127313                      <start> tom è scherzoso <end>   \n",
              "\n",
              "                                       english_inp  \\\n",
              "151828     <start> i do not have any friends <end>   \n",
              "288603  <start> i received a letter from my friend   \n",
              "127313              <start> tom is being facetious   \n",
              "\n",
              "                                     english_out  \n",
              "151828           i do not have any friends <end>  \n",
              "288603  i received a letter from my friend <end>  \n",
              "127313              tom is being facetious <end>  "
            ]
          },
          "execution_count": 15,
          "metadata": {},
          "output_type": "execute_result"
        }
      ],
      "source": [
        "train.head(3)"
      ]
    },
    {
      "cell_type": "code",
      "execution_count": null,
      "metadata": {
        "colab": {
          "base_uri": "https://localhost:8080/",
          "height": 143
        },
        "id": "5Z0c4m65gGk3",
        "outputId": "7aac4d4f-7bea-420a-8411-a697a475679a"
      },
      "outputs": [
        {
          "data": {
            "text/html": [
              "\n",
              "  <div id=\"df-8f58abc8-78b2-4a04-8ab3-058fef9f9244\">\n",
              "    <div class=\"colab-df-container\">\n",
              "      <div>\n",
              "<style scoped>\n",
              "    .dataframe tbody tr th:only-of-type {\n",
              "        vertical-align: middle;\n",
              "    }\n",
              "\n",
              "    .dataframe tbody tr th {\n",
              "        vertical-align: top;\n",
              "    }\n",
              "\n",
              "    .dataframe thead th {\n",
              "        text-align: right;\n",
              "    }\n",
              "</style>\n",
              "<table border=\"1\" class=\"dataframe\">\n",
              "  <thead>\n",
              "    <tr style=\"text-align: right;\">\n",
              "      <th></th>\n",
              "      <th>italian_inp</th>\n",
              "      <th>english_inp</th>\n",
              "      <th>english_out</th>\n",
              "    </tr>\n",
              "  </thead>\n",
              "  <tbody>\n",
              "    <tr>\n",
              "      <th>11067</th>\n",
              "      <td>&lt;start&gt; noi stiamo perdendo &lt;end&gt;</td>\n",
              "      <td>&lt;start&gt; we are losing</td>\n",
              "      <td>we are losing &lt;end&gt;</td>\n",
              "    </tr>\n",
              "    <tr>\n",
              "      <th>117475</th>\n",
              "      <td>&lt;start&gt; beve del tè verde &lt;end&gt;</td>\n",
              "      <td>&lt;start&gt; do you drink green tea</td>\n",
              "      <td>do you drink green tea &lt;end&gt;</td>\n",
              "    </tr>\n",
              "    <tr>\n",
              "      <th>137257</th>\n",
              "      <td>&lt;start&gt; ho dormito bene la notte scorsa &lt;end&gt;</td>\n",
              "      <td>&lt;start&gt; i slept well last night</td>\n",
              "      <td>i slept well last night &lt;end&gt;</td>\n",
              "    </tr>\n",
              "  </tbody>\n",
              "</table>\n",
              "</div>\n",
              "      <button class=\"colab-df-convert\" onclick=\"convertToInteractive('df-8f58abc8-78b2-4a04-8ab3-058fef9f9244')\"\n",
              "              title=\"Convert this dataframe to an interactive table.\"\n",
              "              style=\"display:none;\">\n",
              "        \n",
              "  <svg xmlns=\"http://www.w3.org/2000/svg\" height=\"24px\"viewBox=\"0 0 24 24\"\n",
              "       width=\"24px\">\n",
              "    <path d=\"M0 0h24v24H0V0z\" fill=\"none\"/>\n",
              "    <path d=\"M18.56 5.44l.94 2.06.94-2.06 2.06-.94-2.06-.94-.94-2.06-.94 2.06-2.06.94zm-11 1L8.5 8.5l.94-2.06 2.06-.94-2.06-.94L8.5 2.5l-.94 2.06-2.06.94zm10 10l.94 2.06.94-2.06 2.06-.94-2.06-.94-.94-2.06-.94 2.06-2.06.94z\"/><path d=\"M17.41 7.96l-1.37-1.37c-.4-.4-.92-.59-1.43-.59-.52 0-1.04.2-1.43.59L10.3 9.45l-7.72 7.72c-.78.78-.78 2.05 0 2.83L4 21.41c.39.39.9.59 1.41.59.51 0 1.02-.2 1.41-.59l7.78-7.78 2.81-2.81c.8-.78.8-2.07 0-2.86zM5.41 20L4 18.59l7.72-7.72 1.47 1.35L5.41 20z\"/>\n",
              "  </svg>\n",
              "      </button>\n",
              "      \n",
              "  <style>\n",
              "    .colab-df-container {\n",
              "      display:flex;\n",
              "      flex-wrap:wrap;\n",
              "      gap: 12px;\n",
              "    }\n",
              "\n",
              "    .colab-df-convert {\n",
              "      background-color: #E8F0FE;\n",
              "      border: none;\n",
              "      border-radius: 50%;\n",
              "      cursor: pointer;\n",
              "      display: none;\n",
              "      fill: #1967D2;\n",
              "      height: 32px;\n",
              "      padding: 0 0 0 0;\n",
              "      width: 32px;\n",
              "    }\n",
              "\n",
              "    .colab-df-convert:hover {\n",
              "      background-color: #E2EBFA;\n",
              "      box-shadow: 0px 1px 2px rgba(60, 64, 67, 0.3), 0px 1px 3px 1px rgba(60, 64, 67, 0.15);\n",
              "      fill: #174EA6;\n",
              "    }\n",
              "\n",
              "    [theme=dark] .colab-df-convert {\n",
              "      background-color: #3B4455;\n",
              "      fill: #D2E3FC;\n",
              "    }\n",
              "\n",
              "    [theme=dark] .colab-df-convert:hover {\n",
              "      background-color: #434B5C;\n",
              "      box-shadow: 0px 1px 3px 1px rgba(0, 0, 0, 0.15);\n",
              "      filter: drop-shadow(0px 1px 2px rgba(0, 0, 0, 0.3));\n",
              "      fill: #FFFFFF;\n",
              "    }\n",
              "  </style>\n",
              "\n",
              "      <script>\n",
              "        const buttonEl =\n",
              "          document.querySelector('#df-8f58abc8-78b2-4a04-8ab3-058fef9f9244 button.colab-df-convert');\n",
              "        buttonEl.style.display =\n",
              "          google.colab.kernel.accessAllowed ? 'block' : 'none';\n",
              "\n",
              "        async function convertToInteractive(key) {\n",
              "          const element = document.querySelector('#df-8f58abc8-78b2-4a04-8ab3-058fef9f9244');\n",
              "          const dataTable =\n",
              "            await google.colab.kernel.invokeFunction('convertToInteractive',\n",
              "                                                     [key], {});\n",
              "          if (!dataTable) return;\n",
              "\n",
              "          const docLinkHtml = 'Like what you see? Visit the ' +\n",
              "            '<a target=\"_blank\" href=https://colab.research.google.com/notebooks/data_table.ipynb>data table notebook</a>'\n",
              "            + ' to learn more about interactive tables.';\n",
              "          element.innerHTML = '';\n",
              "          dataTable['output_type'] = 'display_data';\n",
              "          await google.colab.output.renderOutput(dataTable, element);\n",
              "          const docLink = document.createElement('div');\n",
              "          docLink.innerHTML = docLinkHtml;\n",
              "          element.appendChild(docLink);\n",
              "        }\n",
              "      </script>\n",
              "    </div>\n",
              "  </div>\n",
              "  "
            ],
            "text/plain": [
              "                                          italian_inp  \\\n",
              "11067               <start> noi stiamo perdendo <end>   \n",
              "117475                <start> beve del tè verde <end>   \n",
              "137257  <start> ho dormito bene la notte scorsa <end>   \n",
              "\n",
              "                            english_inp                    english_out  \n",
              "11067             <start> we are losing            we are losing <end>  \n",
              "117475   <start> do you drink green tea   do you drink green tea <end>  \n",
              "137257  <start> i slept well last night  i slept well last night <end>  "
            ]
          },
          "execution_count": 16,
          "metadata": {},
          "output_type": "execute_result"
        }
      ],
      "source": [
        "validation.head(3)"
      ]
    },
    {
      "cell_type": "code",
      "execution_count": null,
      "metadata": {
        "id": "m5W1HoiygYqy"
      },
      "outputs": [],
      "source": [
        "# Vectorizing texts using tokenizer\n",
        "from tensorflow.keras.preprocessing.text import Tokenizer\n",
        "\n",
        "ita_tokenizer = Tokenizer(filters='!\"#$%&()*+,-./:;=?@[\\\\]^_`{|}~\\t\\n')\n",
        "ita_tokenizer.fit_on_texts(train['italian_inp'].values)\n",
        "\n",
        "eng_tokenizer = Tokenizer(filters='!\"#$%&()*+,-./:;=?@[\\\\]^_`{|}~\\t\\n')\n",
        "eng_tokenizer.fit_on_texts(train['english_inp'].values)"
      ]
    },
    {
      "cell_type": "code",
      "execution_count": null,
      "metadata": {
        "id": "X8YaznwQhp5o"
      },
      "outputs": [],
      "source": [
        "ita_vocab_len = len(ita_tokenizer.word_index.keys())\n",
        "eng_vocab_len = len(eng_tokenizer.word_index.keys())"
      ]
    },
    {
      "cell_type": "code",
      "execution_count": null,
      "metadata": {
        "id": "3V-QiL5XFYmj"
      },
      "outputs": [],
      "source": [
        "from tensorflow.keras.preprocessing.sequence import pad_sequences\n",
        "ita_inp = ita_tokenizer.texts_to_sequences(train['italian_inp'].values)\n",
        "ita_inp = pad_sequences(ita_inp, maxlen=maxlen, padding='post')\n",
        "\n",
        "eng_inp = eng_tokenizer.texts_to_sequences(train['english_inp'].values)\n",
        "eng_inp = pad_sequences(eng_inp, maxlen=maxlen, padding='post')\n",
        "\n",
        "eng_out = eng_tokenizer.texts_to_sequences(train['english_out'].values)\n",
        "eng_out = pad_sequences(eng_out, maxlen=maxlen, padding='post')"
      ]
    },
    {
      "cell_type": "code",
      "execution_count": null,
      "metadata": {
        "id": "9Ov59L8woSNn"
      },
      "outputs": [],
      "source": [
        "ita_inp_val = ita_tokenizer.texts_to_sequences(validation['italian_inp'].values)\n",
        "ita_inp_val = pad_sequences(ita_inp_val, maxlen=maxlen, padding='post')\n",
        "\n",
        "eng_inp_val = eng_tokenizer.texts_to_sequences(validation['english_inp'].values)\n",
        "eng_inp_val = pad_sequences(eng_inp_val, maxlen=maxlen, padding='post')\n",
        "\n",
        "eng_out_val = eng_tokenizer.texts_to_sequences(validation['english_out'].values)\n",
        "eng_out_val = pad_sequences(eng_out_val, maxlen=maxlen, padding='post')"
      ]
    },
    {
      "attachments": {},
      "cell_type": "markdown",
      "metadata": {
        "id": "S8RDrP4xKabR"
      },
      "source": [
        "## <font color='blue'>**Implement custom encoder decoder model**</font>"
      ]
    },
    {
      "cell_type": "code",
      "execution_count": null,
      "metadata": {
        "id": "n5e9oRv2PcDo"
      },
      "outputs": [],
      "source": [
        "import os\n",
        "def create_directories(model_name):\n",
        "    if str(model_name) not in os.listdir():\n",
        "        os.mkdir(model_name)\n",
        "        os.mkdir(model_name+'/saved_models')\n",
        "        os.mkdir(model_name+'/logs')\n",
        "        print(f\"saved_models, logs directories created for {model_name}\")"
      ]
    },
    {
      "attachments": {},
      "cell_type": "markdown",
      "metadata": {
        "id": "A45uc0JILMlV"
      },
      "source": [
        "<font color='blue'>**Encoder**</font>"
      ]
    },
    {
      "cell_type": "code",
      "execution_count": null,
      "metadata": {
        "id": "i4BwslxbH9yC"
      },
      "outputs": [],
      "source": [
        "from tensorflow.keras.layers import Embedding\n",
        "from tensorflow.keras.layers import LSTM\n",
        "from tensorflow.keras.layers import Dense\n",
        "from tensorflow.keras.layers import TimeDistributed"
      ]
    },
    {
      "cell_type": "code",
      "execution_count": null,
      "metadata": {
        "id": "9cex2XfCLOew"
      },
      "outputs": [],
      "source": [
        "class Encoder(tf.keras.Model):\n",
        "    '''\n",
        "    Encoder model -- That takes a input sequence and returns encoder-outputs,\n",
        "    encoder_final_state_h,encoder_final_state_c\n",
        "    \n",
        "    '''\n",
        "\n",
        "    def __init__(self,inp_vocab_size,embedding_size,lstm_size,input_length):\n",
        "        \n",
        "        super(Encoder, self).__init__()\n",
        "        self.inp_vocab_size = inp_vocab_size\n",
        "        self.embedding_size = embedding_size\n",
        "        self.lstm_size = lstm_size\n",
        "        self.input_length = input_length\n",
        "        #Initialize Embedding layer\n",
        "        self.embedding_layer = Embedding(input_dim = self.inp_vocab_size,\n",
        "                                         output_dim = self.embedding_size,\n",
        "                                         input_length = self.input_length, trainable=True)\n",
        "        \n",
        "        #Intialize Encoder LSTM layer\n",
        "        self.lstm_layer = LSTM(self.lstm_size, return_state=True, return_sequences=True)\n",
        "\n",
        "        self.lstm_output = 0\n",
        "        self.lstm_state_h=0\n",
        "        self.lstm_state_c=0\n",
        "\n",
        "    def call(self,input_sequence, states=None):\n",
        "        '''\n",
        "          This function takes a sequence input and the initial states of the encoder.\n",
        "          Pass the input_sequence input to the Embedding layer, Pass the \n",
        "          embedding layer ouput to encoder_lstm\n",
        "          returns -- encoder_output, last time step's hidden and cell state\n",
        "        '''\n",
        "        input_emb = self.embedding_layer(input_sequence)\n",
        "        self.lstm_output, self.lstm_state_h, self.lstm_state_c = self.lstm_layer(input_emb, states)\n",
        "        return self.lstm_output, self.lstm_state_h, self.lstm_state_c\n",
        "      \n",
        "\n",
        "    \n",
        "    def initialize_states(self, batch_size):\n",
        "        '''\n",
        "        Given a batch size it will return intial hidden state and intial cell state.\n",
        "        If batch size is 32- Hidden state is zeros of size [32,lstm_units],\n",
        "        cell state zeros is of size [32,lstm_units]\n",
        "        '''\n",
        "        initial_h = tf.zeros(shape = (batch_size, self.lstm_size))\n",
        "        initial_c = tf.zeros(shape = (batch_size, self.lstm_size))\n",
        "        states = [initial_h, initial_c]\n",
        "        return states\n"
      ]
    },
    {
      "cell_type": "code",
      "execution_count": null,
      "metadata": {
        "id": "x1ES1-sJLOe4"
      },
      "outputs": [],
      "source": [
        "class Decoder(tf.keras.Model):\n",
        "    '''\n",
        "    Encoder model -- That takes a input sequence and returns output sequence\n",
        "    '''\n",
        "\n",
        "    def __init__(self,out_vocab_size,embedding_size,lstm_size,input_length):\n",
        "        \n",
        "        super(Decoder, self).__init__()\n",
        "        self.out_vocab_size = out_vocab_size\n",
        "        self.embedding_size = embedding_size\n",
        "        self.lstm_size = lstm_size\n",
        "        self.input_length = input_length\n",
        "        #Initialize Embedding layer\n",
        "        self.decoder_embedding = Embedding(input_dim = self.out_vocab_size,\n",
        "                                           output_dim = self.embedding_size,\n",
        "                                           input_length = self.input_length)\n",
        "        #Intialize Decoder LSTM layer\n",
        "        self.decoder_lstm = LSTM(self.lstm_size, return_sequences=True, return_state=True)\n",
        "        #self.initial_states = \n",
        "\n",
        "\n",
        "    def call(self,input_sequence,initial_states=None):\n",
        "        '''\n",
        "        This function takes a sequence input and the initial states of the encoder.\n",
        "        Pass the input_sequence input to the Embedding layer, Pass the embedding layer ouput to decoder_lstm\n",
        "        \n",
        "        returns -- decoder_output,decoder_final_state_h,decoder_final_state_c\n",
        "        '''\n",
        "\n",
        "        decoder_emb = self.decoder_embedding(input_sequence)\n",
        "        self.lstm_output, self.lstm_state_h, self.lstm_state_c = self.decoder_lstm(decoder_emb, initial_states)\n",
        "        return self.lstm_output, self.lstm_state_h, self.lstm_state_c      \n"
      ]
    },
    {
      "cell_type": "code",
      "execution_count": null,
      "metadata": {
        "id": "BXrIj4scLOe_"
      },
      "outputs": [],
      "source": [
        "class Encoder_decoder(tf.keras.Model):\n",
        "    \n",
        "    def __init__(self,*params):\n",
        "        \n",
        "        super(Encoder_decoder, self).__init__()\n",
        "        #Create encoder object\n",
        "        self.encoder = Encoder(ita_vocab_len+1, embedding_size=50, lstm_size=64,\n",
        "                          input_length = 25)\n",
        "        #Create decoder object\n",
        "        self.decoder = Decoder(eng_vocab_len+1, embedding_size=100, lstm_size=64,\n",
        "                          input_length=25)\n",
        "        #Intialize Dense layer(out_vocab_size) with activation='softmax'\n",
        "        self.dense = TimeDistributed(Dense(eng_vocab_len+1, activation='softmax'))\n",
        "\n",
        "    \n",
        "    def call(self, data):\n",
        "        '''\n",
        "        A. Pass the input sequence to Encoder layer -- Return encoder_output,encoder_final_state_h,encoder_final_state_c\n",
        "        B. Pass the target sequence to Decoder layer with intial states as encoder_final_state_h,encoder_final_state_C\n",
        "        C. Pass the decoder_outputs into Dense layer \n",
        "        \n",
        "        Return decoder_outputs\n",
        "        '''\n",
        "        input, output = data[0], data[1]\n",
        "        enc_op, enc_h, enc_c = self.encoder(input)\n",
        "        dec_op, _, _ = self.decoder(output, [enc_h, enc_c]) \n",
        "        dense_op = self.dense(dec_op)\n",
        "        return dense_op"
      ]
    },
    {
      "cell_type": "code",
      "execution_count": null,
      "metadata": {
        "colab": {
          "base_uri": "https://localhost:8080/"
        },
        "id": "Y9XrPaIqxYCk",
        "outputId": "cbbab74b-e965-4ecd-c147-f55dd875b312"
      },
      "outputs": [
        {
          "name": "stdout",
          "output_type": "stream",
          "text": [
            "saved_models, logs directories created for model_1\n"
          ]
        }
      ],
      "source": [
        "# Callbacks\n",
        "from tensorflow.keras.callbacks import EarlyStopping, LearningRateScheduler\n",
        "from tensorflow.keras.callbacks import ModelCheckpoint, TensorBoard\n",
        "\n",
        "def scheduler(epoch, lr):\n",
        "    if epoch < 20:\n",
        "        return lr\n",
        "    else:\n",
        "        return lr * 0.9\n",
        "\n",
        "create_directories('model_1')\n",
        "save_path = '/content/model_1/saved_models/{epoch:02d}'\n",
        "log_path = '/content/model_1/logs'\n",
        "\n",
        "#Defining callbacks\n",
        "lr = LearningRateScheduler(scheduler)\n",
        "stopper = EarlyStopping(monitor='val_loss', patience=4, mode='min')\n",
        "saver = ModelCheckpoint(save_path)\n",
        "tb = TensorBoard(log_path)"
      ]
    },
    {
      "cell_type": "code",
      "execution_count": null,
      "metadata": {
        "colab": {
          "base_uri": "https://localhost:8080/"
        },
        "id": "kcL61dJXLOfB",
        "outputId": "4051af88-44fc-4b54-f8ee-10fd28e8585a"
      },
      "outputs": [
        {
          "name": "stdout",
          "output_type": "stream",
          "text": [
            "Epoch 1/60\n",
            "8845/8847 [============================>.] - ETA: 0s - loss: 1.0589"
          ]
        },
        {
          "name": "stderr",
          "output_type": "stream",
          "text": [
            "WARNING:absl:Found untraced functions such as lstm_cell_2_layer_call_fn, lstm_cell_2_layer_call_and_return_conditional_losses, lstm_cell_3_layer_call_fn, lstm_cell_3_layer_call_and_return_conditional_losses while saving (showing 4 of 4). These functions will not be directly callable after loading.\n",
            "WARNING:absl:<keras.layers.recurrent.LSTMCell object at 0x7f1423289cd0> has the same name 'LSTMCell' as a built-in Keras object. Consider renaming <class 'keras.layers.recurrent.LSTMCell'> to avoid naming conflicts when loading with `tf.keras.models.load_model`. If renaming is not possible, pass the object in the `custom_objects` parameter of the load function.\n",
            "WARNING:absl:<keras.layers.recurrent.LSTMCell object at 0x7f1423289a90> has the same name 'LSTMCell' as a built-in Keras object. Consider renaming <class 'keras.layers.recurrent.LSTMCell'> to avoid naming conflicts when loading with `tf.keras.models.load_model`. If renaming is not possible, pass the object in the `custom_objects` parameter of the load function.\n"
          ]
        },
        {
          "name": "stdout",
          "output_type": "stream",
          "text": [
            "\b\b\b\b\b\b\b\b\b\b\b\b\b\b\b\b\b\b\b\b\b\b\b\b\b\b\b\b\b\b\b\b\b\b\b\b\b\b\b\b\b\b\b\b\b\b\b\b\b\b\b\b\b\b\b\b\b\b\b\b\b\b\b\b\b\b\b\r8847/8847 [==============================] - 150s 16ms/step - loss: 1.0589 - val_loss: 0.7661 - lr: 0.0010\n",
            "Epoch 2/60\n",
            "8845/8847 [============================>.] - ETA: 0s - loss: 0.6475"
          ]
        },
        {
          "name": "stderr",
          "output_type": "stream",
          "text": [
            "WARNING:absl:Found untraced functions such as lstm_cell_2_layer_call_fn, lstm_cell_2_layer_call_and_return_conditional_losses, lstm_cell_3_layer_call_fn, lstm_cell_3_layer_call_and_return_conditional_losses while saving (showing 4 of 4). These functions will not be directly callable after loading.\n",
            "WARNING:absl:<keras.layers.recurrent.LSTMCell object at 0x7f1423289cd0> has the same name 'LSTMCell' as a built-in Keras object. Consider renaming <class 'keras.layers.recurrent.LSTMCell'> to avoid naming conflicts when loading with `tf.keras.models.load_model`. If renaming is not possible, pass the object in the `custom_objects` parameter of the load function.\n",
            "WARNING:absl:<keras.layers.recurrent.LSTMCell object at 0x7f1423289a90> has the same name 'LSTMCell' as a built-in Keras object. Consider renaming <class 'keras.layers.recurrent.LSTMCell'> to avoid naming conflicts when loading with `tf.keras.models.load_model`. If renaming is not possible, pass the object in the `custom_objects` parameter of the load function.\n"
          ]
        },
        {
          "name": "stdout",
          "output_type": "stream",
          "text": [
            "\b\b\b\b\b\b\b\b\b\b\b\b\b\b\b\b\b\b\b\b\b\b\b\b\b\b\b\b\b\b\b\b\b\b\b\b\b\b\b\b\b\b\b\b\b\b\b\b\b\b\b\b\b\b\b\b\b\b\b\b\b\b\b\b\b\b\b\r8847/8847 [==============================] - 141s 16ms/step - loss: 0.6475 - val_loss: 0.5640 - lr: 0.0010\n",
            "Epoch 3/60\n",
            "8845/8847 [============================>.] - ETA: 0s - loss: 0.4855"
          ]
        },
        {
          "name": "stderr",
          "output_type": "stream",
          "text": [
            "WARNING:absl:Found untraced functions such as lstm_cell_2_layer_call_fn, lstm_cell_2_layer_call_and_return_conditional_losses, lstm_cell_3_layer_call_fn, lstm_cell_3_layer_call_and_return_conditional_losses while saving (showing 4 of 4). These functions will not be directly callable after loading.\n",
            "WARNING:absl:<keras.layers.recurrent.LSTMCell object at 0x7f1423289cd0> has the same name 'LSTMCell' as a built-in Keras object. Consider renaming <class 'keras.layers.recurrent.LSTMCell'> to avoid naming conflicts when loading with `tf.keras.models.load_model`. If renaming is not possible, pass the object in the `custom_objects` parameter of the load function.\n",
            "WARNING:absl:<keras.layers.recurrent.LSTMCell object at 0x7f1423289a90> has the same name 'LSTMCell' as a built-in Keras object. Consider renaming <class 'keras.layers.recurrent.LSTMCell'> to avoid naming conflicts when loading with `tf.keras.models.load_model`. If renaming is not possible, pass the object in the `custom_objects` parameter of the load function.\n"
          ]
        },
        {
          "name": "stdout",
          "output_type": "stream",
          "text": [
            "\b\b\b\b\b\b\b\b\b\b\b\b\b\b\b\b\b\b\b\b\b\b\b\b\b\b\b\b\b\b\b\b\b\b\b\b\b\b\b\b\b\b\b\b\b\b\b\b\b\b\b\b\b\b\b\b\b\b\b\b\b\b\b\b\b\b\b\r8847/8847 [==============================] - 149s 17ms/step - loss: 0.4855 - val_loss: 0.4535 - lr: 0.0010\n",
            "Epoch 4/60\n",
            "8844/8847 [============================>.] - ETA: 0s - loss: 0.3859"
          ]
        },
        {
          "name": "stderr",
          "output_type": "stream",
          "text": [
            "WARNING:absl:Found untraced functions such as lstm_cell_2_layer_call_fn, lstm_cell_2_layer_call_and_return_conditional_losses, lstm_cell_3_layer_call_fn, lstm_cell_3_layer_call_and_return_conditional_losses while saving (showing 4 of 4). These functions will not be directly callable after loading.\n",
            "WARNING:absl:<keras.layers.recurrent.LSTMCell object at 0x7f1423289cd0> has the same name 'LSTMCell' as a built-in Keras object. Consider renaming <class 'keras.layers.recurrent.LSTMCell'> to avoid naming conflicts when loading with `tf.keras.models.load_model`. If renaming is not possible, pass the object in the `custom_objects` parameter of the load function.\n",
            "WARNING:absl:<keras.layers.recurrent.LSTMCell object at 0x7f1423289a90> has the same name 'LSTMCell' as a built-in Keras object. Consider renaming <class 'keras.layers.recurrent.LSTMCell'> to avoid naming conflicts when loading with `tf.keras.models.load_model`. If renaming is not possible, pass the object in the `custom_objects` parameter of the load function.\n"
          ]
        },
        {
          "name": "stdout",
          "output_type": "stream",
          "text": [
            "\b\b\b\b\b\b\b\b\b\b\b\b\b\b\b\b\b\b\b\b\b\b\b\b\b\b\b\b\b\b\b\b\b\b\b\b\b\b\b\b\b\b\b\b\b\b\b\b\b\b\b\b\b\b\b\b\b\b\b\b\b\b\b\b\b\b\b\r8847/8847 [==============================] - 142s 16ms/step - loss: 0.3860 - val_loss: 0.3860 - lr: 0.0010\n",
            "Epoch 5/60\n",
            "8845/8847 [============================>.] - ETA: 0s - loss: 0.3201"
          ]
        },
        {
          "name": "stderr",
          "output_type": "stream",
          "text": [
            "WARNING:absl:Found untraced functions such as lstm_cell_2_layer_call_fn, lstm_cell_2_layer_call_and_return_conditional_losses, lstm_cell_3_layer_call_fn, lstm_cell_3_layer_call_and_return_conditional_losses while saving (showing 4 of 4). These functions will not be directly callable after loading.\n",
            "WARNING:absl:<keras.layers.recurrent.LSTMCell object at 0x7f1423289cd0> has the same name 'LSTMCell' as a built-in Keras object. Consider renaming <class 'keras.layers.recurrent.LSTMCell'> to avoid naming conflicts when loading with `tf.keras.models.load_model`. If renaming is not possible, pass the object in the `custom_objects` parameter of the load function.\n",
            "WARNING:absl:<keras.layers.recurrent.LSTMCell object at 0x7f1423289a90> has the same name 'LSTMCell' as a built-in Keras object. Consider renaming <class 'keras.layers.recurrent.LSTMCell'> to avoid naming conflicts when loading with `tf.keras.models.load_model`. If renaming is not possible, pass the object in the `custom_objects` parameter of the load function.\n"
          ]
        },
        {
          "name": "stdout",
          "output_type": "stream",
          "text": [
            "\b\b\b\b\b\b\b\b\b\b\b\b\b\b\b\b\b\b\b\b\b\b\b\b\b\b\b\b\b\b\b\b\b\b\b\b\b\b\b\b\b\b\b\b\b\b\b\b\b\b\b\b\b\b\b\b\b\b\b\b\b\b\b\b\b\b\b\r8847/8847 [==============================] - 142s 16ms/step - loss: 0.3201 - val_loss: 0.3413 - lr: 0.0010\n",
            "Epoch 6/60\n",
            "8844/8847 [============================>.] - ETA: 0s - loss: 0.2747"
          ]
        },
        {
          "name": "stderr",
          "output_type": "stream",
          "text": [
            "WARNING:absl:Found untraced functions such as lstm_cell_2_layer_call_fn, lstm_cell_2_layer_call_and_return_conditional_losses, lstm_cell_3_layer_call_fn, lstm_cell_3_layer_call_and_return_conditional_losses while saving (showing 4 of 4). These functions will not be directly callable after loading.\n",
            "WARNING:absl:<keras.layers.recurrent.LSTMCell object at 0x7f1423289cd0> has the same name 'LSTMCell' as a built-in Keras object. Consider renaming <class 'keras.layers.recurrent.LSTMCell'> to avoid naming conflicts when loading with `tf.keras.models.load_model`. If renaming is not possible, pass the object in the `custom_objects` parameter of the load function.\n",
            "WARNING:absl:<keras.layers.recurrent.LSTMCell object at 0x7f1423289a90> has the same name 'LSTMCell' as a built-in Keras object. Consider renaming <class 'keras.layers.recurrent.LSTMCell'> to avoid naming conflicts when loading with `tf.keras.models.load_model`. If renaming is not possible, pass the object in the `custom_objects` parameter of the load function.\n"
          ]
        },
        {
          "name": "stdout",
          "output_type": "stream",
          "text": [
            "\b\b\b\b\b\b\b\b\b\b\b\b\b\b\b\b\b\b\b\b\b\b\b\b\b\b\b\b\b\b\b\b\b\b\b\b\b\b\b\b\b\b\b\b\b\b\b\b\b\b\b\b\b\b\b\b\b\b\b\b\b\b\b\b\b\b\b\r8847/8847 [==============================] - 142s 16ms/step - loss: 0.2747 - val_loss: 0.3099 - lr: 0.0010\n",
            "Epoch 7/60\n",
            "8845/8847 [============================>.] - ETA: 0s - loss: 0.2419"
          ]
        },
        {
          "name": "stderr",
          "output_type": "stream",
          "text": [
            "WARNING:absl:Found untraced functions such as lstm_cell_2_layer_call_fn, lstm_cell_2_layer_call_and_return_conditional_losses, lstm_cell_3_layer_call_fn, lstm_cell_3_layer_call_and_return_conditional_losses while saving (showing 4 of 4). These functions will not be directly callable after loading.\n",
            "WARNING:absl:<keras.layers.recurrent.LSTMCell object at 0x7f1423289cd0> has the same name 'LSTMCell' as a built-in Keras object. Consider renaming <class 'keras.layers.recurrent.LSTMCell'> to avoid naming conflicts when loading with `tf.keras.models.load_model`. If renaming is not possible, pass the object in the `custom_objects` parameter of the load function.\n",
            "WARNING:absl:<keras.layers.recurrent.LSTMCell object at 0x7f1423289a90> has the same name 'LSTMCell' as a built-in Keras object. Consider renaming <class 'keras.layers.recurrent.LSTMCell'> to avoid naming conflicts when loading with `tf.keras.models.load_model`. If renaming is not possible, pass the object in the `custom_objects` parameter of the load function.\n"
          ]
        },
        {
          "name": "stdout",
          "output_type": "stream",
          "text": [
            "\b\b\b\b\b\b\b\b\b\b\b\b\b\b\b\b\b\b\b\b\b\b\b\b\b\b\b\b\b\b\b\b\b\b\b\b\b\b\b\b\b\b\b\b\b\b\b\b\b\b\b\b\b\b\b\b\b\b\b\b\b\b\b\b\b\b\b\r8847/8847 [==============================] - 141s 16ms/step - loss: 0.2419 - val_loss: 0.2902 - lr: 0.0010\n",
            "Epoch 8/60\n",
            "8845/8847 [============================>.] - ETA: 0s - loss: 0.2173"
          ]
        },
        {
          "name": "stderr",
          "output_type": "stream",
          "text": [
            "WARNING:absl:Found untraced functions such as lstm_cell_2_layer_call_fn, lstm_cell_2_layer_call_and_return_conditional_losses, lstm_cell_3_layer_call_fn, lstm_cell_3_layer_call_and_return_conditional_losses while saving (showing 4 of 4). These functions will not be directly callable after loading.\n",
            "WARNING:absl:<keras.layers.recurrent.LSTMCell object at 0x7f1423289cd0> has the same name 'LSTMCell' as a built-in Keras object. Consider renaming <class 'keras.layers.recurrent.LSTMCell'> to avoid naming conflicts when loading with `tf.keras.models.load_model`. If renaming is not possible, pass the object in the `custom_objects` parameter of the load function.\n",
            "WARNING:absl:<keras.layers.recurrent.LSTMCell object at 0x7f1423289a90> has the same name 'LSTMCell' as a built-in Keras object. Consider renaming <class 'keras.layers.recurrent.LSTMCell'> to avoid naming conflicts when loading with `tf.keras.models.load_model`. If renaming is not possible, pass the object in the `custom_objects` parameter of the load function.\n"
          ]
        },
        {
          "name": "stdout",
          "output_type": "stream",
          "text": [
            "\b\b\b\b\b\b\b\b\b\b\b\b\b\b\b\b\b\b\b\b\b\b\b\b\b\b\b\b\b\b\b\b\b\b\b\b\b\b\b\b\b\b\b\b\b\b\b\b\b\b\b\b\b\b\b\b\b\b\b\b\b\b\b\b\b\b\b\r8847/8847 [==============================] - 142s 16ms/step - loss: 0.2173 - val_loss: 0.2736 - lr: 0.0010\n",
            "Epoch 9/60\n",
            "8845/8847 [============================>.] - ETA: 0s - loss: 0.1984"
          ]
        },
        {
          "name": "stderr",
          "output_type": "stream",
          "text": [
            "WARNING:absl:Found untraced functions such as lstm_cell_2_layer_call_fn, lstm_cell_2_layer_call_and_return_conditional_losses, lstm_cell_3_layer_call_fn, lstm_cell_3_layer_call_and_return_conditional_losses while saving (showing 4 of 4). These functions will not be directly callable after loading.\n",
            "WARNING:absl:<keras.layers.recurrent.LSTMCell object at 0x7f1423289cd0> has the same name 'LSTMCell' as a built-in Keras object. Consider renaming <class 'keras.layers.recurrent.LSTMCell'> to avoid naming conflicts when loading with `tf.keras.models.load_model`. If renaming is not possible, pass the object in the `custom_objects` parameter of the load function.\n",
            "WARNING:absl:<keras.layers.recurrent.LSTMCell object at 0x7f1423289a90> has the same name 'LSTMCell' as a built-in Keras object. Consider renaming <class 'keras.layers.recurrent.LSTMCell'> to avoid naming conflicts when loading with `tf.keras.models.load_model`. If renaming is not possible, pass the object in the `custom_objects` parameter of the load function.\n"
          ]
        },
        {
          "name": "stdout",
          "output_type": "stream",
          "text": [
            "\b\b\b\b\b\b\b\b\b\b\b\b\b\b\b\b\b\b\b\b\b\b\b\b\b\b\b\b\b\b\b\b\b\b\b\b\b\b\b\b\b\b\b\b\b\b\b\b\b\b\b\b\b\b\b\b\b\b\b\b\b\b\b\b\b\b\b\r8847/8847 [==============================] - 142s 16ms/step - loss: 0.1984 - val_loss: 0.2640 - lr: 0.0010\n",
            "Epoch 10/60\n",
            "8844/8847 [============================>.] - ETA: 0s - loss: 0.1834"
          ]
        },
        {
          "name": "stderr",
          "output_type": "stream",
          "text": [
            "WARNING:absl:Found untraced functions such as lstm_cell_2_layer_call_fn, lstm_cell_2_layer_call_and_return_conditional_losses, lstm_cell_3_layer_call_fn, lstm_cell_3_layer_call_and_return_conditional_losses while saving (showing 4 of 4). These functions will not be directly callable after loading.\n",
            "WARNING:absl:<keras.layers.recurrent.LSTMCell object at 0x7f1423289cd0> has the same name 'LSTMCell' as a built-in Keras object. Consider renaming <class 'keras.layers.recurrent.LSTMCell'> to avoid naming conflicts when loading with `tf.keras.models.load_model`. If renaming is not possible, pass the object in the `custom_objects` parameter of the load function.\n",
            "WARNING:absl:<keras.layers.recurrent.LSTMCell object at 0x7f1423289a90> has the same name 'LSTMCell' as a built-in Keras object. Consider renaming <class 'keras.layers.recurrent.LSTMCell'> to avoid naming conflicts when loading with `tf.keras.models.load_model`. If renaming is not possible, pass the object in the `custom_objects` parameter of the load function.\n"
          ]
        },
        {
          "name": "stdout",
          "output_type": "stream",
          "text": [
            "\b\b\b\b\b\b\b\b\b\b\b\b\b\b\b\b\b\b\b\b\b\b\b\b\b\b\b\b\b\b\b\b\b\b\b\b\b\b\b\b\b\b\b\b\b\b\b\b\b\b\b\b\b\b\b\b\b\b\b\b\b\b\b\b\b\b\b\r8847/8847 [==============================] - 141s 16ms/step - loss: 0.1834 - val_loss: 0.2550 - lr: 0.0010\n",
            "Epoch 11/60\n",
            "8845/8847 [============================>.] - ETA: 0s - loss: 0.1712"
          ]
        },
        {
          "name": "stderr",
          "output_type": "stream",
          "text": [
            "WARNING:absl:Found untraced functions such as lstm_cell_2_layer_call_fn, lstm_cell_2_layer_call_and_return_conditional_losses, lstm_cell_3_layer_call_fn, lstm_cell_3_layer_call_and_return_conditional_losses while saving (showing 4 of 4). These functions will not be directly callable after loading.\n",
            "WARNING:absl:<keras.layers.recurrent.LSTMCell object at 0x7f1423289cd0> has the same name 'LSTMCell' as a built-in Keras object. Consider renaming <class 'keras.layers.recurrent.LSTMCell'> to avoid naming conflicts when loading with `tf.keras.models.load_model`. If renaming is not possible, pass the object in the `custom_objects` parameter of the load function.\n",
            "WARNING:absl:<keras.layers.recurrent.LSTMCell object at 0x7f1423289a90> has the same name 'LSTMCell' as a built-in Keras object. Consider renaming <class 'keras.layers.recurrent.LSTMCell'> to avoid naming conflicts when loading with `tf.keras.models.load_model`. If renaming is not possible, pass the object in the `custom_objects` parameter of the load function.\n"
          ]
        },
        {
          "name": "stdout",
          "output_type": "stream",
          "text": [
            "\b\b\b\b\b\b\b\b\b\b\b\b\b\b\b\b\b\b\b\b\b\b\b\b\b\b\b\b\b\b\b\b\b\b\b\b\b\b\b\b\b\b\b\b\b\b\b\b\b\b\b\b\b\b\b\b\b\b\b\b\b\b\b\b\b\b\b\r8847/8847 [==============================] - 141s 16ms/step - loss: 0.1712 - val_loss: 0.2486 - lr: 0.0010\n",
            "Epoch 12/60\n",
            "8845/8847 [============================>.] - ETA: 0s - loss: 0.1610"
          ]
        },
        {
          "name": "stderr",
          "output_type": "stream",
          "text": [
            "WARNING:absl:Found untraced functions such as lstm_cell_2_layer_call_fn, lstm_cell_2_layer_call_and_return_conditional_losses, lstm_cell_3_layer_call_fn, lstm_cell_3_layer_call_and_return_conditional_losses while saving (showing 4 of 4). These functions will not be directly callable after loading.\n",
            "WARNING:absl:<keras.layers.recurrent.LSTMCell object at 0x7f1423289cd0> has the same name 'LSTMCell' as a built-in Keras object. Consider renaming <class 'keras.layers.recurrent.LSTMCell'> to avoid naming conflicts when loading with `tf.keras.models.load_model`. If renaming is not possible, pass the object in the `custom_objects` parameter of the load function.\n",
            "WARNING:absl:<keras.layers.recurrent.LSTMCell object at 0x7f1423289a90> has the same name 'LSTMCell' as a built-in Keras object. Consider renaming <class 'keras.layers.recurrent.LSTMCell'> to avoid naming conflicts when loading with `tf.keras.models.load_model`. If renaming is not possible, pass the object in the `custom_objects` parameter of the load function.\n"
          ]
        },
        {
          "name": "stdout",
          "output_type": "stream",
          "text": [
            "\b\b\b\b\b\b\b\b\b\b\b\b\b\b\b\b\b\b\b\b\b\b\b\b\b\b\b\b\b\b\b\b\b\b\b\b\b\b\b\b\b\b\b\b\b\b\b\b\b\b\b\b\b\b\b\b\b\b\b\b\b\b\b\b\b\b\b\r8847/8847 [==============================] - 141s 16ms/step - loss: 0.1610 - val_loss: 0.2424 - lr: 0.0010\n",
            "Epoch 13/60\n",
            "8845/8847 [============================>.] - ETA: 0s - loss: 0.1524"
          ]
        },
        {
          "name": "stderr",
          "output_type": "stream",
          "text": [
            "WARNING:absl:Found untraced functions such as lstm_cell_2_layer_call_fn, lstm_cell_2_layer_call_and_return_conditional_losses, lstm_cell_3_layer_call_fn, lstm_cell_3_layer_call_and_return_conditional_losses while saving (showing 4 of 4). These functions will not be directly callable after loading.\n",
            "WARNING:absl:<keras.layers.recurrent.LSTMCell object at 0x7f1423289cd0> has the same name 'LSTMCell' as a built-in Keras object. Consider renaming <class 'keras.layers.recurrent.LSTMCell'> to avoid naming conflicts when loading with `tf.keras.models.load_model`. If renaming is not possible, pass the object in the `custom_objects` parameter of the load function.\n",
            "WARNING:absl:<keras.layers.recurrent.LSTMCell object at 0x7f1423289a90> has the same name 'LSTMCell' as a built-in Keras object. Consider renaming <class 'keras.layers.recurrent.LSTMCell'> to avoid naming conflicts when loading with `tf.keras.models.load_model`. If renaming is not possible, pass the object in the `custom_objects` parameter of the load function.\n"
          ]
        },
        {
          "name": "stdout",
          "output_type": "stream",
          "text": [
            "\b\b\b\b\b\b\b\b\b\b\b\b\b\b\b\b\b\b\b\b\b\b\b\b\b\b\b\b\b\b\b\b\b\b\b\b\b\b\b\b\b\b\b\b\b\b\b\b\b\b\b\b\b\b\b\b\b\b\b\b\b\b\b\b\b\b\b\r8847/8847 [==============================] - 142s 16ms/step - loss: 0.1524 - val_loss: 0.2383 - lr: 0.0010\n",
            "Epoch 14/60\n",
            "8845/8847 [============================>.] - ETA: 0s - loss: 0.1451"
          ]
        },
        {
          "name": "stderr",
          "output_type": "stream",
          "text": [
            "WARNING:absl:Found untraced functions such as lstm_cell_2_layer_call_fn, lstm_cell_2_layer_call_and_return_conditional_losses, lstm_cell_3_layer_call_fn, lstm_cell_3_layer_call_and_return_conditional_losses while saving (showing 4 of 4). These functions will not be directly callable after loading.\n",
            "WARNING:absl:<keras.layers.recurrent.LSTMCell object at 0x7f1423289cd0> has the same name 'LSTMCell' as a built-in Keras object. Consider renaming <class 'keras.layers.recurrent.LSTMCell'> to avoid naming conflicts when loading with `tf.keras.models.load_model`. If renaming is not possible, pass the object in the `custom_objects` parameter of the load function.\n",
            "WARNING:absl:<keras.layers.recurrent.LSTMCell object at 0x7f1423289a90> has the same name 'LSTMCell' as a built-in Keras object. Consider renaming <class 'keras.layers.recurrent.LSTMCell'> to avoid naming conflicts when loading with `tf.keras.models.load_model`. If renaming is not possible, pass the object in the `custom_objects` parameter of the load function.\n"
          ]
        },
        {
          "name": "stdout",
          "output_type": "stream",
          "text": [
            "\b\b\b\b\b\b\b\b\b\b\b\b\b\b\b\b\b\b\b\b\b\b\b\b\b\b\b\b\b\b\b\b\b\b\b\b\b\b\b\b\b\b\b\b\b\b\b\b\b\b\b\b\b\b\b\b\b\b\b\b\b\b\b\b\b\b\b\r8847/8847 [==============================] - 141s 16ms/step - loss: 0.1451 - val_loss: 0.2347 - lr: 0.0010\n",
            "Epoch 15/60\n",
            "8843/8847 [============================>.] - ETA: 0s - loss: 0.1388"
          ]
        },
        {
          "name": "stderr",
          "output_type": "stream",
          "text": [
            "WARNING:absl:Found untraced functions such as lstm_cell_2_layer_call_fn, lstm_cell_2_layer_call_and_return_conditional_losses, lstm_cell_3_layer_call_fn, lstm_cell_3_layer_call_and_return_conditional_losses while saving (showing 4 of 4). These functions will not be directly callable after loading.\n",
            "WARNING:absl:<keras.layers.recurrent.LSTMCell object at 0x7f1423289cd0> has the same name 'LSTMCell' as a built-in Keras object. Consider renaming <class 'keras.layers.recurrent.LSTMCell'> to avoid naming conflicts when loading with `tf.keras.models.load_model`. If renaming is not possible, pass the object in the `custom_objects` parameter of the load function.\n",
            "WARNING:absl:<keras.layers.recurrent.LSTMCell object at 0x7f1423289a90> has the same name 'LSTMCell' as a built-in Keras object. Consider renaming <class 'keras.layers.recurrent.LSTMCell'> to avoid naming conflicts when loading with `tf.keras.models.load_model`. If renaming is not possible, pass the object in the `custom_objects` parameter of the load function.\n"
          ]
        },
        {
          "name": "stdout",
          "output_type": "stream",
          "text": [
            "\b\b\b\b\b\b\b\b\b\b\b\b\b\b\b\b\b\b\b\b\b\b\b\b\b\b\b\b\b\b\b\b\b\b\b\b\b\b\b\b\b\b\b\b\b\b\b\b\b\b\b\b\b\b\b\b\b\b\b\b\b\b\b\b\b\b\b\r8847/8847 [==============================] - 141s 16ms/step - loss: 0.1388 - val_loss: 0.2318 - lr: 0.0010\n",
            "Epoch 16/60\n",
            "8845/8847 [============================>.] - ETA: 0s - loss: 0.1333"
          ]
        },
        {
          "name": "stderr",
          "output_type": "stream",
          "text": [
            "WARNING:absl:Found untraced functions such as lstm_cell_2_layer_call_fn, lstm_cell_2_layer_call_and_return_conditional_losses, lstm_cell_3_layer_call_fn, lstm_cell_3_layer_call_and_return_conditional_losses while saving (showing 4 of 4). These functions will not be directly callable after loading.\n",
            "WARNING:absl:<keras.layers.recurrent.LSTMCell object at 0x7f1423289cd0> has the same name 'LSTMCell' as a built-in Keras object. Consider renaming <class 'keras.layers.recurrent.LSTMCell'> to avoid naming conflicts when loading with `tf.keras.models.load_model`. If renaming is not possible, pass the object in the `custom_objects` parameter of the load function.\n",
            "WARNING:absl:<keras.layers.recurrent.LSTMCell object at 0x7f1423289a90> has the same name 'LSTMCell' as a built-in Keras object. Consider renaming <class 'keras.layers.recurrent.LSTMCell'> to avoid naming conflicts when loading with `tf.keras.models.load_model`. If renaming is not possible, pass the object in the `custom_objects` parameter of the load function.\n"
          ]
        },
        {
          "name": "stdout",
          "output_type": "stream",
          "text": [
            "\b\b\b\b\b\b\b\b\b\b\b\b\b\b\b\b\b\b\b\b\b\b\b\b\b\b\b\b\b\b\b\b\b\b\b\b\b\b\b\b\b\b\b\b\b\b\b\b\b\b\b\b\b\b\b\b\b\b\b\b\b\b\b\b\b\b\b\r8847/8847 [==============================] - 141s 16ms/step - loss: 0.1333 - val_loss: 0.2318 - lr: 0.0010\n",
            "Epoch 17/60\n",
            "8845/8847 [============================>.] - ETA: 0s - loss: 0.1284"
          ]
        },
        {
          "name": "stderr",
          "output_type": "stream",
          "text": [
            "WARNING:absl:Found untraced functions such as lstm_cell_2_layer_call_fn, lstm_cell_2_layer_call_and_return_conditional_losses, lstm_cell_3_layer_call_fn, lstm_cell_3_layer_call_and_return_conditional_losses while saving (showing 4 of 4). These functions will not be directly callable after loading.\n",
            "WARNING:absl:<keras.layers.recurrent.LSTMCell object at 0x7f1423289cd0> has the same name 'LSTMCell' as a built-in Keras object. Consider renaming <class 'keras.layers.recurrent.LSTMCell'> to avoid naming conflicts when loading with `tf.keras.models.load_model`. If renaming is not possible, pass the object in the `custom_objects` parameter of the load function.\n",
            "WARNING:absl:<keras.layers.recurrent.LSTMCell object at 0x7f1423289a90> has the same name 'LSTMCell' as a built-in Keras object. Consider renaming <class 'keras.layers.recurrent.LSTMCell'> to avoid naming conflicts when loading with `tf.keras.models.load_model`. If renaming is not possible, pass the object in the `custom_objects` parameter of the load function.\n"
          ]
        },
        {
          "name": "stdout",
          "output_type": "stream",
          "text": [
            "\b\b\b\b\b\b\b\b\b\b\b\b\b\b\b\b\b\b\b\b\b\b\b\b\b\b\b\b\b\b\b\b\b\b\b\b\b\b\b\b\b\b\b\b\b\b\b\b\b\b\b\b\b\b\b\b\b\b\b\b\b\b\b\b\b\b\b\r8847/8847 [==============================] - 141s 16ms/step - loss: 0.1284 - val_loss: 0.2273 - lr: 0.0010\n",
            "Epoch 18/60\n",
            "8847/8847 [==============================] - ETA: 0s - loss: 0.1241"
          ]
        },
        {
          "name": "stderr",
          "output_type": "stream",
          "text": [
            "WARNING:absl:Found untraced functions such as lstm_cell_2_layer_call_fn, lstm_cell_2_layer_call_and_return_conditional_losses, lstm_cell_3_layer_call_fn, lstm_cell_3_layer_call_and_return_conditional_losses while saving (showing 4 of 4). These functions will not be directly callable after loading.\n",
            "WARNING:absl:<keras.layers.recurrent.LSTMCell object at 0x7f1423289cd0> has the same name 'LSTMCell' as a built-in Keras object. Consider renaming <class 'keras.layers.recurrent.LSTMCell'> to avoid naming conflicts when loading with `tf.keras.models.load_model`. If renaming is not possible, pass the object in the `custom_objects` parameter of the load function.\n",
            "WARNING:absl:<keras.layers.recurrent.LSTMCell object at 0x7f1423289a90> has the same name 'LSTMCell' as a built-in Keras object. Consider renaming <class 'keras.layers.recurrent.LSTMCell'> to avoid naming conflicts when loading with `tf.keras.models.load_model`. If renaming is not possible, pass the object in the `custom_objects` parameter of the load function.\n"
          ]
        },
        {
          "name": "stdout",
          "output_type": "stream",
          "text": [
            "\b\b\b\b\b\b\b\b\b\b\b\b\b\b\b\b\b\b\b\b\b\b\b\b\b\b\b\b\b\b\b\b\b\b\b\b\b\b\b\b\b\b\b\b\b\b\b\b\b\b\b\b\b\b\b\b\b\b\b\b\b\b\b\b\b\b\b\r8847/8847 [==============================] - 141s 16ms/step - loss: 0.1241 - val_loss: 0.2272 - lr: 0.0010\n",
            "Epoch 19/60\n",
            "8847/8847 [==============================] - ETA: 0s - loss: 0.1201"
          ]
        },
        {
          "name": "stderr",
          "output_type": "stream",
          "text": [
            "WARNING:absl:Found untraced functions such as lstm_cell_2_layer_call_fn, lstm_cell_2_layer_call_and_return_conditional_losses, lstm_cell_3_layer_call_fn, lstm_cell_3_layer_call_and_return_conditional_losses while saving (showing 4 of 4). These functions will not be directly callable after loading.\n",
            "WARNING:absl:<keras.layers.recurrent.LSTMCell object at 0x7f1423289cd0> has the same name 'LSTMCell' as a built-in Keras object. Consider renaming <class 'keras.layers.recurrent.LSTMCell'> to avoid naming conflicts when loading with `tf.keras.models.load_model`. If renaming is not possible, pass the object in the `custom_objects` parameter of the load function.\n",
            "WARNING:absl:<keras.layers.recurrent.LSTMCell object at 0x7f1423289a90> has the same name 'LSTMCell' as a built-in Keras object. Consider renaming <class 'keras.layers.recurrent.LSTMCell'> to avoid naming conflicts when loading with `tf.keras.models.load_model`. If renaming is not possible, pass the object in the `custom_objects` parameter of the load function.\n"
          ]
        },
        {
          "name": "stdout",
          "output_type": "stream",
          "text": [
            "\b\b\b\b\b\b\b\b\b\b\b\b\b\b\b\b\b\b\b\b\b\b\b\b\b\b\b\b\b\b\b\b\b\b\b\b\b\b\b\b\b\b\b\b\b\b\b\b\b\b\b\b\b\b\b\b\b\b\b\b\b\b\b\b\b\b\b\r8847/8847 [==============================] - 141s 16ms/step - loss: 0.1201 - val_loss: 0.2271 - lr: 0.0010\n",
            "Epoch 20/60\n",
            "8844/8847 [============================>.] - ETA: 0s - loss: 0.1166"
          ]
        },
        {
          "name": "stderr",
          "output_type": "stream",
          "text": [
            "WARNING:absl:Found untraced functions such as lstm_cell_2_layer_call_fn, lstm_cell_2_layer_call_and_return_conditional_losses, lstm_cell_3_layer_call_fn, lstm_cell_3_layer_call_and_return_conditional_losses while saving (showing 4 of 4). These functions will not be directly callable after loading.\n",
            "WARNING:absl:<keras.layers.recurrent.LSTMCell object at 0x7f1423289cd0> has the same name 'LSTMCell' as a built-in Keras object. Consider renaming <class 'keras.layers.recurrent.LSTMCell'> to avoid naming conflicts when loading with `tf.keras.models.load_model`. If renaming is not possible, pass the object in the `custom_objects` parameter of the load function.\n",
            "WARNING:absl:<keras.layers.recurrent.LSTMCell object at 0x7f1423289a90> has the same name 'LSTMCell' as a built-in Keras object. Consider renaming <class 'keras.layers.recurrent.LSTMCell'> to avoid naming conflicts when loading with `tf.keras.models.load_model`. If renaming is not possible, pass the object in the `custom_objects` parameter of the load function.\n"
          ]
        },
        {
          "name": "stdout",
          "output_type": "stream",
          "text": [
            "\b\b\b\b\b\b\b\b\b\b\b\b\b\b\b\b\b\b\b\b\b\b\b\b\b\b\b\b\b\b\b\b\b\b\b\b\b\b\b\b\b\b\b\b\b\b\b\b\b\b\b\b\b\b\b\b\b\b\b\b\b\b\b\b\b\b\b\r8847/8847 [==============================] - 141s 16ms/step - loss: 0.1166 - val_loss: 0.2245 - lr: 0.0010\n",
            "Epoch 21/60\n",
            "8845/8847 [============================>.] - ETA: 0s - loss: 0.1105"
          ]
        },
        {
          "name": "stderr",
          "output_type": "stream",
          "text": [
            "WARNING:absl:Found untraced functions such as lstm_cell_2_layer_call_fn, lstm_cell_2_layer_call_and_return_conditional_losses, lstm_cell_3_layer_call_fn, lstm_cell_3_layer_call_and_return_conditional_losses while saving (showing 4 of 4). These functions will not be directly callable after loading.\n",
            "WARNING:absl:<keras.layers.recurrent.LSTMCell object at 0x7f1423289cd0> has the same name 'LSTMCell' as a built-in Keras object. Consider renaming <class 'keras.layers.recurrent.LSTMCell'> to avoid naming conflicts when loading with `tf.keras.models.load_model`. If renaming is not possible, pass the object in the `custom_objects` parameter of the load function.\n",
            "WARNING:absl:<keras.layers.recurrent.LSTMCell object at 0x7f1423289a90> has the same name 'LSTMCell' as a built-in Keras object. Consider renaming <class 'keras.layers.recurrent.LSTMCell'> to avoid naming conflicts when loading with `tf.keras.models.load_model`. If renaming is not possible, pass the object in the `custom_objects` parameter of the load function.\n"
          ]
        },
        {
          "name": "stdout",
          "output_type": "stream",
          "text": [
            "\b\b\b\b\b\b\b\b\b\b\b\b\b\b\b\b\b\b\b\b\b\b\b\b\b\b\b\b\b\b\b\b\b\b\b\b\b\b\b\b\b\b\b\b\b\b\b\b\b\b\b\b\b\b\b\b\b\b\b\b\b\b\b\b\b\b\b\r8847/8847 [==============================] - 141s 16ms/step - loss: 0.1105 - val_loss: 0.2231 - lr: 9.0000e-04\n",
            "Epoch 22/60\n",
            "8845/8847 [============================>.] - ETA: 0s - loss: 0.1047"
          ]
        },
        {
          "name": "stderr",
          "output_type": "stream",
          "text": [
            "WARNING:absl:Found untraced functions such as lstm_cell_2_layer_call_fn, lstm_cell_2_layer_call_and_return_conditional_losses, lstm_cell_3_layer_call_fn, lstm_cell_3_layer_call_and_return_conditional_losses while saving (showing 4 of 4). These functions will not be directly callable after loading.\n",
            "WARNING:absl:<keras.layers.recurrent.LSTMCell object at 0x7f1423289cd0> has the same name 'LSTMCell' as a built-in Keras object. Consider renaming <class 'keras.layers.recurrent.LSTMCell'> to avoid naming conflicts when loading with `tf.keras.models.load_model`. If renaming is not possible, pass the object in the `custom_objects` parameter of the load function.\n",
            "WARNING:absl:<keras.layers.recurrent.LSTMCell object at 0x7f1423289a90> has the same name 'LSTMCell' as a built-in Keras object. Consider renaming <class 'keras.layers.recurrent.LSTMCell'> to avoid naming conflicts when loading with `tf.keras.models.load_model`. If renaming is not possible, pass the object in the `custom_objects` parameter of the load function.\n"
          ]
        },
        {
          "name": "stdout",
          "output_type": "stream",
          "text": [
            "\b\b\b\b\b\b\b\b\b\b\b\b\b\b\b\b\b\b\b\b\b\b\b\b\b\b\b\b\b\b\b\b\b\b\b\b\b\b\b\b\b\b\b\b\b\b\b\b\b\b\b\b\b\b\b\b\b\b\b\b\b\b\b\b\b\b\b\r8847/8847 [==============================] - 142s 16ms/step - loss: 0.1047 - val_loss: 0.2207 - lr: 8.1000e-04\n",
            "Epoch 23/60\n",
            "8844/8847 [============================>.] - ETA: 0s - loss: 0.0995"
          ]
        },
        {
          "name": "stderr",
          "output_type": "stream",
          "text": [
            "WARNING:absl:Found untraced functions such as lstm_cell_2_layer_call_fn, lstm_cell_2_layer_call_and_return_conditional_losses, lstm_cell_3_layer_call_fn, lstm_cell_3_layer_call_and_return_conditional_losses while saving (showing 4 of 4). These functions will not be directly callable after loading.\n",
            "WARNING:absl:<keras.layers.recurrent.LSTMCell object at 0x7f1423289cd0> has the same name 'LSTMCell' as a built-in Keras object. Consider renaming <class 'keras.layers.recurrent.LSTMCell'> to avoid naming conflicts when loading with `tf.keras.models.load_model`. If renaming is not possible, pass the object in the `custom_objects` parameter of the load function.\n",
            "WARNING:absl:<keras.layers.recurrent.LSTMCell object at 0x7f1423289a90> has the same name 'LSTMCell' as a built-in Keras object. Consider renaming <class 'keras.layers.recurrent.LSTMCell'> to avoid naming conflicts when loading with `tf.keras.models.load_model`. If renaming is not possible, pass the object in the `custom_objects` parameter of the load function.\n"
          ]
        },
        {
          "name": "stdout",
          "output_type": "stream",
          "text": [
            "\b\b\b\b\b\b\b\b\b\b\b\b\b\b\b\b\b\b\b\b\b\b\b\b\b\b\b\b\b\b\b\b\b\b\b\b\b\b\b\b\b\b\b\b\b\b\b\b\b\b\b\b\b\b\b\b\b\b\b\b\b\b\b\b\b\b\b\r8847/8847 [==============================] - 142s 16ms/step - loss: 0.0995 - val_loss: 0.2203 - lr: 7.2900e-04\n",
            "Epoch 24/60\n",
            "8845/8847 [============================>.] - ETA: 0s - loss: 0.0949"
          ]
        },
        {
          "name": "stderr",
          "output_type": "stream",
          "text": [
            "WARNING:absl:Found untraced functions such as lstm_cell_2_layer_call_fn, lstm_cell_2_layer_call_and_return_conditional_losses, lstm_cell_3_layer_call_fn, lstm_cell_3_layer_call_and_return_conditional_losses while saving (showing 4 of 4). These functions will not be directly callable after loading.\n",
            "WARNING:absl:<keras.layers.recurrent.LSTMCell object at 0x7f1423289cd0> has the same name 'LSTMCell' as a built-in Keras object. Consider renaming <class 'keras.layers.recurrent.LSTMCell'> to avoid naming conflicts when loading with `tf.keras.models.load_model`. If renaming is not possible, pass the object in the `custom_objects` parameter of the load function.\n",
            "WARNING:absl:<keras.layers.recurrent.LSTMCell object at 0x7f1423289a90> has the same name 'LSTMCell' as a built-in Keras object. Consider renaming <class 'keras.layers.recurrent.LSTMCell'> to avoid naming conflicts when loading with `tf.keras.models.load_model`. If renaming is not possible, pass the object in the `custom_objects` parameter of the load function.\n"
          ]
        },
        {
          "name": "stdout",
          "output_type": "stream",
          "text": [
            "\b\b\b\b\b\b\b\b\b\b\b\b\b\b\b\b\b\b\b\b\b\b\b\b\b\b\b\b\b\b\b\b\b\b\b\b\b\b\b\b\b\b\b\b\b\b\b\b\b\b\b\b\b\b\b\b\b\b\b\b\b\b\b\b\b\b\b\r8847/8847 [==============================] - 142s 16ms/step - loss: 0.0949 - val_loss: 0.2189 - lr: 6.5610e-04\n",
            "Epoch 25/60\n",
            "8844/8847 [============================>.] - ETA: 0s - loss: 0.0909"
          ]
        },
        {
          "name": "stderr",
          "output_type": "stream",
          "text": [
            "WARNING:absl:Found untraced functions such as lstm_cell_2_layer_call_fn, lstm_cell_2_layer_call_and_return_conditional_losses, lstm_cell_3_layer_call_fn, lstm_cell_3_layer_call_and_return_conditional_losses while saving (showing 4 of 4). These functions will not be directly callable after loading.\n",
            "WARNING:absl:<keras.layers.recurrent.LSTMCell object at 0x7f1423289cd0> has the same name 'LSTMCell' as a built-in Keras object. Consider renaming <class 'keras.layers.recurrent.LSTMCell'> to avoid naming conflicts when loading with `tf.keras.models.load_model`. If renaming is not possible, pass the object in the `custom_objects` parameter of the load function.\n",
            "WARNING:absl:<keras.layers.recurrent.LSTMCell object at 0x7f1423289a90> has the same name 'LSTMCell' as a built-in Keras object. Consider renaming <class 'keras.layers.recurrent.LSTMCell'> to avoid naming conflicts when loading with `tf.keras.models.load_model`. If renaming is not possible, pass the object in the `custom_objects` parameter of the load function.\n"
          ]
        },
        {
          "name": "stdout",
          "output_type": "stream",
          "text": [
            "\b\b\b\b\b\b\b\b\b\b\b\b\b\b\b\b\b\b\b\b\b\b\b\b\b\b\b\b\b\b\b\b\b\b\b\b\b\b\b\b\b\b\b\b\b\b\b\b\b\b\b\b\b\b\b\b\b\b\b\b\b\b\b\b\b\b\b\r8847/8847 [==============================] - 141s 16ms/step - loss: 0.0909 - val_loss: 0.2178 - lr: 5.9049e-04\n",
            "Epoch 26/60\n",
            "8845/8847 [============================>.] - ETA: 0s - loss: 0.0873"
          ]
        },
        {
          "name": "stderr",
          "output_type": "stream",
          "text": [
            "WARNING:absl:Found untraced functions such as lstm_cell_2_layer_call_fn, lstm_cell_2_layer_call_and_return_conditional_losses, lstm_cell_3_layer_call_fn, lstm_cell_3_layer_call_and_return_conditional_losses while saving (showing 4 of 4). These functions will not be directly callable after loading.\n",
            "WARNING:absl:<keras.layers.recurrent.LSTMCell object at 0x7f1423289cd0> has the same name 'LSTMCell' as a built-in Keras object. Consider renaming <class 'keras.layers.recurrent.LSTMCell'> to avoid naming conflicts when loading with `tf.keras.models.load_model`. If renaming is not possible, pass the object in the `custom_objects` parameter of the load function.\n",
            "WARNING:absl:<keras.layers.recurrent.LSTMCell object at 0x7f1423289a90> has the same name 'LSTMCell' as a built-in Keras object. Consider renaming <class 'keras.layers.recurrent.LSTMCell'> to avoid naming conflicts when loading with `tf.keras.models.load_model`. If renaming is not possible, pass the object in the `custom_objects` parameter of the load function.\n"
          ]
        },
        {
          "name": "stdout",
          "output_type": "stream",
          "text": [
            "\b\b\b\b\b\b\b\b\b\b\b\b\b\b\b\b\b\b\b\b\b\b\b\b\b\b\b\b\b\b\b\b\b\b\b\b\b\b\b\b\b\b\b\b\b\b\b\b\b\b\b\b\b\b\b\b\b\b\b\b\b\b\b\b\b\b\b\r8847/8847 [==============================] - 142s 16ms/step - loss: 0.0873 - val_loss: 0.2176 - lr: 5.3144e-04\n",
            "Epoch 27/60\n",
            "8845/8847 [============================>.] - ETA: 0s - loss: 0.0842"
          ]
        },
        {
          "name": "stderr",
          "output_type": "stream",
          "text": [
            "WARNING:absl:Found untraced functions such as lstm_cell_2_layer_call_fn, lstm_cell_2_layer_call_and_return_conditional_losses, lstm_cell_3_layer_call_fn, lstm_cell_3_layer_call_and_return_conditional_losses while saving (showing 4 of 4). These functions will not be directly callable after loading.\n",
            "WARNING:absl:<keras.layers.recurrent.LSTMCell object at 0x7f1423289cd0> has the same name 'LSTMCell' as a built-in Keras object. Consider renaming <class 'keras.layers.recurrent.LSTMCell'> to avoid naming conflicts when loading with `tf.keras.models.load_model`. If renaming is not possible, pass the object in the `custom_objects` parameter of the load function.\n",
            "WARNING:absl:<keras.layers.recurrent.LSTMCell object at 0x7f1423289a90> has the same name 'LSTMCell' as a built-in Keras object. Consider renaming <class 'keras.layers.recurrent.LSTMCell'> to avoid naming conflicts when loading with `tf.keras.models.load_model`. If renaming is not possible, pass the object in the `custom_objects` parameter of the load function.\n"
          ]
        },
        {
          "name": "stdout",
          "output_type": "stream",
          "text": [
            "\b\b\b\b\b\b\b\b\b\b\b\b\b\b\b\b\b\b\b\b\b\b\b\b\b\b\b\b\b\b\b\b\b\b\b\b\b\b\b\b\b\b\b\b\b\b\b\b\b\b\b\b\b\b\b\b\b\b\b\b\b\b\b\b\b\b\b\r8847/8847 [==============================] - 141s 16ms/step - loss: 0.0842 - val_loss: 0.2169 - lr: 4.7830e-04\n",
            "Epoch 28/60\n",
            "8845/8847 [============================>.] - ETA: 0s - loss: 0.0813"
          ]
        },
        {
          "name": "stderr",
          "output_type": "stream",
          "text": [
            "WARNING:absl:Found untraced functions such as lstm_cell_2_layer_call_fn, lstm_cell_2_layer_call_and_return_conditional_losses, lstm_cell_3_layer_call_fn, lstm_cell_3_layer_call_and_return_conditional_losses while saving (showing 4 of 4). These functions will not be directly callable after loading.\n",
            "WARNING:absl:<keras.layers.recurrent.LSTMCell object at 0x7f1423289cd0> has the same name 'LSTMCell' as a built-in Keras object. Consider renaming <class 'keras.layers.recurrent.LSTMCell'> to avoid naming conflicts when loading with `tf.keras.models.load_model`. If renaming is not possible, pass the object in the `custom_objects` parameter of the load function.\n",
            "WARNING:absl:<keras.layers.recurrent.LSTMCell object at 0x7f1423289a90> has the same name 'LSTMCell' as a built-in Keras object. Consider renaming <class 'keras.layers.recurrent.LSTMCell'> to avoid naming conflicts when loading with `tf.keras.models.load_model`. If renaming is not possible, pass the object in the `custom_objects` parameter of the load function.\n"
          ]
        },
        {
          "name": "stdout",
          "output_type": "stream",
          "text": [
            "\b\b\b\b\b\b\b\b\b\b\b\b\b\b\b\b\b\b\b\b\b\b\b\b\b\b\b\b\b\b\b\b\b\b\b\b\b\b\b\b\b\b\b\b\b\b\b\b\b\b\b\b\b\b\b\b\b\b\b\b\b\b\b\b\b\b\b\r8847/8847 [==============================] - 142s 16ms/step - loss: 0.0813 - val_loss: 0.2174 - lr: 4.3047e-04\n",
            "Epoch 29/60\n",
            "8845/8847 [============================>.] - ETA: 0s - loss: 0.0788"
          ]
        },
        {
          "name": "stderr",
          "output_type": "stream",
          "text": [
            "WARNING:absl:Found untraced functions such as lstm_cell_2_layer_call_fn, lstm_cell_2_layer_call_and_return_conditional_losses, lstm_cell_3_layer_call_fn, lstm_cell_3_layer_call_and_return_conditional_losses while saving (showing 4 of 4). These functions will not be directly callable after loading.\n",
            "WARNING:absl:<keras.layers.recurrent.LSTMCell object at 0x7f1423289cd0> has the same name 'LSTMCell' as a built-in Keras object. Consider renaming <class 'keras.layers.recurrent.LSTMCell'> to avoid naming conflicts when loading with `tf.keras.models.load_model`. If renaming is not possible, pass the object in the `custom_objects` parameter of the load function.\n",
            "WARNING:absl:<keras.layers.recurrent.LSTMCell object at 0x7f1423289a90> has the same name 'LSTMCell' as a built-in Keras object. Consider renaming <class 'keras.layers.recurrent.LSTMCell'> to avoid naming conflicts when loading with `tf.keras.models.load_model`. If renaming is not possible, pass the object in the `custom_objects` parameter of the load function.\n"
          ]
        },
        {
          "name": "stdout",
          "output_type": "stream",
          "text": [
            "\b\b\b\b\b\b\b\b\b\b\b\b\b\b\b\b\b\b\b\b\b\b\b\b\b\b\b\b\b\b\b\b\b\b\b\b\b\b\b\b\b\b\b\b\b\b\b\b\b\b\b\b\b\b\b\b\b\b\b\b\b\b\b\b\b\b\b\r8847/8847 [==============================] - 142s 16ms/step - loss: 0.0788 - val_loss: 0.2176 - lr: 3.8742e-04\n",
            "Epoch 30/60\n",
            "8844/8847 [============================>.] - ETA: 0s - loss: 0.0765"
          ]
        },
        {
          "name": "stderr",
          "output_type": "stream",
          "text": [
            "WARNING:absl:Found untraced functions such as lstm_cell_2_layer_call_fn, lstm_cell_2_layer_call_and_return_conditional_losses, lstm_cell_3_layer_call_fn, lstm_cell_3_layer_call_and_return_conditional_losses while saving (showing 4 of 4). These functions will not be directly callable after loading.\n",
            "WARNING:absl:<keras.layers.recurrent.LSTMCell object at 0x7f1423289cd0> has the same name 'LSTMCell' as a built-in Keras object. Consider renaming <class 'keras.layers.recurrent.LSTMCell'> to avoid naming conflicts when loading with `tf.keras.models.load_model`. If renaming is not possible, pass the object in the `custom_objects` parameter of the load function.\n",
            "WARNING:absl:<keras.layers.recurrent.LSTMCell object at 0x7f1423289a90> has the same name 'LSTMCell' as a built-in Keras object. Consider renaming <class 'keras.layers.recurrent.LSTMCell'> to avoid naming conflicts when loading with `tf.keras.models.load_model`. If renaming is not possible, pass the object in the `custom_objects` parameter of the load function.\n"
          ]
        },
        {
          "name": "stdout",
          "output_type": "stream",
          "text": [
            "\b\b\b\b\b\b\b\b\b\b\b\b\b\b\b\b\b\b\b\b\b\b\b\b\b\b\b\b\b\b\b\b\b\b\b\b\b\b\b\b\b\b\b\b\b\b\b\b\b\b\b\b\b\b\b\b\b\b\b\b\b\b\b\b\b\b\b\r8847/8847 [==============================] - 142s 16ms/step - loss: 0.0765 - val_loss: 0.2178 - lr: 3.4868e-04\n",
            "Epoch 31/60\n",
            "8845/8847 [============================>.] - ETA: 0s - loss: 0.0745"
          ]
        },
        {
          "name": "stderr",
          "output_type": "stream",
          "text": [
            "WARNING:absl:Found untraced functions such as lstm_cell_2_layer_call_fn, lstm_cell_2_layer_call_and_return_conditional_losses, lstm_cell_3_layer_call_fn, lstm_cell_3_layer_call_and_return_conditional_losses while saving (showing 4 of 4). These functions will not be directly callable after loading.\n",
            "WARNING:absl:<keras.layers.recurrent.LSTMCell object at 0x7f1423289cd0> has the same name 'LSTMCell' as a built-in Keras object. Consider renaming <class 'keras.layers.recurrent.LSTMCell'> to avoid naming conflicts when loading with `tf.keras.models.load_model`. If renaming is not possible, pass the object in the `custom_objects` parameter of the load function.\n",
            "WARNING:absl:<keras.layers.recurrent.LSTMCell object at 0x7f1423289a90> has the same name 'LSTMCell' as a built-in Keras object. Consider renaming <class 'keras.layers.recurrent.LSTMCell'> to avoid naming conflicts when loading with `tf.keras.models.load_model`. If renaming is not possible, pass the object in the `custom_objects` parameter of the load function.\n"
          ]
        },
        {
          "name": "stdout",
          "output_type": "stream",
          "text": [
            "\b\b\b\b\b\b\b\b\b\b\b\b\b\b\b\b\b\b\b\b\b\b\b\b\b\b\b\b\b\b\b\b\b\b\b\b\b\b\b\b\b\b\b\b\b\b\b\b\b\b\b\b\b\b\b\b\b\b\b\b\b\b\b\b\b\b\b\r8847/8847 [==============================] - 142s 16ms/step - loss: 0.0745 - val_loss: 0.2177 - lr: 3.1381e-04\n"
          ]
        }
      ],
      "source": [
        "#Create an object of encoder_decoder Model class, \n",
        "# Compile the model and fit the model\n",
        "\n",
        "model = Encoder_decoder()\n",
        "model.compile(optimizer=tf.keras.optimizers.Adam(),\n",
        "              loss='sparse_categorical_crossentropy')\n",
        "hist = model.fit([ita_inp, eng_inp],eng_out, epochs=60, batch_size=32,\n",
        "                 validation_data=([ita_inp_val, eng_inp_val],eng_out_val),\n",
        "                 callbacks=[lr, stopper, saver, tb])"
      ]
    },
    {
      "cell_type": "code",
      "execution_count": null,
      "metadata": {
        "colab": {
          "base_uri": "https://localhost:8080/"
        },
        "id": "skLBZzGufdh0",
        "outputId": "14340f26-0b1f-429d-99fc-1d1401db47dc"
      },
      "outputs": [
        {
          "name": "stdout",
          "output_type": "stream",
          "text": [
            "Model: \"encoder_decoder\"\n",
            "_________________________________________________________________\n",
            " Layer (type)                Output Shape              Param #   \n",
            "=================================================================\n",
            " encoder_1 (Encoder)         multiple                  1366890   \n",
            "                                                                 \n",
            " decoder_1 (Decoder)         multiple                  1352140   \n",
            "                                                                 \n",
            " time_distributed (TimeDistr  multiple                 851435    \n",
            " ibuted)                                                         \n",
            "                                                                 \n",
            "=================================================================\n",
            "Total params: 3,570,465\n",
            "Trainable params: 3,570,465\n",
            "Non-trainable params: 0\n",
            "_________________________________________________________________\n"
          ]
        }
      ],
      "source": [
        "model.summary()"
      ]
    },
    {
      "cell_type": "code",
      "execution_count": null,
      "metadata": {
        "id": "b7t7xf3GEgsy"
      },
      "outputs": [],
      "source": [
        "%load_ext tensorboard\n",
        "%tensorboard --logdir /content/model_1/logs"
      ]
    },
    {
      "attachments": {},
      "cell_type": "markdown",
      "metadata": {
        "id": "0QzbN_m3FmNd"
      },
      "source": [
        "![image.png](data:image/png;base64,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)"
      ]
    },
    {
      "cell_type": "code",
      "execution_count": null,
      "metadata": {
        "id": "SkARSlZgLOfE"
      },
      "outputs": [],
      "source": [
        "def predict(input_sentence):\n",
        "\n",
        "    '''\n",
        "    A. Given input sentence, convert the sentence into integers using tokenizer used earlier\n",
        "    B. Pass the input_sequence to encoder. we get encoder_outputs, last time step hidden and cell state\n",
        "    C. Initialize index of <start> as input to decoder. and encoder final states as input_states to decoder\n",
        "    D. till we reach max_length of decoder or till the model predicted word <end>:\n",
        "            predicted_out,state_h,state_c=model.layers[1](dec_input,states)\n",
        "            pass the predicted_out to the dense layer\n",
        "            update the states=[state_h,state_c]\n",
        "            And get the index of the word with maximum probability of the dense layer output, using the tokenizer(word index) get the word and then store it in a string.\n",
        "            Update the input_to_decoder with current predictions\n",
        "    F. Return the predicted sentence\n",
        "    '''\n",
        "    pred_sent = []\n",
        "    sent = ita_tokenizer.texts_to_sequences([input_sentence])\n",
        "    sent = pad_sequences(sent, maxlen=maxlen, padding='post')\n",
        "    #print(sent, len(sent))\n",
        "    enc_op, state_h, state_c = model.layers[0](sent)\n",
        "    \n",
        "    encoder_states = [state_h, state_c]\n",
        "\n",
        "    target_word=np.zeros((1,1))\n",
        "    target_word[0,0]=1\n",
        "    \n",
        "    stop = False\n",
        "    # k = 0\n",
        "    \n",
        "    while not stop:    \n",
        "        dec_op, state_h, state_c = model.layers[1](target_word, encoder_states)\n",
        "        encoder_states = [state_h, state_c]\n",
        "        dense_op = model.layers[2](dec_op)\n",
        "        word_id = np.argmax(dense_op, axis=-1)[0][0]\n",
        "        #print(word_id)\n",
        "        target_word = word_id.reshape(1,1)\n",
        "        word = eng_tokenizer.index_word.get(word_id)\n",
        "        if word == '<end>':\n",
        "            stop = True\n",
        "        else:\n",
        "            pred_sent.append(str(word))    \n",
        "    return ' '.join(pred_sent)\n"
      ]
    },
    {
      "cell_type": "code",
      "execution_count": null,
      "metadata": {
        "id": "lM-IUJYw08Ew"
      },
      "outputs": [],
      "source": [
        "sam = validation['italian_inp'].values[1]\n",
        "sam_targ = validation['english_out'].values[1]"
      ]
    },
    {
      "cell_type": "code",
      "execution_count": null,
      "metadata": {
        "colab": {
          "base_uri": "https://localhost:8080/"
        },
        "id": "olnA46lD07gb",
        "outputId": "0300fb48-c574-4a93-d9fc-77dd3f430e7f"
      },
      "outputs": [
        {
          "name": "stdout",
          "output_type": "stream",
          "text": [
            "Italian inp:  <start> beve del tè verde <end>\n",
            "machine op:  do you drink green tea\n",
            "target op:  do you drink green tea\n"
          ]
        }
      ],
      "source": [
        "# Sample prediction\n",
        "sam_op = predict(sam)\n",
        "print(\"Italian inp: \", sam)\n",
        "print(\"machine op: \", sam_op)\n",
        "print(\"target op: \", sam_targ[0:-6])"
      ]
    },
    {
      "cell_type": "code",
      "execution_count": null,
      "metadata": {
        "colab": {
          "base_uri": "https://localhost:8080/"
        },
        "id": "5C-MlgQbwEDP",
        "outputId": "c9a1bc05-c533-4dc3-81d9-d2ce4f9475f0"
      },
      "outputs": [
        {
          "name": "stderr",
          "output_type": "stream",
          "text": [
            "100%|██████████| 1000/1000 [01:00<00:00, 16.48it/s]"
          ]
        },
        {
          "name": "stdout",
          "output_type": "stream",
          "text": [
            "\n",
            "Avg BLEU Score for 1000 samples: 0.2602\n"
          ]
        },
        {
          "name": "stderr",
          "output_type": "stream",
          "text": [
            "\n"
          ]
        }
      ],
      "source": [
        "from nltk.translate import bleu_score\n",
        "\n",
        "test_data = validation.sample(1000)\n",
        "test_data_ita = test_data['italian_inp'].values\n",
        "test_data_eng_in = test_data['english_inp'].values\n",
        "test_data_eng_out = test_data['english_out'].values\n",
        "\n",
        "blue_scores = []\n",
        "for i in tqdm(range(len(test_data_ita))):\n",
        "    eng_predicted = predict(test_data_ita[i])\n",
        "    score = bleu_score.sentence_bleu([test_data_eng_out[i][0:-6].split()], eng_predicted[0:-6].split())\n",
        "    blue_scores.append(score)\n",
        "\n",
        "print(f\"\\nAvg BLEU Score for 1000 samples: {np.round(np.mean(blue_scores), 4)}\")"
      ]
    },
    {
      "attachments": {},
      "cell_type": "markdown",
      "metadata": {
        "id": "K_AZrIzCFy5q"
      },
      "source": [
        "For simple encoder-decoder model,\n",
        "Avg. BLEU score = 0.2602 (For 1000 samples)"
      ]
    },
    {
      "attachments": {},
      "cell_type": "markdown",
      "metadata": {
        "id": "yZhX3K9GLOfJ"
      },
      "source": [
        "## Task -2: Including Attention mechanism"
      ]
    },
    {
      "attachments": {},
      "cell_type": "markdown",
      "metadata": {
        "id": "Q3d7GeBMGbsJ"
      },
      "source": [
        "1. Using the preprocessed data from Task-1\n",
        "\n",
        "2. Implement an Encoder and Decoder architecture with  \n",
        "attention\n",
        "\n",
        "    * Encoder   - with 1 layer LSTM <br>\n",
        "    * Decoder   - with 1 layer LSTM<br>\n",
        "    * attention \n",
        "3. In Global attention, we have 3 types of scoring functions.>\n",
        "\n",
        "    * In model 1 we will implemnt \"dot\" score function\n",
        "    * In model 2 we will implemnt \"general\" score function\n",
        "    * In model 3 we will implemnt \"concat\" score function.<br>\n",
        "    "
      ]
    },
    {
      "attachments": {},
      "cell_type": "markdown",
      "metadata": {
        "id": "PU4KIsGxLOfK"
      },
      "source": [
        "### <font color='blue'>**Implement custom encoder decoder and attention layers**</font>"
      ]
    },
    {
      "cell_type": "code",
      "execution_count": null,
      "metadata": {
        "id": "ZgG8KwE7PiK2"
      },
      "outputs": [],
      "source": [
        "import os\n",
        "def create_directories(model_name):\n",
        "    if str(model_name) not in os.listdir():\n",
        "        os.mkdir(model_name)\n",
        "        os.mkdir(model_name+'/saved_models')\n",
        "        os.mkdir(model_name+'/logs')\n",
        "        print(f\"saved_models, logs directories created for {model_name}\")"
      ]
    },
    {
      "attachments": {},
      "cell_type": "markdown",
      "metadata": {
        "id": "TMm3ADQDLOfK"
      },
      "source": [
        "<font color='blue'>**Encoder**</font>"
      ]
    },
    {
      "cell_type": "code",
      "execution_count": null,
      "metadata": {
        "id": "075QGkAtnj_R"
      },
      "outputs": [],
      "source": [
        "from tensorflow.keras.layers import Embedding\n",
        "from tensorflow.keras.layers import LSTM\n",
        "from tensorflow.keras.layers import Dense\n",
        "from tensorflow.keras.layers import TimeDistributed"
      ]
    },
    {
      "cell_type": "code",
      "execution_count": null,
      "metadata": {
        "id": "Lx_5NA24KzRp"
      },
      "outputs": [],
      "source": [
        "class Encoder(tf.keras.Model):\n",
        "    '''\n",
        "    Encoder model -- That takes a input sequence and returns output sequence\n",
        "    '''\n",
        "\n",
        "    def __init__(self,inp_vocab_size,embedding_size,lstm_size,input_length):\n",
        "\n",
        "        # Initializing parameters\n",
        "        super(Encoder, self).__init__()\n",
        "        self.inp_vocab_size = inp_vocab_size\n",
        "        self.embedding_size = embedding_size\n",
        "        self.lstm_size = lstm_size\n",
        "        self.input_length = input_length\n",
        "\n",
        "        #Initialize Embedding layer\n",
        "        self.encoder_embedding = Embedding(input_dim = self.inp_vocab_size, \n",
        "                                           output_dim = self.embedding_size, \n",
        "                                           input_length = self.input_length)\n",
        "        #Intialize Encoder LSTM layer\n",
        "        self.encoder_lstm = LSTM(units = self.lstm_size, return_sequences=True, return_state=True)\n",
        "\n",
        "    def call(self,input_sequence,states):\n",
        "        '''\n",
        "          This function takes a sequence input and the initial states of the encoder.\n",
        "          Pass the input_sequence input to the Embedding layer, Pass the embedding layer ouput to encoder_lstm\n",
        "          returns -- All encoder_outputs, last time steps hidden and cell state\n",
        "        '''\n",
        "        emb_op = self.encoder_embedding(input_sequence)\n",
        "        enc_out, enc_h, enc_c = self.encoder_lstm(emb_op, states)\n",
        "        return enc_out, enc_h, enc_c\n",
        "    \n",
        "    def initialize_states(self,batch_size):\n",
        "        '''\n",
        "        Given a batch size it will return intial hidden state and intial cell state.\n",
        "        If batch size is 32- Hidden state is zeros of size [32,lstm_units], cell state zeros is of size [32,lstm_units]\n",
        "        '''\n",
        "        initial_h = tf.zeros(shape = (batch_size, self.lstm_size))\n",
        "        initial_c = tf.zeros(shape = (batch_size, self.lstm_size))\n",
        "        states = [initial_h, initial_c]\n",
        "        return states\n"
      ]
    },
    {
      "attachments": {},
      "cell_type": "markdown",
      "metadata": {
        "id": "lXn278lhLYRM"
      },
      "source": [
        "<font color='blue'>**Attention**</font>"
      ]
    },
    {
      "cell_type": "code",
      "execution_count": null,
      "metadata": {
        "id": "ab5SNdPZLlur"
      },
      "outputs": [],
      "source": [
        "class Attention(tf.keras.layers.Layer):\n",
        "  '''\n",
        "    Class calculates score based on the scoring_function using Bahdanu attention mechanism.\n",
        "  '''\n",
        "  def __init__(self,scoring_function, att_units):\n",
        "\n",
        "        super(Attention, self).__init__()\n",
        "        self.scoring_function = scoring_function\n",
        "        self.att_units = att_units\n",
        "        #self.attention_weights\n",
        "        #self.context_vector\n",
        "        \n",
        "        # Please go through the reference notebook and research paper to complete the scoring functions\n",
        "    \n",
        "        if self.scoring_function =='dot':\n",
        "            # Intialize variables needed for Dot score function here\n",
        "            self.V = tf.keras.layers.Dense(1)\n",
        "        \n",
        "        if scoring_function == 'general':\n",
        "        # Intialize variables needed for General score function here\n",
        "            w_init = tf.keras.initializers.RandomNormal()\n",
        "            self.w = tf.Variable(\n",
        "                initial_value= w_init(shape=(self.att_units, self.att_units),dtype='float32'),\n",
        "                trainable = True)\n",
        "        \n",
        "        elif scoring_function == 'concat':\n",
        "        # Intialize variables needed for Concat score function here\n",
        "            w1_init = tf.keras.initializers.RandomNormal()\n",
        "            w2_init = tf.keras.initializers.RandomNormal()\n",
        "            v_init = tf.keras.initializers.RandomNormal()\n",
        "            self.k = 16\n",
        "            \n",
        "            self.w1 = tf.Variable(\n",
        "                initial_value= w1_init(shape=(self.att_units, self.k),dtype='float32'),\n",
        "                trainable = True)\n",
        "            \n",
        "            self.w2 = tf.Variable(\n",
        "                initial_value= w2_init(shape=(self.att_units, self.k),dtype='float32'),\n",
        "                trainable = True)\n",
        "            \n",
        "            self.v = tf.Variable(\n",
        "                initial_value= w2_init(shape=(1, self.k),dtype='float32'),\n",
        "                trainable = True)\n",
        "  \n",
        "  def call(self,decoder_hidden_state,encoder_output):\n",
        "    '''\n",
        "      Attention mechanism takes two inputs current step -- decoder_hidden_state and all the encoder_outputs.\n",
        "      * Based on the scoring function we will find the score or similarity between decoder_hidden_state and encoder_output.\n",
        "        Multiply the score function with your encoder_outputs to get the context vector.\n",
        "        Function returns context vector and attention weights(softmax - scores)\n",
        "    '''\n",
        "    \n",
        "    scores = []\n",
        "\n",
        "\n",
        "    if self.scoring_function == 'dot':\n",
        "        # Implement Dot score function here\n",
        "        decoder_hidden_state = tf.expand_dims(decoder_hidden_state, 1)\n",
        "        for b_id in range(encoder_output.shape[0]): # batch_sample\n",
        "            enc_ts = encoder_output[b_id, :, :]\n",
        "            dec_hs = decoder_hidden_state[b_id, :, :]\n",
        "            #print(enc_ts.shape, dec_hs.shape)\n",
        "            score = tf.tensordot(enc_ts, tf.transpose(dec_hs), axes=1)\n",
        "            scores.append(score)\n",
        "\n",
        "        self.attention_weights = self.V(tf.convert_to_tensor(scores))\n",
        "        self.attention_weights = tf.nn.softmax(scores, axis=1)\n",
        "        # print(self.attention_weights.shape)\n",
        "        self.context_vector = self.attention_weights * encoder_output\n",
        "        # print(self.context_vector.shape)\n",
        "        self.context_vector = tf.reduce_sum(self.context_vector, axis=1)\n",
        "        # print(self.context_vector.shape)\n",
        "        return self.context_vector, self.attention_weights\n",
        "\n",
        "    elif self.scoring_function == 'general':\n",
        "        # Implement General score function here\n",
        "        decoder_hidden_state = tf.expand_dims(decoder_hidden_state, 1)\n",
        "        for b_id in range(encoder_output.shape[0]): # batch_sample\n",
        "            enc_ts = encoder_output[b_id, :, :]\n",
        "            dec_hs = decoder_hidden_state[b_id, :, :]\n",
        "            score = tf.tensordot(enc_ts, self.w, axes=1)\n",
        "            score = tf.tensordot(score, tf.transpose(dec_hs), axes=1)\n",
        "            scores.append(score)\n",
        "\n",
        "        self.attention_weights = tf.convert_to_tensor(scores)\n",
        "        self.attention_weights = tf.nn.softmax(scores, axis=1)\n",
        "        # print(self.attention_weights.shape)\n",
        "        self.context_vector = self.attention_weights * encoder_output\n",
        "        # print(self.context_vector.shape)\n",
        "        self.context_vector = tf.reduce_sum(self.context_vector, axis=1)\n",
        "        # print(self.context_vector.shape)\n",
        "        return self.context_vector, self.attention_weights\n",
        "    \n",
        "    elif self.scoring_function == 'concat':\n",
        "        # Implement General score function here\n",
        "        decoder_hidden_state = tf.expand_dims(decoder_hidden_state, 1)\n",
        "        for b_id in range(encoder_output.shape[0]): # batch_sample\n",
        "            enc_ts = encoder_output[b_id, :, :]\n",
        "            dec_hs = decoder_hidden_state[b_id, :, :]\n",
        "            dec_w1 = tf.tensordot(dec_hs, self.w1, axes=1)\n",
        "            enc_w2 = tf.tensordot(enc_ts, self.w2, axes=1)\n",
        "            tanh_op = tf.math.tanh(tf.math.add(dec_w1, enc_w2))\n",
        "            score = tf.tensordot(tanh_op, tf.transpose(self.v), axes=1)\n",
        "            scores.append(score)\n",
        "\n",
        "        self.attention_weights = tf.convert_to_tensor(scores)\n",
        "        self.attention_weights = tf.nn.softmax(scores, axis=1)\n",
        "        # print(self.attention_weights.shape)\n",
        "        self.context_vector = self.attention_weights * encoder_output\n",
        "        # print(self.context_vector.shape)\n",
        "        self.context_vector = tf.reduce_sum(self.context_vector, axis=1)\n",
        "        # print(self.context_vector.shape)\n",
        "        return self.context_vector, self.attention_weights        "
      ]
    },
    {
      "attachments": {},
      "cell_type": "markdown",
      "metadata": {
        "id": "ic-FNEbfL2DN"
      },
      "source": [
        "<font color='blue'>**OneStepDecoder**</font>"
      ]
    },
    {
      "cell_type": "code",
      "execution_count": null,
      "metadata": {
        "id": "Kc8m7lmOL097"
      },
      "outputs": [],
      "source": [
        "class One_Step_Decoder(tf.keras.Model):\n",
        "  def __init__(self,tar_vocab_size, embedding_dim, input_length, dec_units ,score_func ,att_units):\n",
        "\n",
        "    super(One_Step_Decoder, self).__init__()\n",
        "    self.tar_vocab_size = tar_vocab_size\n",
        "    self.embedding_dim = embedding_dim\n",
        "    self.input_length = input_length\n",
        "    self.dec_units = dec_units\n",
        "    self.score_func = score_func\n",
        "    self.att_units = att_units\n",
        "    \n",
        "    # Initialize decoder embedding layer, LSTM and any other objects needed\n",
        "    self.osd_embedding = Embedding(input_dim = self.tar_vocab_size, \n",
        "                                   output_dim = self.embedding_dim,\n",
        "                                   input_length = self.input_length,)\n",
        "    \n",
        "    self.osd_lstm = LSTM(self.dec_units, return_sequences=True,\n",
        "                         return_state=True)\n",
        "    \n",
        "    self.attention = Attention(self.score_func, self.att_units)\n",
        "\n",
        "    self.dense = Dense(self.tar_vocab_size)\n",
        "\n",
        "  def call(self,input_to_decoder, encoder_output, state_h,state_c):\n",
        "    '''\n",
        "        One step decoder mechanism step by step:\n",
        "      A. Pass the input_to_decoder to the embedding layer and then get the output(batch_size,1,embedding_dim)\n",
        "      B. Using the encoder_output and decoder hidden state, compute the context vector.\n",
        "      C. Concat the context vector with the step A output\n",
        "      D. Pass the Step-C output to LSTM/GRU and get the decoder output and states(hidden and cell state)\n",
        "      E. Pass the decoder output to dense layer(vocab size) and store the result into output.\n",
        "      F. Return the states from step D, output from Step E, attention weights from Step -B\n",
        "    '''\n",
        "\n",
        "    # Embedding output\n",
        "    emb_out = self.osd_embedding(input_to_decoder)\n",
        "    # Context vector and attention_weights \n",
        "    context_vect, att_weights = self.attention(state_h, encoder_output)\n",
        "    # Creatig input to lstm = concat(emb_out, context_vect)\n",
        "    ip_concat = tf.concat([tf.expand_dims(context_vect,1),emb_out], -1)\n",
        "    # Decoder lstm\n",
        "    dec_op, dec_h, dec_c = self.osd_lstm(ip_concat, [state_h, state_c])\n",
        "    # Dense\n",
        "    dense_op = self.dense(dec_op)\n",
        "    dense_op = tf.reduce_sum(dense_op, axis=1)\n",
        "    # print('-'*30)\n",
        "    # print(f\"dense_op: {dense_op.shape}\")\n",
        "    # print(f\"dec_h: {dec_h.shape}\")\n",
        "    # print(f\"dec_c: {dec_c.shape}\")\n",
        "    # print(f\"att_weights: {att_weights.shape}\")\n",
        "    # print(f\"context_vect: {context_vect.shape}\")\n",
        "\n",
        "    return dense_op, dec_h, dec_c,  att_weights, context_vect"
      ]
    },
    {
      "attachments": {},
      "cell_type": "markdown",
      "metadata": {
        "id": "6FHrurjUMGAi"
      },
      "source": [
        "<font color='blue'>**Decoder**</font>"
      ]
    },
    {
      "cell_type": "code",
      "execution_count": null,
      "metadata": {
        "id": "NV-x31rj6Hc4"
      },
      "outputs": [],
      "source": [
        "class Decoder(tf.keras.Model):\n",
        "    def __init__(self,out_vocab_size, embedding_dim, input_length, dec_units, score_fun, att_units):\n",
        "        #Intialize necessary variables and create an object from the class onestepdecoder\n",
        "        super(Decoder, self).__init__()\n",
        "        self.out_vocab_size = out_vocab_size\n",
        "        self.embedding_dim = embedding_dim\n",
        "        self.input_length = input_length\n",
        "        self.dec_units = dec_units\n",
        "        self.score_fun = score_fun\n",
        "        self.att_units = att_units\n",
        "        self.os_decoder = One_Step_Decoder(self.out_vocab_size, self.embedding_dim, self.input_length,\n",
        "                                           self.dec_units, self.score_fun, self.att_units)\n",
        "\n",
        "\n",
        "    def call(self, input_to_decoder,encoder_output,decoder_hidden_state,decoder_cell_state):\n",
        "\n",
        "        #Initialize an empty Tensor array, that will store the outputs at each and every time step\n",
        "        #Create a tensor array as shown in the reference notebook\n",
        "        outputs = tf.TensorArray(tf.float32, size=25, name='outputs')\n",
        "        #Iterate till the length of the decoder input\n",
        "        for tstep in range(25):\n",
        "            # Call onestepdecoder for each token in decoder_input\n",
        "            dense_output, decoder_hidden_state,decoder_cell_state, _, _ = self.os_decoder(input_to_decoder[:, tstep:tstep+1], encoder_output,\n",
        "                                                                          decoder_hidden_state, decoder_cell_state)\n",
        "            # Store the output in tensorarray\n",
        "            outputs = outputs.write(tstep, dense_output)\n",
        "        # Return the tensor array\n",
        "        outputs = tf.transpose(outputs.stack(), [1,0,2])\n",
        "        return outputs\n",
        "        \n",
        "    "
      ]
    },
    {
      "attachments": {},
      "cell_type": "markdown",
      "metadata": {
        "id": "fC1T1EOoMTqC"
      },
      "source": [
        "<font color='blue'>**Encoder Decoder model**</font>"
      ]
    },
    {
      "cell_type": "code",
      "execution_count": null,
      "metadata": {
        "id": "FfqBIe20MT3D"
      },
      "outputs": [],
      "source": [
        "class encoder_decoder(tf.keras.Model):\n",
        "  def __init__(self, inp_vocab_size, enc_emb_size, enc_lstm_size, enc_input_length, \n",
        "               out_vocab_size, dec_emb_size, dec_lstm_size, dec_input_length,\n",
        "               batch_size, score_fun, att_units):\n",
        "    \n",
        "    #Intialize objects from encoder decoder\n",
        "    super(encoder_decoder, self).__init__()\n",
        "\n",
        "    self.inp_vocab_size    =   inp_vocab_size\n",
        "    self.enc_emb_size      =   enc_emb_size\n",
        "    self.enc_lstm_size     =   enc_lstm_size\n",
        "    self.enc_input_length  =   enc_input_length\n",
        "    self.out_vocab_size    =   out_vocab_size\n",
        "    self.dec_emb_size      =   dec_emb_size\n",
        "    self.dec_lstm_size     =   dec_lstm_size\n",
        "    self.dec_input_length  =   dec_input_length\n",
        "    self.batch_size        =   batch_size\n",
        "    self.score_fun         =   score_fun\n",
        "    self.att_units         =   att_units\n",
        "\n",
        "    self.encoder = Encoder(inp_vocab_size = self.inp_vocab_size,\n",
        "                           embedding_size = self.enc_emb_size,\n",
        "                           lstm_size      = self.enc_lstm_size,\n",
        "                           input_length   = self.enc_input_length)\n",
        "    \n",
        "    self.decoder = Decoder(out_vocab_size = self.out_vocab_size,\n",
        "                           embedding_dim  = self.dec_emb_size,\n",
        "                           input_length   = self.dec_input_length,\n",
        "                           dec_units      = self.dec_lstm_size,\n",
        "                           score_fun      = self.score_fun,\n",
        "                           att_units      = self.att_units)\n",
        "  \n",
        "    \n",
        "  def call(self,data):\n",
        "    #Intialize encoder states, Pass the encoder_sequence to the encoder layer\n",
        "    enc_input, dec_input = data[0], data[1]\n",
        "    #print(f\"encoder_input shape: {enc_input.shape} ; decoder_input shape: {dec_input.shape}\")\n",
        "    initial_states = self.encoder.initialize_states(self.batch_size)\n",
        "    enc_op, enc_h, enc_c = self.encoder(enc_input, initial_states)\n",
        "    # Decoder initial states are encoder final states, Initialize it accordingly\n",
        "    # Pass the decoder sequence,encoder_output,decoder states to Decoder\n",
        "    dec_op = self.decoder(dec_input, enc_op, enc_h, enc_c)\n",
        "    # return the decoder output\n",
        "    return dec_op"
      ]
    },
    {
      "attachments": {},
      "cell_type": "markdown",
      "metadata": {
        "id": "WVRxB-FDMJWL"
      },
      "source": [
        "<font color='blue'>**Custom loss function**</font>"
      ]
    },
    {
      "cell_type": "code",
      "execution_count": null,
      "metadata": {
        "id": "QY_3izrXMs8y"
      },
      "outputs": [],
      "source": [
        "#https://www.tensorflow.org/tutorials/text/image_captioning#model\n",
        "loss_object = tf.keras.losses.SparseCategoricalCrossentropy(from_logits=True,\n",
        "                                                            reduction='none')\n",
        "\n",
        "def loss_function(real, pred):\n",
        "    \"\"\" Custom loss function that will not consider the loss for padded zeros.\n",
        "    why are we using this, can't we use simple sparse categorical crossentropy?\n",
        "    Yes, you can use simple sparse categorical crossentropy as loss like we did in task-1. But in this loss function we are ignoring the loss\n",
        "    for the padded zeros. i.e when the input is zero then we do not need to worry what the output is. This padded zeros are added from our end\n",
        "    during preprocessing to make equal length for all the sentences.\n",
        "\n",
        "    \"\"\"\n",
        "    mask = tf.math.logical_not(tf.math.equal(real, 0))\n",
        "    loss_ = loss_object(real, pred)\n",
        "    mask = tf.cast(mask, dtype=loss_.dtype)\n",
        "    loss_ *= mask\n",
        "    return tf.reduce_mean(loss_)"
      ]
    },
    {
      "attachments": {},
      "cell_type": "markdown",
      "metadata": {
        "id": "6DpC9zlzMcXp"
      },
      "source": [
        "## <font color='blue'>**Inference**</font>"
      ]
    },
    {
      "attachments": {},
      "cell_type": "markdown",
      "metadata": {
        "id": "Z5NhESYyMW_t"
      },
      "source": [
        "<font color='blue'>**Plot attention weights**</font>"
      ]
    },
    {
      "cell_type": "code",
      "execution_count": null,
      "metadata": {
        "id": "z4n2u41YC8yI"
      },
      "outputs": [],
      "source": [
        "import seaborn as sns\n",
        "import matplotlib.pyplot as plt"
      ]
    },
    {
      "cell_type": "code",
      "execution_count": null,
      "metadata": {
        "id": "pkEY7SsBMtrC"
      },
      "outputs": [],
      "source": [
        "def plot_attention(att_weights, ip_sent, out_sent):\n",
        "    #Refer: https://www.tensorflow.org/tutorials/text/nmt_with_attention#translate\n",
        "    \n",
        "    xlabels = ip_sent.split()\n",
        "    ylabels = out_sent.split()\n",
        "\n",
        "    fig, ax = plt.subplots()\n",
        "    sns.heatmap(att_weights, cmap='BuPu')\n",
        "    plt.yticks(np.arange(len(ylabels)) + .5, labels=ylabels, rotation=0)\n",
        "    plt.xticks(np.arange(len(xlabels)) + .5, labels=xlabels, rotation=45)\n",
        "    ax.xaxis.tick_top()\n",
        "    plt.show()"
      ]
    },
    {
      "attachments": {},
      "cell_type": "markdown",
      "metadata": {
        "id": "e1IhdBrgQYJr"
      },
      "source": [
        "<font color='blue'>**Predict the sentence translation**</font>"
      ]
    },
    {
      "cell_type": "code",
      "execution_count": null,
      "metadata": {
        "id": "MP3kLZoPMvSu"
      },
      "outputs": [],
      "source": [
        "def predict(input_sentence, model, plot_att=False):\n",
        "\n",
        "    '''\n",
        "    A. Given input sentence, convert the sentence into integers using tokenizer used earlier\n",
        "    B. Pass the input_sequence to encoder. we get encoder_outputs, last time step hidden and cell state\n",
        "    C. Initialize index of <start> as input to decoder. and encoder final states as input_states to onestepdecoder.\n",
        "    D. till we reach max_length of decoder or till the model predicted word <end>:\n",
        "            predictions, input_states, attention_weights = model.layers[1].onestepdecoder(input_to_decoder, encoder_output, input_states)\n",
        "            Save the attention weights\n",
        "            And get the word using the tokenizer(word index) and then store it in a string.\n",
        "    E. Call plot_attention(#params)\n",
        "    F. Return the predicted sentence\n",
        "    '''\n",
        "    len_sent = len(input_sentence.split())\n",
        "    sent = ita_tokenizer.texts_to_sequences([input_sentence])\n",
        "    sent = pad_sequences(sent, maxlen = maxlen, padding='post')\n",
        "    states = model.layers[0].initialize_states(1)\n",
        "    enc_op, enc_h, enc_c = model.layers[0](sent, states)\n",
        "    \n",
        "    target_word=np.zeros((1,1))\n",
        "    target_word[0,0]=1\n",
        "    \n",
        "    stop = False\n",
        "\n",
        "    att_matrix = []\n",
        "    pred_sent = []\n",
        "    while not stop:    \n",
        "        dense_op, dec_h, dec_c,  att_weights, context_vect = model.layers[1].os_decoder(target_word, enc_op, enc_h, enc_c)\n",
        "        enc_h, enc_c = dec_h, dec_c\n",
        "        att_wts = tf.squeeze(att_weights).numpy()\n",
        "        #print(att_wts)\n",
        "        #att_wts = np.flip(att_wts)[0:len_sent]\n",
        "        att_wts = att_wts[0:len_sent]\n",
        "        att_matrix.append(att_wts)\n",
        "        word_id = np.argmax(dense_op, axis=-1)[0]\n",
        "        target_word = word_id.reshape(1,1)\n",
        "        word = eng_tokenizer.index_word.get(word_id)\n",
        "        if word == '<end>' or len(pred_sent) > len_sent + 3:\n",
        "            stop = True\n",
        "        pred_sent.append(str(word))\n",
        "\n",
        "    pred_sent = ' '.join(pred_sent)\n",
        "    \n",
        "    if plot_att:\n",
        "        plot_attention(att_matrix, input_sentence, pred_sent)\n",
        "\n",
        "    return pred_sent"
      ]
    },
    {
      "attachments": {},
      "cell_type": "markdown",
      "metadata": {
        "id": "jmxIVOOQPWMu"
      },
      "source": [
        "<font color='blue'>**Calculate BLEU score**</font>"
      ]
    },
    {
      "cell_type": "code",
      "execution_count": null,
      "metadata": {
        "id": "0iHiLdROM23l"
      },
      "outputs": [],
      "source": [
        "#Create an object of your custom model.\n",
        "#Compile and train your model on dot scoring function.\n",
        "# Visualize few sentences randomly in Test data\n",
        "# Predict on 1000 random sentences on test data and calculate the average BLEU score of these sentences.\n",
        "# https://www.nltk.org/_modules/nltk/translate/bleu_score.html\n",
        "\n",
        "#Sample example\n",
        "# from nltk.translate import bleu_score\n",
        "\n",
        "# # Plotting attention weights for 4 test samples\n",
        "# for i in tqdm(range(4)):\n",
        "#     eng_predicted = predict(test_data_ita[i], model_dot, plot_attention = True)\n",
        "\n",
        "# # BLEU score for 1000 test samples\n",
        "# blue_scores = []\n",
        "# for i in tqdm(range(len(test_data_ita))):\n",
        "#     eng_predicted = predict(test_data_ita[i], model_dot)\n",
        "#     score = bleu_score.sentence_bleu([test_data_eng_out[i][0:-6].split()], eng_predicted[0:-6].split())\n",
        "#     blue_scores.append(score)\n",
        "\n",
        "# print(f\"\\nAvg BLEU Score for 1000 samples: {np.round(np.mean(blue_scores), 4)}\")"
      ]
    },
    {
      "cell_type": "code",
      "execution_count": null,
      "metadata": {
        "id": "0XRAsIJESQqp"
      },
      "outputs": [],
      "source": [
        "from nltk.translate import bleu_score"
      ]
    },
    {
      "cell_type": "code",
      "execution_count": null,
      "metadata": {
        "id": "vP3d6b74SEN1"
      },
      "outputs": [],
      "source": [
        "test_data = validation.sample(1000)\n",
        "test_data_ita = test_data['italian_inp'].values\n",
        "test_data_eng_in = test_data['english_inp'].values\n",
        "test_data_eng_out = test_data['english_out'].values"
      ]
    },
    {
      "attachments": {},
      "cell_type": "markdown",
      "metadata": {
        "id": "f1bhdexRQTD6"
      },
      "source": [
        "<font color='blue'>**Training**</font>"
      ]
    },
    {
      "attachments": {},
      "cell_type": "markdown",
      "metadata": {
        "id": "6dq_1GD6NiBv"
      },
      "source": [
        "<font color='blue'>**Dot scoring function**</font>"
      ]
    },
    {
      "cell_type": "code",
      "execution_count": null,
      "metadata": {
        "id": "xTcIhNuuN1Ad"
      },
      "outputs": [],
      "source": [
        "#Compile and train your model on dot scoring function.\n",
        "# Visualize few sentences randomly in Test data\n",
        "# Predict on 1000 random sentences on test data and calculate the average BLEU score of these sentences.\n",
        "# https://www.nltk.org/_modules/nltk/translate/bleu_score.html"
      ]
    },
    {
      "cell_type": "code",
      "execution_count": null,
      "metadata": {
        "colab": {
          "base_uri": "https://localhost:8080/"
        },
        "id": "M3vHpCAEN1Ae",
        "outputId": "37f541ae-93dd-451a-df5e-9b04ccff927d"
      },
      "outputs": [
        {
          "name": "stdout",
          "output_type": "stream",
          "text": [
            "saved_models, logs directories created for model_dot\n"
          ]
        }
      ],
      "source": [
        "# Callbacks\n",
        "from tensorflow.keras.callbacks import EarlyStopping, LearningRateScheduler\n",
        "from tensorflow.keras.callbacks import ModelCheckpoint, TensorBoard\n",
        "import os\n",
        "\n",
        "def create_directories(model_name):\n",
        "    if str(model_name) not in os.listdir():\n",
        "        os.mkdir(model_name)\n",
        "        os.mkdir(model_name+'/saved_models')\n",
        "        os.mkdir(model_name+'/logs')\n",
        "        print(f\"saved_models, logs directories created for {model_name}\")\n",
        "\n",
        "def scheduler(epoch, lr):\n",
        "    if epoch < 20:\n",
        "        return lr\n",
        "    else:\n",
        "        return lr * 0.9\n",
        "\n",
        "create_directories('model_dot')\n",
        "save_path = '/content/model_dot/saved_models/{epoch:02d}'\n",
        "log_path = '/content/model_dot/logs'\n",
        "\n",
        "#Defining callbacks\n",
        "lr = LearningRateScheduler(scheduler)\n",
        "stopper = EarlyStopping(monitor='val_loss', patience=4, mode='min')\n",
        "saver = ModelCheckpoint(save_path, save_best_only = True)\n",
        "tb = TensorBoard(log_path)\n",
        "\n",
        "callbacks = [saver, tb]"
      ]
    },
    {
      "cell_type": "code",
      "execution_count": null,
      "metadata": {
        "id": "LGU4-P3ON1Ae"
      },
      "outputs": [],
      "source": [
        "# Model Params General Scoring Function\n",
        "\n",
        "inp_vocab_size   = ita_vocab_len\n",
        "enc_emb_size     = 50\n",
        "enc_lstm_size    = 64\n",
        "enc_input_length = 25\n",
        "out_vocab_size   = eng_vocab_len\n",
        "dec_emb_size     = 100\n",
        "dec_lstm_size    = 64\n",
        "dec_input_length = 25\n",
        "batch_size       = 256\n",
        "score_fun        = 'dot'\n",
        "att_units        = 64\n",
        "\n",
        "\n",
        "model_dot = encoder_decoder(inp_vocab_size, enc_emb_size, enc_lstm_size,\n",
        "                            enc_input_length, out_vocab_size, dec_emb_size,\n",
        "                            dec_lstm_size, dec_input_length, batch_size,\n",
        "                            score_fun, att_units)\n",
        "\n",
        "\n",
        "\n",
        "model_dot.compile(optimizer = tf.keras.optimizers.Adam(),\n",
        "                  loss = loss_function)"
      ]
    },
    {
      "cell_type": "code",
      "execution_count": null,
      "metadata": {
        "id": "qKnq2JUqN1Af"
      },
      "outputs": [],
      "source": [
        "# Creating train and validation datasets\n",
        "train1 = tf.data.Dataset.from_tensor_slices((ita_inp, eng_inp))\n",
        "train2 = tf.data.Dataset.from_tensor_slices(eng_out)\n",
        "train_ds = tf.data.Dataset.zip((train1,train2))\n",
        "train_steps = int(len(train_ds)//batch_size)\n",
        "train_ds = train_ds.batch(batch_size, drop_remainder=True).repeat()\n",
        "\n",
        "val1 = tf.data.Dataset.from_tensor_slices((ita_inp_val, eng_inp_val))\n",
        "val2 = tf.data.Dataset.from_tensor_slices(eng_out_val)\n",
        "val_ds = tf.data.Dataset.zip((val1,val2))\n",
        "val_steps = int(len(val_ds)//batch_size)\n",
        "val_ds = val_ds.batch(batch_size, drop_remainder=True).repeat()"
      ]
    },
    {
      "cell_type": "code",
      "execution_count": null,
      "metadata": {
        "colab": {
          "base_uri": "https://localhost:8080/"
        },
        "id": "ifwQnxt-N1Ag",
        "outputId": "3525b24d-40ec-4ac9-a53b-b8c7a3b6b13a"
      },
      "outputs": [
        {
          "name": "stdout",
          "output_type": "stream",
          "text": [
            "Epoch 1/35\n",
            "WARNING:tensorflow:Gradients do not exist for variables ['encoder_decoder/decoder/one__step__decoder/attention/dense/kernel:0', 'encoder_decoder/decoder/one__step__decoder/attention/dense/bias:0'] when minimizing the loss. If you're using `model.compile()`, did you forget to provide a `loss`argument?\n",
            "WARNING:tensorflow:Gradients do not exist for variables ['encoder_decoder/decoder/one__step__decoder/attention/dense/kernel:0', 'encoder_decoder/decoder/one__step__decoder/attention/dense/bias:0'] when minimizing the loss. If you're using `model.compile()`, did you forget to provide a `loss`argument?\n",
            "1105/1105 [==============================] - 1014s 569ms/step - loss: 1.3357 - val_loss: nan\n",
            "Epoch 2/35\n",
            "1105/1105 [==============================] - 547s 495ms/step - loss: 0.9816 - val_loss: nan\n",
            "Epoch 3/35\n",
            "1105/1105 [==============================] - 548s 496ms/step - loss: 0.8368 - val_loss: nan\n",
            "Epoch 4/35\n",
            "1105/1105 [==============================] - 549s 497ms/step - loss: 0.7349 - val_loss: nan\n",
            "Epoch 5/35\n",
            "1105/1105 [==============================] - 551s 499ms/step - loss: 0.6537 - val_loss: nan\n",
            "Epoch 6/35\n",
            "1105/1105 [==============================] - 553s 501ms/step - loss: 0.5864 - val_loss: nan\n",
            "Epoch 7/35\n",
            "1105/1105 [==============================] - 549s 497ms/step - loss: 0.5273 - val_loss: nan\n",
            "Epoch 8/35\n",
            "1105/1105 [==============================] - 550s 497ms/step - loss: 0.4771 - val_loss: nan\n",
            "Epoch 9/35\n",
            "1105/1105 [==============================] - 550s 498ms/step - loss: 0.4345 - val_loss: nan\n",
            "Epoch 10/35\n",
            "1105/1105 [==============================] - 549s 497ms/step - loss: 0.3980 - val_loss: nan\n",
            "Epoch 11/35\n",
            "1105/1105 [==============================] - 549s 497ms/step - loss: 0.3656 - val_loss: nan\n",
            "Epoch 12/35\n",
            "1105/1105 [==============================] - 549s 497ms/step - loss: 0.3368 - val_loss: nan\n",
            "Epoch 13/35\n",
            "1105/1105 [==============================] - 550s 497ms/step - loss: 0.3116 - val_loss: nan\n",
            "Epoch 14/35\n",
            "1105/1105 [==============================] - 549s 497ms/step - loss: 0.2891 - val_loss: nan\n",
            "Epoch 15/35\n",
            "1105/1105 [==============================] - 550s 498ms/step - loss: 0.2694 - val_loss: nan\n",
            "Epoch 16/35\n",
            "1105/1105 [==============================] - 550s 498ms/step - loss: 0.2521 - val_loss: nan\n",
            "Epoch 17/35\n",
            "1105/1105 [==============================] - 551s 499ms/step - loss: 0.2372 - val_loss: nan\n",
            "Epoch 18/35\n",
            "1105/1105 [==============================] - 551s 498ms/step - loss: 0.2236 - val_loss: nan\n",
            "Epoch 19/35\n",
            "1105/1105 [==============================] - 550s 498ms/step - loss: 0.2109 - val_loss: nan\n",
            "Epoch 20/35\n",
            "1105/1105 [==============================] - 553s 500ms/step - loss: 0.1996 - val_loss: nan\n",
            "Epoch 21/35\n",
            "1105/1105 [==============================] - 551s 499ms/step - loss: 0.1896 - val_loss: nan\n",
            "Epoch 22/35\n",
            "1105/1105 [==============================] - 550s 497ms/step - loss: 0.1807 - val_loss: nan\n",
            "Epoch 23/35\n",
            "1105/1105 [==============================] - 550s 498ms/step - loss: 0.1727 - val_loss: nan\n",
            "Epoch 24/35\n",
            "1105/1105 [==============================] - 548s 496ms/step - loss: 0.1657 - val_loss: nan\n",
            "Epoch 25/35\n",
            "1105/1105 [==============================] - 548s 496ms/step - loss: 0.1592 - val_loss: nan\n",
            "Epoch 26/35\n",
            "1105/1105 [==============================] - 549s 497ms/step - loss: 0.1529 - val_loss: nan\n",
            "Epoch 27/35\n",
            "1105/1105 [==============================] - 548s 496ms/step - loss: 0.1469 - val_loss: nan\n",
            "Epoch 28/35\n",
            "1105/1105 [==============================] - 549s 497ms/step - loss: 0.1415 - val_loss: nan\n",
            "Epoch 29/35\n",
            "1105/1105 [==============================] - 550s 497ms/step - loss: 0.1365 - val_loss: nan\n",
            "Epoch 30/35\n",
            "1105/1105 [==============================] - 549s 497ms/step - loss: 0.1320 - val_loss: nan\n",
            "Epoch 31/35\n",
            "1105/1105 [==============================] - 550s 497ms/step - loss: 0.1279 - val_loss: nan\n",
            "Epoch 32/35\n",
            "1105/1105 [==============================] - 549s 497ms/step - loss: 0.1243 - val_loss: nan\n",
            "Epoch 33/35\n",
            "1105/1105 [==============================] - 549s 497ms/step - loss: 0.1210 - val_loss: nan\n",
            "Epoch 34/35\n",
            "1105/1105 [==============================] - 549s 497ms/step - loss: 0.1178 - val_loss: nan\n",
            "Epoch 35/35\n",
            "1105/1105 [==============================] - 549s 497ms/step - loss: 0.1147 - val_loss: nan\n"
          ]
        }
      ],
      "source": [
        "# Training the model\n",
        "hist_model_dot = model_dot.fit(train_ds, epochs=35, batch_size=batch_size, steps_per_epoch=train_steps,\n",
        "                 validation_data=val_ds, validation_steps=val_steps,\n",
        "                 callbacks = callbacks)"
      ]
    },
    {
      "cell_type": "code",
      "execution_count": null,
      "metadata": {
        "colab": {
          "base_uri": "https://localhost:8080/"
        },
        "id": "Eq5PgAgGT-Ye",
        "outputId": "8556ff04-4bd5-4039-e6a1-7cf5e8be66fc"
      },
      "outputs": [
        {
          "name": "stdout",
          "output_type": "stream",
          "text": [
            "Model: \"encoder_decoder\"\n",
            "_________________________________________________________________\n",
            " Layer (type)                Output Shape              Param #   \n",
            "=================================================================\n",
            " encoder (Encoder)           multiple                  1366840   \n",
            "                                                                 \n",
            " decoder (Decoder)           multiple                  2219796   \n",
            "                                                                 \n",
            "=================================================================\n",
            "Total params: 3,586,636\n",
            "Trainable params: 3,586,636\n",
            "Non-trainable params: 0\n",
            "_________________________________________________________________\n"
          ]
        }
      ],
      "source": [
        "model_dot.summary()"
      ]
    },
    {
      "cell_type": "code",
      "execution_count": null,
      "metadata": {
        "colab": {
          "base_uri": "https://localhost:8080/"
        },
        "id": "78fH1bhvUE6v",
        "outputId": "5319c852-b572-4dc3-a715-2056d8d7ebad"
      },
      "outputs": [
        {
          "name": "stdout",
          "output_type": "stream",
          "text": [
            "Italian inp:  <start> le mie scarpe sono troppo piccole <end>\n",
            "machine op:  my shoes are too small <end>\n",
            "target op:  my shoes are too small\n"
          ]
        }
      ],
      "source": [
        "# Sample prediction\n",
        "sam = validation['italian_inp'].values[111]\n",
        "sam_targ = validation['english_out'].values[111]\n",
        "sam_op = predict(sam, model_dot)\n",
        "print(\"Italian inp: \", sam)\n",
        "print(\"machine op: \", sam_op)\n",
        "print(\"target op: \", sam_targ[0:-6])"
      ]
    },
    {
      "cell_type": "code",
      "execution_count": null,
      "metadata": {
        "colab": {
          "base_uri": "https://localhost:8080/",
          "height": 1000
        },
        "id": "FMA1L9a9N1Ag",
        "outputId": "c809d81f-c6d7-49fa-a503-945900611c33"
      },
      "outputs": [
        {
          "data": {
            "image/png": "[encoded data removed]",
            "text/plain": [
              "<Figure size 432x288 with 2 Axes>"
            ]
          },
          "metadata": {
            "needs_background": "light"
          },
          "output_type": "display_data"
        },
        {
          "data": {
            "image/png": "[encoded data removed]",
            "text/plain": [
              "<Figure size 432x288 with 2 Axes>"
            ]
          },
          "metadata": {
            "needs_background": "light"
          },
          "output_type": "display_data"
        },
        {
          "data": {
            "image/png": "[encoded data removed]",
            "text/plain": [
              "<Figure size 432x288 with 2 Axes>"
            ]
          },
          "metadata": {
            "needs_background": "light"
          },
          "output_type": "display_data"
        },
        {
          "data": {
            "image/png": "[encoded data removed]",
            "text/plain": [
              "<Figure size 432x288 with 2 Axes>"
            ]
          },
          "metadata": {
            "needs_background": "light"
          },
          "output_type": "display_data"
        },
        {
          "data": {
            "image/png": "[encoded data removed]",
            "text/plain": [
              "<Figure size 432x288 with 2 Axes>"
            ]
          },
          "metadata": {
            "needs_background": "light"
          },
          "output_type": "display_data"
        },
        {
          "data": {
            "image/png": "[encoded data removed]",
            "text/plain": [
              "<Figure size 432x288 with 2 Axes>"
            ]
          },
          "metadata": {
            "needs_background": "light"
          },
          "output_type": "display_data"
        }
      ],
      "source": [
        "# Plotting attention weights for 4 test samples\n",
        "for i in (range(10, 16)):\n",
        "    eng_predicted = predict(test_data_ita[i], model_dot, plot_att = True)"
      ]
    },
    {
      "cell_type": "code",
      "execution_count": null,
      "metadata": {
        "colab": {
          "base_uri": "https://localhost:8080/"
        },
        "id": "CV_-ktcZN1Ag",
        "outputId": "5cdaf280-5f2f-4c3c-efe6-7aa76230bace"
      },
      "outputs": [
        {
          "name": "stderr",
          "output_type": "stream",
          "text": [
            "100%|██████████| 1000/1000 [01:35<00:00, 10.42it/s]"
          ]
        },
        {
          "name": "stdout",
          "output_type": "stream",
          "text": [
            "For dot scoring function model - \n",
            "\n",
            "Avg BLEU Score for 1000 samples: 0.4468\n"
          ]
        },
        {
          "name": "stderr",
          "output_type": "stream",
          "text": [
            "\n"
          ]
        }
      ],
      "source": [
        "# BLEU score for 1000 test samples\n",
        "blue_scores = []\n",
        "for i in tqdm(range(len(test_data_ita))):\n",
        "    eng_predicted = predict(test_data_ita[i], model_dot)\n",
        "    score = bleu_score.sentence_bleu([test_data_eng_out[i][0:-6].split()], eng_predicted[0:-6].split())\n",
        "    blue_scores.append(score)\n",
        "\n",
        "print(\"For dot scoring function model - \")\n",
        "print(f\"\\nAvg BLEU Score for 1000 samples: {np.round(np.mean(blue_scores), 4)}\")"
      ]
    },
    {
      "attachments": {},
      "cell_type": "markdown",
      "metadata": {
        "id": "SWg2ferDQvT3"
      },
      "source": [
        "<font color='blue'>**Repeat the same steps for General scoring function**</font>"
      ]
    },
    {
      "cell_type": "code",
      "execution_count": null,
      "metadata": {
        "id": "4Rh9_w79M5JO"
      },
      "outputs": [],
      "source": [
        "#Compile and train your model on general scoring function.\n",
        "# Visualize few sentences randomly in Test data\n",
        "# Predict on 1000 random sentences on test data and calculate the average BLEU score of these sentences.\n",
        "# https://www.nltk.org/_modules/nltk/translate/bleu_score.html"
      ]
    },
    {
      "cell_type": "code",
      "execution_count": null,
      "metadata": {
        "colab": {
          "base_uri": "https://localhost:8080/"
        },
        "id": "w_wkgzw8LSjb",
        "outputId": "dd97d633-c4bd-4e4a-fb8d-102e9d1358f7"
      },
      "outputs": [
        {
          "name": "stdout",
          "output_type": "stream",
          "text": [
            "saved_models, logs directories created for model_2_general\n"
          ]
        }
      ],
      "source": [
        "# Callbacks\n",
        "from tensorflow.keras.callbacks import EarlyStopping, LearningRateScheduler\n",
        "from tensorflow.keras.callbacks import ModelCheckpoint, TensorBoard\n",
        "import os\n",
        "\n",
        "def create_directories(model_name):\n",
        "    if str(model_name) not in os.listdir():\n",
        "        os.mkdir(model_name)\n",
        "        os.mkdir(model_name+'/saved_models')\n",
        "        os.mkdir(model_name+'/logs')\n",
        "        print(f\"saved_models, logs directories created for {model_name}\")\n",
        "\n",
        "def scheduler(epoch, lr):\n",
        "    if epoch < 20:\n",
        "        return lr\n",
        "    else:\n",
        "        return lr * 0.9\n",
        "\n",
        "create_directories('model_2_general')\n",
        "save_path = '/content/model_2_general/saved_models/{epoch:02d}'\n",
        "log_path = '/content/model_2_general/logs'\n",
        "\n",
        "#Defining callbacks\n",
        "lr = LearningRateScheduler(scheduler)\n",
        "stopper = EarlyStopping(monitor='val_loss', patience=4, mode='min')\n",
        "saver = ModelCheckpoint(save_path, save_best_only = True)\n",
        "tb = TensorBoard(log_path)\n",
        "\n",
        "callbacks = [saver, tb]"
      ]
    },
    {
      "cell_type": "code",
      "execution_count": null,
      "metadata": {
        "id": "MUigOwCsLSjc"
      },
      "outputs": [],
      "source": [
        "# Model Params General Scoring Function\n",
        "\n",
        "inp_vocab_size   = ita_vocab_len\n",
        "enc_emb_size     = 50\n",
        "enc_lstm_size    = 64\n",
        "enc_input_length = 25\n",
        "out_vocab_size   = eng_vocab_len\n",
        "dec_emb_size     = 100\n",
        "dec_lstm_size    = 64\n",
        "dec_input_length = 25\n",
        "batch_size       = 256\n",
        "score_fun        = 'general'\n",
        "att_units        = 64\n",
        "\n",
        "\n",
        "model_general = encoder_decoder(inp_vocab_size, enc_emb_size, enc_lstm_size,\n",
        "                            enc_input_length, out_vocab_size, dec_emb_size,\n",
        "                            dec_lstm_size, dec_input_length, batch_size,\n",
        "                            score_fun, att_units)\n",
        "\n",
        "\n",
        "\n",
        "model_general.compile(optimizer = tf.keras.optimizers.Adam(),\n",
        "                  loss = loss_function)"
      ]
    },
    {
      "cell_type": "code",
      "execution_count": null,
      "metadata": {
        "id": "KypAaxksNDTA"
      },
      "outputs": [],
      "source": [
        "# Creating train and validation datasets\n",
        "train1 = tf.data.Dataset.from_tensor_slices((ita_inp, eng_inp))\n",
        "train2 = tf.data.Dataset.from_tensor_slices(eng_out)\n",
        "train_ds = tf.data.Dataset.zip((train1,train2))\n",
        "train_steps = int(len(train_ds)//batch_size)\n",
        "train_ds = train_ds.batch(batch_size, drop_remainder=True).repeat()\n",
        "\n",
        "val1 = tf.data.Dataset.from_tensor_slices((ita_inp_val, eng_inp_val))\n",
        "val2 = tf.data.Dataset.from_tensor_slices(eng_out_val)\n",
        "val_ds = tf.data.Dataset.zip((val1,val2))\n",
        "val_steps = int(len(val_ds)//batch_size)\n",
        "val_ds = val_ds.batch(batch_size, drop_remainder=True).repeat()"
      ]
    },
    {
      "cell_type": "code",
      "execution_count": null,
      "metadata": {
        "colab": {
          "base_uri": "https://localhost:8080/"
        },
        "id": "52h397HXhYB3",
        "outputId": "93218cfd-88f2-47cc-aa37-629ed7fca88f"
      },
      "outputs": [
        {
          "name": "stdout",
          "output_type": "stream",
          "text": [
            "Epoch 1/35\n",
            "1105/1105 [==============================] - 1338s 874ms/step - loss: 1.3128 - val_loss: nan\n",
            "Epoch 2/35\n",
            "1105/1105 [==============================] - 877s 794ms/step - loss: 0.9548 - val_loss: nan\n",
            "Epoch 3/35\n",
            "1105/1105 [==============================] - 875s 792ms/step - loss: 0.8059 - val_loss: nan\n",
            "Epoch 4/35\n",
            "1105/1105 [==============================] - 876s 793ms/step - loss: 0.7027 - val_loss: nan\n",
            "Epoch 5/35\n",
            "1105/1105 [==============================] - 872s 789ms/step - loss: 0.6182 - val_loss: nan\n",
            "Epoch 6/35\n",
            "1105/1105 [==============================] - 870s 787ms/step - loss: 0.5436 - val_loss: nan\n",
            "Epoch 7/35\n",
            "1105/1105 [==============================] - 873s 790ms/step - loss: 0.4744 - val_loss: nan\n",
            "Epoch 8/35\n",
            "1105/1105 [==============================] - 867s 785ms/step - loss: 0.4088 - val_loss: nan\n",
            "Epoch 9/35\n",
            "1105/1105 [==============================] - 865s 783ms/step - loss: 0.3498 - val_loss: nan\n",
            "Epoch 10/35\n",
            "1105/1105 [==============================] - 876s 793ms/step - loss: 0.3003 - val_loss: nan\n",
            "Epoch 11/35\n",
            "1105/1105 [==============================] - 875s 792ms/step - loss: 0.2602 - val_loss: nan\n",
            "Epoch 12/35\n",
            "1105/1105 [==============================] - 872s 790ms/step - loss: 0.2283 - val_loss: nan\n",
            "Epoch 13/35\n",
            "1105/1105 [==============================] - 871s 789ms/step - loss: 0.2032 - val_loss: nan\n",
            "Epoch 14/35\n",
            "1105/1105 [==============================] - 868s 785ms/step - loss: 0.1830 - val_loss: nan\n",
            "Epoch 15/35\n",
            "1105/1105 [==============================] - 869s 787ms/step - loss: 0.1665 - val_loss: nan\n",
            "Epoch 16/35\n",
            "1105/1105 [==============================] - 873s 790ms/step - loss: 0.1534 - val_loss: nan\n",
            "Epoch 17/35\n",
            "1105/1105 [==============================] - 873s 790ms/step - loss: 0.1421 - val_loss: nan\n",
            "Epoch 18/35\n",
            "1105/1105 [==============================] - 872s 789ms/step - loss: 0.1322 - val_loss: nan\n",
            "Epoch 19/35\n",
            "1105/1105 [==============================] - 873s 790ms/step - loss: 0.1237 - val_loss: nan\n",
            "Epoch 20/35\n",
            "1105/1105 [==============================] - 873s 791ms/step - loss: 0.1168 - val_loss: nan\n",
            "Epoch 21/35\n",
            "1105/1105 [==============================] - 875s 791ms/step - loss: 0.1109 - val_loss: nan\n",
            "Epoch 22/35\n",
            "1105/1105 [==============================] - 874s 791ms/step - loss: 0.1052 - val_loss: nan\n",
            "Epoch 23/35\n",
            "1105/1105 [==============================] - 874s 791ms/step - loss: 0.0999 - val_loss: nan\n",
            "Epoch 24/35\n",
            "1105/1105 [==============================] - 872s 790ms/step - loss: 0.0953 - val_loss: nan\n",
            "Epoch 25/35\n",
            "1105/1105 [==============================] - 875s 792ms/step - loss: 0.0920 - val_loss: nan\n",
            "Epoch 26/35\n",
            "1105/1105 [==============================] - 874s 791ms/step - loss: 0.0886 - val_loss: nan\n",
            "Epoch 27/35\n",
            "1105/1105 [==============================] - 880s 796ms/step - loss: 0.0854 - val_loss: nan\n",
            "Epoch 28/35\n",
            "1105/1105 [==============================] - 884s 800ms/step - loss: 0.0824 - val_loss: nan\n",
            "Epoch 29/35\n",
            "1105/1105 [==============================] - 884s 800ms/step - loss: 0.0795 - val_loss: nan\n",
            "Epoch 30/35\n",
            "1105/1105 [==============================] - 881s 798ms/step - loss: 0.0769 - val_loss: nan\n",
            "Epoch 31/35\n",
            "1105/1105 [==============================] - 881s 797ms/step - loss: 0.0746 - val_loss: nan\n",
            "Epoch 32/35\n",
            "1105/1105 [==============================] - 886s 801ms/step - loss: 0.0728 - val_loss: nan\n",
            "Epoch 33/35\n",
            "1105/1105 [==============================] - 886s 802ms/step - loss: 0.0709 - val_loss: nan\n",
            "Epoch 34/35\n",
            "1105/1105 [==============================] - 885s 801ms/step - loss: 0.0689 - val_loss: nan\n",
            "Epoch 35/35\n",
            "1105/1105 [==============================] - 879s 795ms/step - loss: 0.0671 - val_loss: nan\n"
          ]
        }
      ],
      "source": [
        "# Training the model\n",
        "hist_model_general = model_general.fit(train_ds, epochs=35, batch_size=batch_size,\n",
        "                                       steps_per_epoch=train_steps,\n",
        "                                       validation_data=val_ds,\n",
        "                                       validation_steps=val_steps,\n",
        "                                       callbacks=callbacks)"
      ]
    },
    {
      "cell_type": "code",
      "execution_count": null,
      "metadata": {
        "colab": {
          "base_uri": "https://localhost:8080/"
        },
        "id": "_l6IQPhhUNv6",
        "outputId": "4541a48d-91ae-4fe3-e235-add3be636f90"
      },
      "outputs": [
        {
          "name": "stdout",
          "output_type": "stream",
          "text": [
            "Model: \"encoder_decoder\"\n",
            "_________________________________________________________________\n",
            " Layer (type)                Output Shape              Param #   \n",
            "=================================================================\n",
            " encoder (Encoder)           multiple                  1366840   \n",
            "                                                                 \n",
            " decoder (Decoder)           multiple                  2223890   \n",
            "                                                                 \n",
            "=================================================================\n",
            "Total params: 3,590,730\n",
            "Trainable params: 3,590,730\n",
            "Non-trainable params: 0\n",
            "_________________________________________________________________\n"
          ]
        }
      ],
      "source": [
        "model_general.summary()"
      ]
    },
    {
      "cell_type": "code",
      "execution_count": null,
      "metadata": {
        "colab": {
          "base_uri": "https://localhost:8080/"
        },
        "id": "lL3VtgWeUNv7",
        "outputId": "746474f7-0dfb-4a92-ee9d-fcdd74519fb7"
      },
      "outputs": [
        {
          "name": "stdout",
          "output_type": "stream",
          "text": [
            "Italian inp:  <start> noi stiamo perdendo <end>\n",
            "machine op:  we are losing <end>\n",
            "target op:  we are losing\n"
          ]
        }
      ],
      "source": [
        "# Sample prediction\n",
        "sam = validation['italian_inp'].values[0]\n",
        "sam_targ = validation['english_out'].values[0]\n",
        "sam_op = predict(sam, model_general)\n",
        "print(\"Italian inp: \", sam)\n",
        "print(\"machine op: \", sam_op)\n",
        "print(\"target op: \", sam_targ[0:-6])"
      ]
    },
    {
      "cell_type": "code",
      "execution_count": null,
      "metadata": {
        "colab": {
          "base_uri": "https://localhost:8080/",
          "height": 1000
        },
        "id": "oQKWNlt5Macu",
        "outputId": "6dbde827-bfea-42f1-9cd4-89383cc570cd"
      },
      "outputs": [
        {
          "data": {
            "image/png": "[encoded data removed]",
            "text/plain": [
              "<Figure size 432x288 with 2 Axes>"
            ]
          },
          "metadata": {
            "needs_background": "light"
          },
          "output_type": "display_data"
        },
        {
          "data": {
            "image/png": "[encoded data removed]",
            "text/plain": [
              "<Figure size 432x288 with 2 Axes>"
            ]
          },
          "metadata": {
            "needs_background": "light"
          },
          "output_type": "display_data"
        },
        {
          "data": {
            "image/png": "[encoded data removed]",
            "text/plain": [
              "<Figure size 432x288 with 2 Axes>"
            ]
          },
          "metadata": {
            "needs_background": "light"
          },
          "output_type": "display_data"
        },
        {
          "data": {
            "image/png": "[encoded data removed]",
            "text/plain": [
              "<Figure size 432x288 with 2 Axes>"
            ]
          },
          "metadata": {
            "needs_background": "light"
          },
          "output_type": "display_data"
        },
        {
          "data": {
            "image/png": "[encoded data removed]",
            "text/plain": [
              "<Figure size 432x288 with 2 Axes>"
            ]
          },
          "metadata": {
            "needs_background": "light"
          },
          "output_type": "display_data"
        },
        {
          "data": {
            "image/png": "[encoded data removed]",
            "text/plain": [
              "<Figure size 432x288 with 2 Axes>"
            ]
          },
          "metadata": {
            "needs_background": "light"
          },
          "output_type": "display_data"
        }
      ],
      "source": [
        "# Plotting attention weights for 4 test samples\n",
        "for i in (range(10,16)):\n",
        "    eng_predicted = predict(test_data_ita[i], model_general, plot_att = True)"
      ]
    },
    {
      "cell_type": "code",
      "execution_count": null,
      "metadata": {
        "colab": {
          "base_uri": "https://localhost:8080/"
        },
        "id": "wFKkZP9FMd0J",
        "outputId": "0d4dc49d-ee8b-46b0-a477-1f5330289d80"
      },
      "outputs": [
        {
          "name": "stderr",
          "output_type": "stream",
          "text": [
            "100%|██████████| 1000/1000 [00:55<00:00, 17.91it/s]"
          ]
        },
        {
          "name": "stdout",
          "output_type": "stream",
          "text": [
            "For general scoring function model - \n",
            "\n",
            "Avg BLEU Score for 1000 samples: 0.559\n"
          ]
        },
        {
          "name": "stderr",
          "output_type": "stream",
          "text": [
            "\n"
          ]
        }
      ],
      "source": [
        "# BLEU score for 1000 test samples\n",
        "blue_scores = []\n",
        "for i in tqdm(range(len(test_data_ita))):\n",
        "    eng_predicted = predict(test_data_ita[i], model_general)\n",
        "    score = bleu_score.sentence_bleu([test_data_eng_out[i][0:-6].split()], eng_predicted[0:-6].split())\n",
        "    blue_scores.append(score)\n",
        "\n",
        "print(\"For general scoring function model - \")\n",
        "print(f\"\\nAvg BLEU Score for 1000 samples: {np.round(np.mean(blue_scores), 4)}\")"
      ]
    },
    {
      "attachments": {},
      "cell_type": "markdown",
      "metadata": {
        "id": "VB1jRUqZQ9AM"
      },
      "source": [
        "<font color='blue'>**Repeat the same steps for Concat scoring function**</font>"
      ]
    },
    {
      "cell_type": "code",
      "execution_count": null,
      "metadata": {
        "id": "1kN9ZWViQNMB"
      },
      "outputs": [],
      "source": [
        "#Compile and train your model on concat scoring function.\n",
        "# Visualize few sentences randomly in Test data\n",
        "# Predict on 1000 random sentences on test data and calculate the average BLEU score of these sentences.\n",
        "# https://www.nltk.org/_modules/nltk/translate/bleu_score.html"
      ]
    },
    {
      "cell_type": "code",
      "execution_count": null,
      "metadata": {
        "colab": {
          "base_uri": "https://localhost:8080/"
        },
        "id": "arqoZmaDO_ve",
        "outputId": "9cc452d9-13bf-411d-9545-9fd27467f932"
      },
      "outputs": [
        {
          "name": "stdout",
          "output_type": "stream",
          "text": [
            "saved_models, logs directories created for model_2_concat\n"
          ]
        }
      ],
      "source": [
        "# Callbacks\n",
        "from tensorflow.keras.callbacks import EarlyStopping, LearningRateScheduler\n",
        "from tensorflow.keras.callbacks import ModelCheckpoint, TensorBoard\n",
        "import os\n",
        "\n",
        "def create_directories(model_name):\n",
        "    if str(model_name) not in os.listdir():\n",
        "        os.mkdir(model_name)\n",
        "        os.mkdir(model_name+'/saved_models')\n",
        "        os.mkdir(model_name+'/logs')\n",
        "        print(f\"saved_models, logs directories created for {model_name}\")\n",
        "\n",
        "def scheduler(epoch, lr):\n",
        "    if epoch < 20:\n",
        "        return lr\n",
        "    else:\n",
        "        return lr * 0.9\n",
        "\n",
        "create_directories('model_2_concat')\n",
        "save_path = '/content/model_2_concat/saved_models/{epoch:02d}'\n",
        "log_path = '/content/model_2_concat/logs'\n",
        "\n",
        "#Defining callbacks\n",
        "lr = LearningRateScheduler(scheduler)\n",
        "stopper = EarlyStopping(monitor='val_loss', patience=4, mode='min')\n",
        "saver = ModelCheckpoint(save_path, save_best_only = True)\n",
        "tb = TensorBoard(log_path)\n",
        "\n",
        "callbacks = [saver, tb]"
      ]
    },
    {
      "cell_type": "code",
      "execution_count": null,
      "metadata": {
        "id": "OLnFsKKeO_vf"
      },
      "outputs": [],
      "source": [
        "# Model Params Concat Scoring Function\n",
        "\n",
        "inp_vocab_size   = ita_vocab_len\n",
        "enc_emb_size     = 50\n",
        "enc_lstm_size    = 64\n",
        "enc_input_length = 25\n",
        "out_vocab_size   = eng_vocab_len\n",
        "dec_emb_size     = 100\n",
        "dec_lstm_size    = 64\n",
        "dec_input_length = 25\n",
        "batch_size       = 256\n",
        "score_fun        = 'concat'\n",
        "att_units        = 64\n",
        "\n",
        "\n",
        "model_concat = encoder_decoder(inp_vocab_size, enc_emb_size, enc_lstm_size,\n",
        "                            enc_input_length, out_vocab_size, dec_emb_size,\n",
        "                            dec_lstm_size, dec_input_length, batch_size,\n",
        "                            score_fun, att_units)\n",
        "\n",
        "\n",
        "\n",
        "model_concat.compile(optimizer = tf.keras.optimizers.Adam(),\n",
        "                  loss = loss_function)"
      ]
    },
    {
      "cell_type": "code",
      "execution_count": null,
      "metadata": {
        "id": "3pHYKgY4O_vf"
      },
      "outputs": [],
      "source": [
        "# Creating train and validation datasets\n",
        "train1 = tf.data.Dataset.from_tensor_slices((ita_inp, eng_inp))\n",
        "train2 = tf.data.Dataset.from_tensor_slices(eng_out)\n",
        "train_ds = tf.data.Dataset.zip((train1,train2))\n",
        "train_steps = int(len(train_ds)//batch_size)\n",
        "train_ds = train_ds.batch(batch_size, drop_remainder=True).repeat()\n",
        "\n",
        "val1 = tf.data.Dataset.from_tensor_slices((ita_inp_val, eng_inp_val))\n",
        "val2 = tf.data.Dataset.from_tensor_slices(eng_out_val)\n",
        "val_ds = tf.data.Dataset.zip((val1,val2))\n",
        "val_steps = int(len(val_ds)//batch_size)\n",
        "val_ds = val_ds.batch(batch_size, drop_remainder=True).repeat()"
      ]
    },
    {
      "cell_type": "code",
      "execution_count": null,
      "metadata": {
        "colab": {
          "base_uri": "https://localhost:8080/"
        },
        "id": "7SzVF2PrO_vf",
        "outputId": "b55dbe3f-c760-4251-e5f4-72f66ed77dc5"
      },
      "outputs": [
        {
          "name": "stdout",
          "output_type": "stream",
          "text": [
            "Epoch 1/35\n",
            "1105/1105 [==============================] - 2385s 1s/step - loss: 1.3416 - val_loss: nan\n",
            "Epoch 2/35\n",
            "1105/1105 [==============================] - 1475s 1s/step - loss: 0.9724 - val_loss: nan\n",
            "Epoch 3/35\n",
            "1105/1105 [==============================] - 1472s 1s/step - loss: 0.8021 - val_loss: nan\n",
            "Epoch 4/35\n",
            "1105/1105 [==============================] - 1475s 1s/step - loss: 0.6930 - val_loss: nan\n",
            "Epoch 5/35\n",
            "1105/1105 [==============================] - 1462s 1s/step - loss: 0.6067 - val_loss: nan\n",
            "Epoch 6/35\n",
            "1105/1105 [==============================] - 1459s 1s/step - loss: 0.5315 - val_loss: nan\n",
            "Epoch 7/35\n",
            "1105/1105 [==============================] - 1467s 1s/step - loss: 0.4629 - val_loss: nan\n",
            "Epoch 8/35\n",
            "1105/1105 [==============================] - 1472s 1s/step - loss: 0.3994 - val_loss: nan\n",
            "Epoch 9/35\n",
            "1105/1105 [==============================] - 1468s 1s/step - loss: 0.3432 - val_loss: nan\n",
            "Epoch 10/35\n",
            "1105/1105 [==============================] - 1457s 1s/step - loss: 0.2968 - val_loss: nan\n",
            "Epoch 11/35\n",
            "1105/1105 [==============================] - 1468s 1s/step - loss: 0.2598 - val_loss: nan\n",
            "Epoch 12/35\n",
            "1105/1105 [==============================] - 1475s 1s/step - loss: 0.2304 - val_loss: nan\n",
            "Epoch 13/35\n",
            "1105/1105 [==============================] - 1490s 1s/step - loss: 0.2066 - val_loss: nan\n",
            "Epoch 14/35\n",
            "1105/1105 [==============================] - 1484s 1s/step - loss: 0.1870 - val_loss: nan\n",
            "Epoch 15/35\n",
            "1105/1105 [==============================] - 1502s 1s/step - loss: 0.1711 - val_loss: nan\n",
            "Epoch 16/35\n",
            "1105/1105 [==============================] - 1503s 1s/step - loss: 0.1582 - val_loss: nan\n",
            "Epoch 17/35\n",
            "1105/1105 [==============================] - 1485s 1s/step - loss: 0.1470 - val_loss: nan\n",
            "Epoch 18/35\n",
            "1105/1105 [==============================] - 1463s 1s/step - loss: 0.1369 - val_loss: nan\n",
            "Epoch 19/35\n",
            "1105/1105 [==============================] - 1461s 1s/step - loss: 0.1285 - val_loss: nan\n",
            "Epoch 20/35\n",
            "1105/1105 [==============================] - 1472s 1s/step - loss: 0.1217 - val_loss: nan\n",
            "Epoch 21/35\n",
            "1105/1105 [==============================] - 1482s 1s/step - loss: 0.1157 - val_loss: nan\n",
            "Epoch 22/35\n",
            "1105/1105 [==============================] - 1500s 1s/step - loss: 0.1099 - val_loss: nan\n",
            "Epoch 23/35\n",
            "1105/1105 [==============================] - 1499s 1s/step - loss: 0.1040 - val_loss: nan\n",
            "Epoch 24/35\n",
            "1105/1105 [==============================] - 1508s 1s/step - loss: 0.0989 - val_loss: nan\n",
            "Epoch 25/35\n",
            "1105/1105 [==============================] - 1507s 1s/step - loss: 0.0951 - val_loss: nan\n",
            "Epoch 26/35\n",
            "1105/1105 [==============================] - 1505s 1s/step - loss: 0.0924 - val_loss: nan\n",
            "Epoch 27/35\n",
            "1105/1105 [==============================] - 1496s 1s/step - loss: 0.0890 - val_loss: nan\n",
            "Epoch 28/35\n",
            "1105/1105 [==============================] - 1501s 1s/step - loss: 0.0850 - val_loss: nan\n",
            "Epoch 29/35\n",
            "1105/1105 [==============================] - 1502s 1s/step - loss: 0.0818 - val_loss: nan\n",
            "Epoch 30/35\n",
            "1105/1105 [==============================] - 1509s 1s/step - loss: 0.0792 - val_loss: nan\n",
            "Epoch 31/35\n",
            "1105/1105 [==============================] - 1506s 1s/step - loss: 0.0776 - val_loss: nan\n",
            "Epoch 32/35\n",
            "1105/1105 [==============================] - 1506s 1s/step - loss: 0.0761 - val_loss: nan\n",
            "Epoch 33/35\n",
            "1105/1105 [==============================] - 1510s 1s/step - loss: 0.0735 - val_loss: nan\n",
            "Epoch 34/35\n",
            "1105/1105 [==============================] - 1508s 1s/step - loss: 0.0709 - val_loss: nan\n",
            "Epoch 35/35\n",
            "1105/1105 [==============================] - 1498s 1s/step - loss: 0.0683 - val_loss: nan\n"
          ]
        }
      ],
      "source": [
        "# Training the model\n",
        "hist_model_concat = model_concat.fit(train_ds, epochs=35, batch_size=batch_size,\n",
        "                                     steps_per_epoch=train_steps,\n",
        "                                     validation_data=val_ds,\n",
        "                                     validation_steps=val_steps,\n",
        "                                     callbacks = callbacks)"
      ]
    },
    {
      "cell_type": "code",
      "execution_count": null,
      "metadata": {
        "colab": {
          "base_uri": "https://localhost:8080/"
        },
        "id": "r_ZAB0hGUTat",
        "outputId": "2779c1e4-c06e-4b2e-af95-3e307ed7e59d"
      },
      "outputs": [
        {
          "name": "stdout",
          "output_type": "stream",
          "text": [
            "Model: \"encoder_decoder\"\n",
            "_________________________________________________________________\n",
            " Layer (type)                Output Shape              Param #   \n",
            "=================================================================\n",
            " encoder (Encoder)           multiple                  1366840   \n",
            "                                                                 \n",
            " decoder (Decoder)           multiple                  2221858   \n",
            "                                                                 \n",
            "=================================================================\n",
            "Total params: 3,588,698\n",
            "Trainable params: 3,588,698\n",
            "Non-trainable params: 0\n",
            "_________________________________________________________________\n"
          ]
        }
      ],
      "source": [
        "model_concat.summary()"
      ]
    },
    {
      "cell_type": "code",
      "execution_count": null,
      "metadata": {
        "colab": {
          "base_uri": "https://localhost:8080/"
        },
        "id": "4_IB8IBsUTau",
        "outputId": "a5ddd8af-80f9-42f3-c139-40331d3d308e"
      },
      "outputs": [
        {
          "name": "stdout",
          "output_type": "stream",
          "text": [
            "Italian inp:  <start> noi stiamo perdendo <end>\n",
            "machine op:  we are losing <end>\n",
            "target op:  we are losing\n"
          ]
        }
      ],
      "source": [
        "# Sample prediction\n",
        "sam = validation['italian_inp'].values[0]\n",
        "sam_targ = validation['english_out'].values[0]\n",
        "sam_op = predict(sam, model_concat)\n",
        "print(\"Italian inp: \", sam)\n",
        "print(\"machine op: \", sam_op)\n",
        "print(\"target op: \", sam_targ[0:-6])"
      ]
    },
    {
      "cell_type": "code",
      "execution_count": null,
      "metadata": {
        "colab": {
          "base_uri": "https://localhost:8080/",
          "height": 1000
        },
        "id": "ZCBV30HVO_vg",
        "outputId": "feb1e294-071e-4742-9a4f-94a2aa9b068e"
      },
      "outputs": [
        {
          "data": {
            "image/png": "[encoded data removed]",
            "text/plain": [
              "<Figure size 432x288 with 2 Axes>"
            ]
          },
          "metadata": {
            "needs_background": "light"
          },
          "output_type": "display_data"
        },
        {
          "data": {
            "image/png": "[encoded data removed]",
            "text/plain": [
              "<Figure size 432x288 with 2 Axes>"
            ]
          },
          "metadata": {
            "needs_background": "light"
          },
          "output_type": "display_data"
        },
        {
          "data": {
            "image/png": "[encoded data removed]",
            "text/plain": [
              "<Figure size 432x288 with 2 Axes>"
            ]
          },
          "metadata": {
            "needs_background": "light"
          },
          "output_type": "display_data"
        },
        {
          "data": {
            "image/png": "[encoded data removed]",
            "text/plain": [
              "<Figure size 432x288 with 2 Axes>"
            ]
          },
          "metadata": {
            "needs_background": "light"
          },
          "output_type": "display_data"
        },
        {
          "data": {
            "image/png": "[encoded data removed]",
            "text/plain": [
              "<Figure size 432x288 with 2 Axes>"
            ]
          },
          "metadata": {
            "needs_background": "light"
          },
          "output_type": "display_data"
        },
        {
          "data": {
            "image/png": "[encoded data removed]",
            "text/plain": [
              "<Figure size 432x288 with 2 Axes>"
            ]
          },
          "metadata": {
            "needs_background": "light"
          },
          "output_type": "display_data"
        }
      ],
      "source": [
        "# Plotting attention weights for 4 test samples\n",
        "for i in (range(10,16)):\n",
        "    eng_predicted = predict(test_data_ita[i], model_concat, plot_att = True)"
      ]
    },
    {
      "cell_type": "code",
      "execution_count": null,
      "metadata": {
        "colab": {
          "base_uri": "https://localhost:8080/"
        },
        "id": "H7ngu3EtO_vg",
        "outputId": "09630890-2c9a-4605-bb8b-4e81172d9e45"
      },
      "outputs": [
        {
          "name": "stderr",
          "output_type": "stream",
          "text": [
            "100%|██████████| 1000/1000 [01:26<00:00, 11.51it/s]"
          ]
        },
        {
          "name": "stdout",
          "output_type": "stream",
          "text": [
            "For concat scoring function model - \n",
            "\n",
            "Avg BLEU Score for 1000 samples: 0.5415\n"
          ]
        },
        {
          "name": "stderr",
          "output_type": "stream",
          "text": [
            "\n"
          ]
        }
      ],
      "source": [
        "# BLEU score for 1000 test samples\n",
        "blue_scores = []\n",
        "for i in tqdm(range(len(test_data_ita))):\n",
        "    eng_predicted = predict(test_data_ita[i], model_concat)\n",
        "    score = bleu_score.sentence_bleu([test_data_eng_out[i][0:-6].split()], eng_predicted[0:-6].split())\n",
        "    blue_scores.append(score)\n",
        "\n",
        "print(\"For concat scoring function model - \")\n",
        "print(f\"\\nAvg BLEU Score for 1000 samples: {np.round(np.mean(blue_scores), 4)}\")"
      ]
    },
    {
      "cell_type": "code",
      "execution_count": 3,
      "metadata": {
        "colab": {
          "base_uri": "https://localhost:8080/"
        },
        "id": "Ff1lV0ITM6_p",
        "outputId": "941c6af4-c02f-4f4a-9555-3cc3b13ec576"
      },
      "outputs": [
        {
          "name": "stdout",
          "output_type": "stream",
          "text": [
            "Models Summary: \n",
            "+----------------------+--------+-----------------------+\n",
            "| Attention Score Type |  Loss  | Validation BLEU Score |\n",
            "+----------------------+--------+-----------------------+\n",
            "|     No attention     | 0.0745 |         0.2602        |\n",
            "|      Dot Score       | 0.1147 |         0.4468        |\n",
            "|    General Score     | 0.0671 |         0.559         |\n",
            "|     Concat Score     | 0.0683 |         0.5415        |\n",
            "+----------------------+--------+-----------------------+\n"
          ]
        }
      ],
      "source": [
        "# Write your observations on each of the scoring function\n",
        "from prettytable import PrettyTable\n",
        "\n",
        "tab = PrettyTable(field_names = [\"Attention Score Type\", \"Loss\", \"Validation BLEU Score\"])\n",
        "tab.add_rows([[\"No attention\", 0.0745, 0.2602],\n",
        "             [\"Dot Score\", 0.1147, 0.4468], \n",
        "             [\"General Score\", 0.0671, 0.559],\n",
        "             [\"Concat Score\", 0.0683, 0.5415]])\n",
        "print(\"Models Summary: \")\n",
        "print(tab)"
      ]
    },
    {
      "attachments": {},
      "cell_type": "markdown",
      "metadata": {
        "id": "p-wcgIqaqKC5"
      },
      "source": [
        "**Observations -**\n",
        "\n",
        "1. Encoder-Decoder models with Attention showed significant improvement in the BLEU score over non-attention model.\n",
        "2. We used three scoring methods (Dot, General and Concat) for attention models.\n",
        "3. Comparison of BLEU score for scoring methods : General Score > Concat Score > Dot Score\n",
        "4. General Score and Concat Score Attention models showed similar performance. They are better than than Dot Scoring attention since they have more no of trainable attention parameters. \n",
        "5. In Concat Scoring, value of K could be increased to increase no of trainable attention parameters which might increase the performance of the model. "
      ]
    }
  ],
  "metadata": {
    "colab": {
      "collapsed_sections": [],
      "name": "31_Attention_Mechanism.ipynb",
      "provenance": []
    },
    "gpuClass": "standard",
    "kernelspec": {
      "display_name": "Python 3",
      "language": "python",
      "name": "python3"
    },
    "language_info": {
      "codemirror_mode": {
        "name": "ipython",
        "version": 3
      },
      "file_extension": ".py",
      "mimetype": "text/x-python",
      "name": "python",
      "nbconvert_exporter": "python",
      "pygments_lexer": "ipython3",
      "version": "3.7.4"
    }
  },
  "nbformat": 4,
  "nbformat_minor": 0
}
